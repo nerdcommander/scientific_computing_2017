{
 "cells": [
  {
   "cell_type": "markdown",
   "metadata": {},
   "source": [
    "# Lesson18 Individual Assignment"
   ]
  },
  {
   "cell_type": "markdown",
   "metadata": {},
   "source": [
    "***Individual*** means that you do it yourself. You won't learn to code if you don't ***struggle for yourself*** and  ***write your own*** code. Remember that while you can discuss the general (algorithmic) way to solve a problem, you should ***not*** even be looking at anyone else's code or showing anyone else your code for an individual assignment.  \n",
    "Review the **Group Work** guidelines on Cavas and/or ask an instructor if you have any questions."
   ]
  },
  {
   "cell_type": "markdown",
   "metadata": {},
   "source": [
    "## Programming Practice"
   ]
  },
  {
   "cell_type": "markdown",
   "metadata": {},
   "source": [
    "Be sure to spell all function names ***correctly*** - misspelled functions will lose points (and often break anyway since no one is sure what to type to call it). If you prefer showing your earlier, scratch work as you figure out what you are doing, please be sure that you make a final, complete, correct last function in its own cell that you then call several times to test. In other words, separate your thought process/working versions from the final one (a comment that tells us which is the final version would be lovely).\n",
    "\n",
    "Every function should have ***at least*** a docstring at the start that states what it does (see _Lesson3 Team Notebook_ if you need a reminder). Make other comments as necessary.  \n",
    "\n",
    "Make sure that you are running ***test cases (plural)*** for everything and commenting on the results in markdown. Your comments should discuss how you know that the test case results are correct."
   ]
  },
  {
   "cell_type": "markdown",
   "metadata": {},
   "source": [
    "## part 1:  Sampling"
   ]
  },
  {
   "cell_type": "markdown",
   "metadata": {},
   "source": [
    "**A. Before you code**, we need to set up the model:\n",
    "\n",
    "In this activity, we're going to look at the effect of sampling on summary statistics.  \n",
    "Sampling is when we select a number of individuals out of a larger population.   \n",
    "There are many sampling strategies, and sampling is used daily in most science experiments and data analysis. We will be looking at a \"simple random sample\" where we select our sample, well, randomly. This fits in nicely with what we've been doing with random numbers.\n",
    "\n",
    "**Let's go**  \n",
    "***run the code in the cells below and look at the comments to see what it does***"
   ]
  },
  {
   "cell_type": "code",
   "execution_count": null,
   "metadata": {
    "collapsed": true
   },
   "outputs": [],
   "source": [
    "## import libraries we need\n",
    "import numpy as np\n",
    "import matplotlib.pyplot as plt"
   ]
  },
  {
   "cell_type": "code",
   "execution_count": null,
   "metadata": {
    "collapsed": true
   },
   "outputs": [],
   "source": [
    "## makes our population of 10,000 numbers from 1-100 \n",
    "## you might get a warning that this function is deprecated, but it still works\n",
    "population = np.random.random_integers(1, high=100, size=10000)"
   ]
  },
  {
   "cell_type": "code",
   "execution_count": null,
   "metadata": {
    "collapsed": true
   },
   "outputs": [],
   "source": [
    "## look at 1st 25 (don't print out all 10,000!)\n",
    "population[1:25]"
   ]
  },
  {
   "cell_type": "markdown",
   "metadata": {},
   "source": [
    "**notice** that the `population` is an `array` which is a numpy data type that has elements of list-like and tuple-like behavior. If you want more info, here is some [more info from the NumPy docs](https://docs.scipy.org/doc/numpy/user/quickstart.html#the-basics). We will do more with arrays later. For now the best part is that w ecan easily do mathematical operations on an array without looping through the elements (thank you NumPy!). Also, a hint for later, if you want "
   ]
  },
  {
   "cell_type": "code",
   "execution_count": null,
   "metadata": {
    "collapsed": true
   },
   "outputs": [],
   "source": [
    "## confirm the data type\n",
    "type(population)"
   ]
  },
  {
   "cell_type": "code",
   "execution_count": null,
   "metadata": {
    "collapsed": true
   },
   "outputs": [],
   "source": [
    "## for example, if we want the population mean\n",
    "population.mean()"
   ]
  },
  {
   "cell_type": "code",
   "execution_count": null,
   "metadata": {
    "collapsed": true
   },
   "outputs": [],
   "source": [
    "## or, if we want the population standard deviation\n",
    "population.std()"
   ]
  },
  {
   "cell_type": "code",
   "execution_count": null,
   "metadata": {
    "collapsed": true
   },
   "outputs": [],
   "source": [
    "## you try with .min() and .max()\n"
   ]
  },
  {
   "cell_type": "code",
   "execution_count": null,
   "metadata": {
    "collapsed": true
   },
   "outputs": [],
   "source": [
    "## make a histogram of the population\n",
    "%matplotlib inline\n",
    "\n"
   ]
  },
  {
   "cell_type": "markdown",
   "metadata": {},
   "source": [
    "**1\\.** What type of distribution do we have in the `population`?"
   ]
  },
  {
   "cell_type": "markdown",
   "metadata": {},
   "source": []
  },
  {
   "cell_type": "markdown",
   "metadata": {},
   "source": [
    "**B. Define a `sample_means` function that:**\n",
    "+ takes 2 parameters - `n` = the number of samples, and `p` = the number of individuals in each sample \n",
    "    + for example, n=100, p=10 would be 100 samples with 10 numbers in each sample\n",
    "    +(_hint_ look at `numpy.random.choice`)\n",
    "+ returns nothing\n",
    "+ your `sample_means` function should: \n",
    "    + use the population that we have defined above\n",
    "    + print the mean, standard deviation, minimum, and maximum of the collection of samples (`n`) in a user friendly way\n",
    "        + put another way, the mean of the means, the std of the means, etc.\n",
    "        + (_hint_ using a `np.array` will make your life easier for these calcs)\n",
    "    + plot a histogram of the the means of the samples\n",
    "\n",
    "***then test*** your `sample_means` function with:\n",
    "+ n=100, p=10\n",
    "+ n=10, p=100\n",
    "+ n=100, p=100\n",
    "+ ***at least 3 more*** test cases of your choice"
   ]
  },
  {
   "cell_type": "code",
   "execution_count": null,
   "metadata": {
    "collapsed": true
   },
   "outputs": [],
   "source": []
  },
  {
   "cell_type": "markdown",
   "metadata": {},
   "source": [
    "**2\\.** Once you are done testing. Look at your results and comment on what happens to the shape of the distribution and the 4 summary statistics that you print for each simulation."
   ]
  },
  {
   "cell_type": "markdown",
   "metadata": {},
   "source": [
    "**3\\.** Compare the values of the summary statsitics and the shape of the distributions that you got from your tests to the values from the whole `population`. Explain what you observe."
   ]
  },
  {
   "cell_type": "markdown",
   "metadata": {},
   "source": [
    "**4\\.** Provide some general conclusions about the simple random sampling that you simulated."
   ]
  },
  {
   "cell_type": "markdown",
   "metadata": {},
   "source": [
    "## part 2: Histogram Challenge!"
   ]
  },
  {
   "cell_type": "markdown",
   "metadata": {},
   "source": [
    "Your mission, should you choose to accept it, is to get as far as you can in ***replicating*** the histogram below:\n",
    "\n",
    "![histo](https://github.com/nerdcommander/scientific_computing_2017/raw/master/lesson18/fly_wing_histo_v3.png)\n",
    "\n",
    "\n",
    "***A note*** to my fellow graphing obsessives and the overwhelmed:  \n",
    "Do the best you can, but this question is worth 15 pts and if you get the data graphed and the thing labeled reasonably, you'll get **a lot** of partial credit. We just wanted to throw out a challenge that pushed your graphing and formatting skills.  \n",
    "\n",
    "***First*** run the code below to get the data, then you're on your own! (make sure the data file `fly_wings_v2.csv` from canvas is in the same directory as this notebook)"
   ]
  },
  {
   "cell_type": "code",
   "execution_count": null,
   "metadata": {
    "collapsed": true
   },
   "outputs": [],
   "source": [
    "## import the data from csv into a pandas DataFrame\n",
    "import pandas as pd\n",
    "wings = pd.read_csv('fly_wings_v2.csv')"
   ]
  }
 ],
 "metadata": {
  "anaconda-cloud": {},
  "kernelspec": {
   "display_name": "Python 3",
   "language": "python",
   "name": "python3"
  },
  "language_info": {
   "codemirror_mode": {
    "name": "ipython",
    "version": 3
   },
   "file_extension": ".py",
   "mimetype": "text/x-python",
   "name": "python",
   "nbconvert_exporter": "python",
   "pygments_lexer": "ipython3",
   "version": "3.6.1"
  }
 },
 "nbformat": 4,
 "nbformat_minor": 1
}
