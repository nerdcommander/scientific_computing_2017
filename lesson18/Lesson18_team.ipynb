{
 "cells": [
  {
   "cell_type": "markdown",
   "metadata": {
    "collapsed": true
   },
   "source": [
    "# Unit 3: Simulation"
   ]
  },
  {
   "cell_type": "markdown",
   "metadata": {},
   "source": [
    "## Lesson 18: Non-uniform distributions"
   ]
  },
  {
   "cell_type": "markdown",
   "metadata": {},
   "source": [
    "## Notebook Authors "
   ]
  },
  {
   "cell_type": "markdown",
   "metadata": {},
   "source": [
    "_(fill in your two names here)_"
   ]
  },
  {
   "cell_type": "markdown",
   "metadata": {},
   "source": [
    "Facilitator: _(fill in name)_  \n",
    "Spokesperson: _(fill in name)_  \n",
    "Process Analyst: _(fill in name)_  \n",
    "Quality Control: _(fill in name)_  \n",
    "\n",
    "If there are only three people in your group, have one person serve as both spokesperson and process analyst for the rest of this activity.  \n",
    "\n",
    "At the end of this Lesson, you will be asked to record how long each Model required for your team. The Facilitator should keep track of time for your team."
   ]
  },
  {
   "cell_type": "markdown",
   "metadata": {},
   "source": [
    "## Computational Focus: Non-uniform distributions"
   ]
  },
  {
   "cell_type": "markdown",
   "metadata": {},
   "source": [
    "As we saw in the previous lesson, a uniform random number distribution can be easily generated and shifted appropriately using Python. Some applications, however, may require a series of random numbers that are not distributed uniformly.  For example, the probability for a system to be at particular energy level as a function of temperature is given by an exponential distribution, the velocities of an ideal gas at a particular temperature follow a Gaussian (normal) distribution, and many environmental, behavioral, and genetic data sets are modeled using these and other non-uniform distributions.  This lesson will use two different procedures for creating any desired distribution of random numbers using a uniform random-number generator. \n",
    "![distributions](https://raw.githubusercontent.com/nerdcommander/scientific_computing_2017/master/lesson18/distribution_figs.png)"
   ]
  },
  {
   "cell_type": "markdown",
   "metadata": {},
   "source": [
    "### Model 1: Random seed \n",
    "Random number functions are really an equation that takes a number input (referred to as the `seed`) and produces a new number as output. When you do not specify the `seed` (as we have not so far) Python the uses the current system time to set the seed.\n",
    "\n",
    "Let's look at this briefly. ***Run the code below.***"
   ]
  },
  {
   "cell_type": "code",
   "execution_count": null,
   "metadata": {
    "collapsed": true
   },
   "outputs": [],
   "source": [
    "import time"
   ]
  },
  {
   "cell_type": "code",
   "execution_count": null,
   "metadata": {
    "collapsed": true
   },
   "outputs": [],
   "source": [
    "time.time()"
   ]
  },
  {
   "cell_type": "markdown",
   "metadata": {},
   "source": [
    "1\\. Describe the results."
   ]
  },
  {
   "cell_type": "markdown",
   "metadata": {},
   "source": [
    "***Now run*** `time.time()` again below."
   ]
  },
  {
   "cell_type": "code",
   "execution_count": null,
   "metadata": {
    "collapsed": true
   },
   "outputs": [],
   "source": []
  },
  {
   "cell_type": "markdown",
   "metadata": {},
   "source": [
    "2\\. Describe the results and compare them to the first `time.time()` call."
   ]
  },
  {
   "cell_type": "markdown",
   "metadata": {},
   "source": [
    "***Read*** the info on the `time` module here: http://www.tutorialspoint.com/python3/python_date_time.htm"
   ]
  },
  {
   "cell_type": "markdown",
   "metadata": {},
   "source": [
    "3\\. Explain the output of the `time.time()` function calls (what is that number, how and why are the results of the two calls different, etc.)."
   ]
  },
  {
   "cell_type": "markdown",
   "metadata": {},
   "source": [
    "Just in case you ever want to know what time it is, computers can give you a more human readable format (and if you're ever really interested, Python also has the `datetime` library that has a lot of super useful tools).\n",
    "***Run the code below.***"
   ]
  },
  {
   "cell_type": "code",
   "execution_count": null,
   "metadata": {
    "collapsed": true
   },
   "outputs": [],
   "source": [
    "## gets the time, still not very human readable\n",
    "time.localtime()"
   ]
  },
  {
   "cell_type": "code",
   "execution_count": null,
   "metadata": {
    "collapsed": true
   },
   "outputs": [],
   "source": [
    "## formats the time nicely\n",
    "time.asctime(time.localtime())"
   ]
  },
  {
   "cell_type": "markdown",
   "metadata": {},
   "source": [
    "_But_ we digress. Back to random numbers..."
   ]
  },
  {
   "cell_type": "markdown",
   "metadata": {},
   "source": [
    "The default seed for the first Python random number generator is actually set by the computer (based on the computer time). Then with each subsequent call for a new random number, the previous random number produced is used as the seed for the next number in the sequence. "
   ]
  },
  {
   "cell_type": "markdown",
   "metadata": {},
   "source": [
    "4\\. If the next random number is generated using the one before it, why isn't the series the same every time? (answer the question, then write and run some code to demonstrate what you mean)"
   ]
  },
  {
   "cell_type": "markdown",
   "metadata": {},
   "source": []
  },
  {
   "cell_type": "code",
   "execution_count": null,
   "metadata": {
    "collapsed": true
   },
   "outputs": [],
   "source": [
    "## series of random numbers doesn't repeat\n"
   ]
  },
  {
   "cell_type": "markdown",
   "metadata": {},
   "source": [
    "Often this is perfectly fine. But sometimes, we want to be able to reproduce our random sample to repeat our analysis, show someone else our code and have the results be indentical, etc.  \n",
    "\n",
    "If you want a reproducible sequence of random numbers, you can specifically set the seed for the random number sequence using the `seed()` function.    \n",
    "\n",
    "***Type the following each in it's own:***  \n",
    "```python\n",
    "random.seed(100)\n",
    "random.random()\n",
    "random.random()\n",
    "random.seed(100)\n",
    "random.random()\n",
    "```\n"
   ]
  },
  {
   "cell_type": "markdown",
   "metadata": {},
   "source": [
    "5\\. Explain the difference between the 1st and 2nd call to `random.random()`."
   ]
  },
  {
   "cell_type": "markdown",
   "metadata": {},
   "source": [
    "6\\. Explain the difference between the 3rd call to `random.random()` and the 1st two calls to `random.random()`."
   ]
  },
  {
   "cell_type": "markdown",
   "metadata": {},
   "source": [
    "7\\. Describe one advantage to a \"scientific programmer\" of setting the same seed each time some code is run. "
   ]
  },
  {
   "cell_type": "markdown",
   "metadata": {},
   "source": [
    "8\\. Describe one reason that you think a \"scientific programmer\" would *not* want to set the same seed each time some code is run. "
   ]
  },
  {
   "cell_type": "markdown",
   "metadata": {},
   "source": [
    "### Model 2: Transforming distributions"
   ]
  },
  {
   "cell_type": "markdown",
   "metadata": {},
   "source": [
    "### preliminaries  \n",
    "So far we have made uniform random number distributions and shifted them. Before we start transforming them. Use the code cells below (add as necessary) to ***write and run*** code that:\n",
    "+ makes 1000 uniform random numbers\n",
    "+ plots a histogram of those numbers\n",
    "+ shifts those numbers to a different interval\n",
    "+ plots a histogram of the shifted numbers\n",
    "\n",
    "***Label the axes on your graphs and either provide a title or a caption***  \n",
    "**Also make sure to comment your code heavily to explain what it does!**"
   ]
  },
  {
   "cell_type": "code",
   "execution_count": null,
   "metadata": {
    "collapsed": true
   },
   "outputs": [],
   "source": []
  },
  {
   "cell_type": "code",
   "execution_count": null,
   "metadata": {
    "collapsed": true
   },
   "outputs": [],
   "source": []
  },
  {
   "cell_type": "markdown",
   "metadata": {},
   "source": [
    "9\\. Explain the thought process that you used to program the interval shift."
   ]
  },
  {
   "cell_type": "markdown",
   "metadata": {},
   "source": [
    "### transformations  \n",
    "If we want to simulate a system that is described by exponential decay (bottom right graph in intro) such as the half-life of a radioactive isotope or the half-life of a drug in an organism, we have to transform our uniform distribution to an exponential one.  \n",
    "One simple way to do this is using the transofrmation function below:  \n",
    "$$ y = -ln(x) $$  \n",
    "where $x$ is our random number between 0 and 1.  \n",
    "(_Note:_ we'll see other ways to get the same result soon)  \n",
    "\n",
    "***write and run*** code below that:  \n",
    "+ makes 1000 uniform random numbers\n",
    "+ plots a histogram of those numbers\n",
    "+ transforms those numbers to an exponential distribution\n",
    "+ plots a histogram of the transformed numbers  \n",
    "+ make a second histogram with more numbers and more bins\n",
    "  \n",
    "***Label the axes on your graphs and either provide a title or a caption***  \n",
    "**Also make sure to comment your code heavily to explain what it does!**"
   ]
  },
  {
   "cell_type": "code",
   "execution_count": null,
   "metadata": {
    "collapsed": true
   },
   "outputs": [],
   "source": []
  },
  {
   "cell_type": "code",
   "execution_count": null,
   "metadata": {
    "collapsed": true
   },
   "outputs": [],
   "source": []
  },
  {
   "cell_type": "markdown",
   "metadata": {},
   "source": [
    "10\\. Explain the thought process that you used to program the transformation."
   ]
  },
  {
   "cell_type": "markdown",
   "metadata": {},
   "source": [
    "### Model 3: Built in distribution methods"
   ]
  },
  {
   "cell_type": "markdown",
   "metadata": {},
   "source": [
    "Don't get mad, but Python has several very useful collections of random number generating and distribution functions either built in or in libraries! Here is a list for reference:  \n",
    "+ [Python random module](https://docs.python.org/3.5/library/random.html)\n",
    "+ [numpy.random](https://docs.scipy.org/doc/numpy/reference/routines.random.html)\n",
    "+ [scipy.stats](https://docs.scipy.org/doc/scipy/reference/stats.html)  \n",
    "(_Note:_ when you want to use these you need to `import` them)\n",
    "\n",
    "***write and run*** code below that:  \n",
    "+ for 2 different normal (Gaussian) distributions (one \"standard\" normal and one with a different $\\mu$ and $\\sigma$)\n",
    "    + makes 1000 random numbers using that distribution\n",
    "    + plots a histogram of those numbers\n",
    "    + makes at least 10000 random numbers using that distribution\n",
    "    + plots a histogram of the increased number of numbers\n",
    "    + plots a histogram of the previous with more bins\n",
    "+ for 2 different, other distributions\n",
    "    + same list as above\n",
    "\n",
    "***Also, include a markdown cell for each distribution*** that explains it and includes at least a reference. (you should have 3 explanations - 1 for normal, and 2 of your choice)\n",
    "\n",
    "***Note:*** make sure that you are using the *discrete* version of anything fancy that you use (especially from `scipy.stats`) to make a histogram. (not the `pdf`, if you don't know what we mean, that's ok, just make sure you get values that you can use for a histogram, not a function that plots as a line)\n",
    "\n",
    "***Label the axes on your graphs and either provide a title or a caption***\n",
    "**Also make sure to comment your code heavily to explain what it does!**"
   ]
  },
  {
   "cell_type": "markdown",
   "metadata": {},
   "source": []
  },
  {
   "cell_type": "code",
   "execution_count": null,
   "metadata": {
    "collapsed": true
   },
   "outputs": [],
   "source": []
  },
  {
   "cell_type": "code",
   "execution_count": null,
   "metadata": {
    "collapsed": true
   },
   "outputs": [],
   "source": []
  },
  {
   "cell_type": "markdown",
   "metadata": {},
   "source": []
  },
  {
   "cell_type": "code",
   "execution_count": null,
   "metadata": {
    "collapsed": true
   },
   "outputs": [],
   "source": []
  },
  {
   "cell_type": "markdown",
   "metadata": {},
   "source": []
  },
  {
   "cell_type": "code",
   "execution_count": null,
   "metadata": {
    "collapsed": true
   },
   "outputs": [],
   "source": []
  },
  {
   "cell_type": "markdown",
   "metadata": {},
   "source": [
    "### Temporal Analysis Report"
   ]
  },
  {
   "cell_type": "markdown",
   "metadata": {},
   "source": [
    "How much time did it require for your team to complete each Model?"
   ]
  },
  {
   "cell_type": "markdown",
   "metadata": {},
   "source": [
    "Model 1: "
   ]
  },
  {
   "cell_type": "markdown",
   "metadata": {},
   "source": [
    "Model 2:"
   ]
  },
  {
   "cell_type": "markdown",
   "metadata": {},
   "source": [
    "Model 3:"
   ]
  }
 ],
 "metadata": {
  "anaconda-cloud": {},
  "kernelspec": {
   "display_name": "Python 3",
   "language": "python",
   "name": "python3"
  },
  "language_info": {
   "codemirror_mode": {
    "name": "ipython",
    "version": 3
   },
   "file_extension": ".py",
   "mimetype": "text/x-python",
   "name": "python",
   "nbconvert_exporter": "python",
   "pygments_lexer": "ipython3",
   "version": "3.6.1"
  }
 },
 "nbformat": 4,
 "nbformat_minor": 2
}
