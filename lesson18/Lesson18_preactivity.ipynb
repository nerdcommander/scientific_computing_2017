{
 "cells": [
  {
   "cell_type": "markdown",
   "metadata": {
    "collapsed": true
   },
   "source": [
    "# Unit 3: Simulation\n",
    "## Lesson 18: Non-uniform Distributions - Pre-activity "
   ]
  },
  {
   "cell_type": "markdown",
   "metadata": {},
   "source": [
    "### Scientific Context: Iteration"
   ]
  },
  {
   "cell_type": "markdown",
   "metadata": {},
   "source": [
    "In Lesson 17, we saw that a uniform random-number distribution can be easily generated and shifted appropriately. \n",
    "Some applications, however, may require a series of random numbers that are not distributed uniformly. Some common non-uniform distributions include (but are not limited to):\n",
    "+ exponential distribution\n",
    "+ Gaussian distribution (aka normal distribution)\n",
    "+ binomial distribution\n",
    "+ chi-square distribution"
   ]
  },
  {
   "cell_type": "markdown",
   "metadata": {},
   "source": [
    "If we graph a uniform distribution with a histogram, we expect to see several bars of approximately the same height, such as:   \n",
    "\n",
    "![alt text](https://upload.wikimedia.org/wikipedia/commons/2/22/Histogram_showing_uniform_distribution.jpg \"Uniform Distribution\")\n"
   ]
  },
  {
   "cell_type": "markdown",
   "metadata": {},
   "source": [
    "### Pre-Activity Questions"
   ]
  },
  {
   "cell_type": "markdown",
   "metadata": {},
   "source": [
    "**1\\.** Insert an example graph of a Gaussian distribution (you can search online and insert the image in the notebook, or you can sketch the graph on paper and turn it in at the start of class). If you plan to turn it in on paper, write: \"turned in on paper\" here."
   ]
  },
  {
   "cell_type": "markdown",
   "metadata": {
    "collapsed": true
   },
   "source": []
  },
  {
   "cell_type": "markdown",
   "metadata": {},
   "source": [
    "**2\\.** Insert an example graph of an exponential distribution (you can search online and insert the image in the notebook, or you can sketch the graph on paper and turn it in at the start of class). If you plan to turn it in on paper, write: \"turned in on paper\" here."
   ]
  },
  {
   "cell_type": "markdown",
   "metadata": {
    "collapsed": true
   },
   "source": []
  },
  {
   "cell_type": "markdown",
   "metadata": {},
   "source": [
    "**3\\.** Provide an example of a scientific application where the data follows a non-uniform distribution or some scientific phenomenon is modeled using a a non-uniform distribution. Give your best description of both the application and the distribution that it follows."
   ]
  },
  {
   "cell_type": "markdown",
   "metadata": {
    "collapsed": true
   },
   "source": []
  }
 ],
 "metadata": {
  "anaconda-cloud": {},
  "kernelspec": {
   "display_name": "Python [default]",
   "language": "python",
   "name": "python3"
  },
  "language_info": {
   "codemirror_mode": {
    "name": "ipython",
    "version": 3
   },
   "file_extension": ".py",
   "mimetype": "text/x-python",
   "name": "python",
   "nbconvert_exporter": "python",
   "pygments_lexer": "ipython3",
   "version": "3.5.2"
  }
 },
 "nbformat": 4,
 "nbformat_minor": 1
}
