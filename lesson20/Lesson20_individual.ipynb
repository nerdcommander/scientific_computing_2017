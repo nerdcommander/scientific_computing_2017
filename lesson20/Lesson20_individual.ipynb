{
 "cells": [
  {
   "cell_type": "code",
   "execution_count": null,
   "metadata": {
    "collapsed": true
   },
   "outputs": [],
   "source": [
    "# Lesson 20 Individual Assignment"
   ]
  },
  {
   "cell_type": "markdown",
   "metadata": {},
   "source": [
    "***Individual*** means that you do it yourself. You won't learn to code if you don't ***struggle for yourself*** and  ***write your own*** code. Remember that while you can discuss the general (algorithmic) way to solve a problem, you should ***not*** even be looking at anyone else's code or showing anyone else your code for an individual assignment.  \n",
    "Review the **Group Work** guidelines on Cavas and/or ask an instructor if you have any questions."
   ]
  },
  {
   "cell_type": "markdown",
   "metadata": {},
   "source": [
    "## Programming Practice"
   ]
  },
  {
   "cell_type": "markdown",
   "metadata": {},
   "source": [
    "Be sure to spell all function names ***correctly*** - misspelled functions will lose points (and often break anyway since no one is sure what to type to call it). If you prefer showing your earlier, scratch work as you figure out what you are doing, please be sure that you make a final, complete, correct last function in its own cell that you then call several times to test. In other words, separate your thought process/working versions from the final one (a comment that tells us which is the final version would be lovely).\n",
    "\n",
    "Every function should have ***at least*** a docstring at the start that states what it does (see _Lesson3 Team Notebook_ if you need a reminder). Make other comments as necessary.  \n",
    "\n",
    "Make sure that you are running ***test cases (plural)*** for everything and commenting on the results in markdown. Your comments should discuss how you know that the test case results are correct."
   ]
  },
  {
   "cell_type": "markdown",
   "metadata": {
    "collapsed": true
   },
   "source": [
    "## Part 1: Simulation History"
   ]
  },
  {
   "cell_type": "markdown",
   "metadata": {},
   "source": [
    "Copy your `Rbox` class definition from Lesson20 Team below, and quickly double check that it works. (_If_ you didn't finish it in the Team Notebook, finish it here and now.)"
   ]
  },
  {
   "cell_type": "code",
   "execution_count": null,
   "metadata": {
    "collapsed": true
   },
   "outputs": [],
   "source": []
  },
  {
   "cell_type": "code",
   "execution_count": null,
   "metadata": {
    "collapsed": true
   },
   "outputs": [],
   "source": []
  },
  {
   "cell_type": "markdown",
   "metadata": {},
   "source": [
    "A. Modify your `RBox` `constructor` and the `run_simulation` method so they create and modify the one list that must be created during the simulation to keep track of the history (should be in your answers to Critical Thinking questions in Lesson20 Team). This list must be saved as an instance variable.  \n",
    "Perform some intermediate testing to make sure this list is working correctly (by printing, etc.) but make sure to comment it out once ou are sure that it works well."
   ]
  },
  {
   "cell_type": "code",
   "execution_count": null,
   "metadata": {
    "collapsed": true
   },
   "outputs": [],
   "source": []
  },
  {
   "cell_type": "code",
   "execution_count": null,
   "metadata": {
    "collapsed": true
   },
   "outputs": [],
   "source": []
  },
  {
   "cell_type": "markdown",
   "metadata": {},
   "source": [
    "B. Define a `plot_history` method that takes no parameters besides `self`.  \n",
    "Inside this new method, create any/all lists that may be created immediately before plotting.  \n",
    "Lists created here do not need to be an instance variable because they will only used by the `plot_history` method.  \n",
    "Next, add the Python code to create a line plot of your simulation history using the matplotlib `plot` method to your `plot_history` method.  \n",
    "This new method will make it easier to quickly create plots using different input parameters for comparison.  "
   ]
  },
  {
   "cell_type": "code",
   "execution_count": null,
   "metadata": {
    "collapsed": true
   },
   "outputs": [],
   "source": []
  },
  {
   "cell_type": "markdown",
   "metadata": {},
   "source": [
    "Make sure to ***run a few test cases*** to make sure that your code works and makes interpretable plots that make sense."
   ]
  },
  {
   "cell_type": "code",
   "execution_count": null,
   "metadata": {
    "collapsed": true
   },
   "outputs": [],
   "source": []
  },
  {
   "cell_type": "markdown",
   "metadata": {},
   "source": [
    "***Comment on/briefly explain*** your results."
   ]
  },
  {
   "cell_type": "markdown",
   "metadata": {},
   "source": []
  },
  {
   "cell_type": "markdown",
   "metadata": {},
   "source": [
    "## Part 2: Analysis  \n",
    "In this section, you will use the results of the simulations that you generate using your `Rbox` class to look at how the system works and start thinking about modeling equilibrium. In a later lesson, we'll add code for some informative descriptive simulation statistics."
   ]
  },
  {
   "cell_type": "markdown",
   "metadata": {},
   "source": [
    "C. Describe how the simulation history changes over time. Provide graph(s) from your code to support your discussion."
   ]
  },
  {
   "cell_type": "markdown",
   "metadata": {},
   "source": [
    "D. Run simulations for the number of particles, N, where N = 16, 64, 400, 800, and 3600 (leave the time constant). How do the results of your simulation depend on the total number of particles, N?  "
   ]
  },
  {
   "cell_type": "markdown",
   "metadata": {},
   "source": [
    "E. When does the system reach equilibrium? Both describe the situation qualitatively (in words) and using a mathematical expression (which you will later implement in code).  \n",
    "How does the time for the system to reach equilibrium depend on N? Perform a few simulations using your code to evaluate your hypothesis."
   ]
  },
  {
   "cell_type": "markdown",
   "metadata": {},
   "source": [
    "F. Does the number of particles on the left-hand side of the box change when the system is at equilibrium? As a rough measure of the equilibrium fluctuations, use your code and the graphs it produces to visually estimate the deviation of number of particles on the left-hand side of the box from equilibrium for N = 16, 64, 400, 800, and 3600? Choose a time interval that is twice as long as the estimated time needed to reach equilibrium. How do your results for the deviation from equilibrium depend on N?"
   ]
  },
  {
   "cell_type": "code",
   "execution_count": null,
   "metadata": {
    "collapsed": true
   },
   "outputs": [],
   "source": []
  }
 ],
 "metadata": {
  "anaconda-cloud": {},
  "kernelspec": {
   "display_name": "Python [default]",
   "language": "python",
   "name": "python3"
  },
  "language_info": {
   "codemirror_mode": {
    "name": "ipython",
    "version": 3
   },
   "file_extension": ".py",
   "mimetype": "text/x-python",
   "name": "python",
   "nbconvert_exporter": "python",
   "pygments_lexer": "ipython3",
   "version": "3.5.2"
  }
 },
 "nbformat": 4,
 "nbformat_minor": 2
}
