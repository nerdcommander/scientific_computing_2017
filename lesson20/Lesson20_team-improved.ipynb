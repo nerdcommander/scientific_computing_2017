{
 "cells": [
  {
   "cell_type": "markdown",
   "metadata": {
    "collapsed": true
   },
   "source": [
    "# Unit 3: Simulations"
   ]
  },
  {
   "cell_type": "markdown",
   "metadata": {},
   "source": [
    "## Lesson 20: Equilibrium"
   ]
  },
  {
   "cell_type": "markdown",
   "metadata": {},
   "source": [
    "## Notebook Authors "
   ]
  },
  {
   "cell_type": "markdown",
   "metadata": {},
   "source": [
    "_(fill in your two names here)_"
   ]
  },
  {
   "cell_type": "markdown",
   "metadata": {},
   "source": [
    "## Team Roles"
   ]
  },
  {
   "cell_type": "markdown",
   "metadata": {},
   "source": [
    "Facilitator: _(fill in name)_  \n",
    "Spokesperson: _(fill in name)_  \n",
    "Process Analyst: _(fill in name)_  \n",
    "Quality Control: _(fill in name)_  \n",
    "\n",
    "If there are only three people in your team, have one person serve as both spokesperson and process analyst for the rest of this activity.<p>\n",
    "At the end of this Lesson, you will be asked to record how long each Model required for your team. The _Facilitator_ should keep track of time for your team."
   ]
  },
  {
   "cell_type": "markdown",
   "metadata": {},
   "source": [
    "## Computational Focus: More Random Processes"
   ]
  },
  {
   "cell_type": "markdown",
   "metadata": {},
   "source": [
    "### Model 1: Simple Gas Diffusion"
   ]
  },
  {
   "cell_type": "markdown",
   "metadata": {},
   "source": [
    "Imagine a closed box that is divided into two parts of equal volume. The left half initially contains $N$ identical particles and the right half is empty. We then make a small hole in the partition between the two halves. What happens?  \n",
    "\n",
    "Since we're using these \"particles\" to approximate atoms of a simple gas, we assume that the particles are moving around in the box randomly. Now that there is a hole, at some point a particle will pass through the hole and be on the right side. \n",
    "\n",
    "![alt text](https://raw.githubusercontent.com/nerdcommander/scientific_computing_2017/master/lesson20/equil_figs1.png \"Gas Diffusion\")  \n",
    "\n",
    "So, over time, particles are all moving randomly and at some rate, they will move from one side to the other. We are going to approximate gasses using this simple system where rather than trying to plot the x and y coordinates of the particles, we're just going to keep track of which side they are on and look at how that changes over time.\n",
    "\n",
    "**More assumptions:** In this system, we assume that the particles do not interact with one another in any way so that the probability per unit time that a particle goes through the hole is the same for all particles regardless of the number of particles in either half. We also assume that the size of the hole is such that one particle passes through the hole in one unit of time (as seen in the diagram above).\n",
    "\n",
    "We will let our system run for a set number of time steps and see what happens. For now, we are not concerned with defining equilibrium in our code, we'll address that point later.\n",
    "\n",
    "### Thinking about how to program the simulation\n",
    "\n",
    "What do you need to know/do?\n",
    "+ how many particles are there total?\n",
    "    + how many are on the left?\n",
    "    + how many are on the right?\n",
    "+ how am I going to keep track of particles?\n",
    "+ how many time steps do I need to do?\n",
    "+ what time step is it now?\n",
    "+ how am I going to keep track of time?\n",
    "\n",
    "The algorithm for simulating the evolution (change over time) of the model can be summarized by the following steps: \n",
    "1. Use a random number generator to choose a particle at random.\n",
    "2. Move this particle from its current side to the opposite side of the box.\n",
    "3. Increase the “time” by one time unit."
   ]
  },
  {
   "cell_type": "markdown",
   "metadata": {},
   "source": [
    "### Critical Thinking Questions"
   ]
  },
  {
   "cell_type": "markdown",
   "metadata": {},
   "source": [
    "1\\. At the start of the simulation:\n",
    "  \n",
    "1a. How many particles should be on the left side of the box?"
   ]
  },
  {
   "cell_type": "markdown",
   "metadata": {},
   "source": [
    "1b. The right side of the box?"
   ]
  },
  {
   "cell_type": "markdown",
   "metadata": {},
   "source": [
    "2\\. Specify the range and type of random numbers required for this algorithm. What distribution would be appropriate?"
   ]
  },
  {
   "cell_type": "markdown",
   "metadata": {},
   "source": [
    "3\\. What information is important to store for each particle?  Describe the variable type and assignment statement that would most efficiently store this information."
   ]
  },
  {
   "cell_type": "markdown",
   "metadata": {},
   "source": [
    "4\\. How might the `seed` method from the Python `random` library be useful in this Monte Carlo simulation?"
   ]
  },
  {
   "cell_type": "markdown",
   "metadata": {},
   "source": [
    "5\\. Consider what control structure(s) you would use (sequential, loop, condition) to implement this simulation and write ***high-level pseudocode*** for this Monte Carlo simulation (between two to five lines). Refer back to the instructions regarding the simulation above in Model1 to make sure you understand the system. There are several strategies that can work.  \n",
    "Show your answers to an instructor before proceeding to Team Programming."
   ]
  },
  {
   "cell_type": "markdown",
   "metadata": {},
   "source": [
    "### Team Programming  \n",
    "Make sure that as you work on these programming tasks, you are using your best **pair programming** technique (both driver and navigator) and switching drivers frequently.  \n",
    "\n",
    "Your code must have ***docstrings and comments*** for you to receive full credit.\n",
    "\n",
    "We are going to use an **Object Oriented Programming** (OOP) approach for this Lesson."
   ]
  },
  {
   "cell_type": "markdown",
   "metadata": {},
   "source": [
    "A. Define a new class called `RBox` and define its constructor.  \n",
    "The constructor should:\n",
    "+ take one additional optional parameter besides the self parameter: the number of particles in the box with a default value of 100 (this is your first instance variable)\n",
    "+ create and initialize the container(s)/tracker(s) for the particles: during the simulation, your function needs to keep track of each particle’s side (L or R) (this will be your second instance variable and maybe more)"
   ]
  },
  {
   "cell_type": "markdown",
   "metadata": {},
   "source": [
    "B. Define a `get_left_count` method in the `RBox` class.  \n",
    "It should take no additional parameters besides the self parameter.  \n",
    "After (and outside) of the `RBox` class definintion cell, write Python code to create a default object of the `RBox` class, and print the number of particles on the left side of the box.  \n",
    "Then create a second object of the `RBox` class with 500 particles, and print its `left count`. Debug your code if necessary."
   ]
  },
  {
   "cell_type": "markdown",
   "metadata": {},
   "source": [
    "C. Define a `get_right_count` method in the `RBox` class.  \n",
    "It should take no additional parameters besides the self parameter.  \n",
    "Your `get_right_count` method should call your `get_left_count` method.  \n",
    "Modify your code and test your new method."
   ]
  },
  {
   "cell_type": "markdown",
   "metadata": {},
   "source": [
    "D. Define a `run_simulation` method that implements the Monte Carlo simulation described in Model1.   \n",
    "Your `run_simulation` method should take one optional parameter besides self. This optional parameter will be the simulation `time` (default value of 1000). The number of time units will dictate the number of iterations for the loop that runs your simulation. And the simulation should run through all of the time steps and not yet address equilibrium (that will come later).    \n",
    "The `run_simulation` should use a random number to determine which particle to move and switch the side of that particle.   \n",
    "This method should not return anything, but you should make calls to get_left_count to check if the code works. Eventually, you will need to comment out these calls when you’ve finished testing and debugging."
   ]
  },
  {
   "cell_type": "markdown",
   "metadata": {},
   "source": [
    "### Critical Thinking Questions"
   ]
  },
  {
   "cell_type": "markdown",
   "metadata": {},
   "source": [
    "6a. Make an object using the default number of particles.  Run the simulation on that object multiple times saving the output of each. As you run the simulation multiple times, explain how/why `left count` differs?"
   ]
  },
  {
   "cell_type": "markdown",
   "metadata": {},
   "source": [
    "6b. Make a few objects changing only the `number of particles` parameter beginning with a small number of particles (around 10), and increasing to a large number of particles (a few thousand). Run the simulation on each object at least 2x) As you run the simulation with more particles, explain how/why `left count` differs?"
   ]
  },
  {
   "cell_type": "markdown",
   "metadata": {},
   "source": [
    "6c. Make a few objects changing only the `time` parameter beginning with a small value for time (around 100), and increasing to a value for time (10000). As you run the simulation for more time, explain how/why `left count` differs?"
   ]
  },
  {
   "cell_type": "markdown",
   "metadata": {},
   "source": []
  },
  {
   "cell_type": "markdown",
   "metadata": {},
   "source": [
    "### Model 2: Walking Skeleton"
   ]
  },
  {
   "cell_type": "markdown",
   "metadata": {},
   "source": [
    "**```\"Start with a Walking Skeleton, keep it running, and grow it incrementally.\"```**  \n",
    "(_from: Clint Shank, 97 Things Every Software Architect Should Know, 2009._)  \n",
    "\n",
    "Designing and implementing a large program is extremely challenging if you write it as one long function. However we can simplify the development process if we divide the code into multiple classes with smaller methods. We can write one method at a time, testing and debugging it completely before proceeding to the next step. \n",
    " \n",
    "How do we decide which methods to write first? It’s best to start with the small program that does something simple yet easily checked, such as returning or printing something (often something much simpler than you eventually need). This initial starting point is sometimes called a ***Walking Skeleton***, because it starts small yet already has some functionality. Incrementally add small bits of functionality to your Walking Skeleton, testing and debugging each method along the way. You may need to add print commands (that will later be commented out) to help you test your code’s functionality, but at each point, you need to visually check that your program works correctly."
   ]
  },
  {
   "cell_type": "markdown",
   "metadata": {},
   "source": [
    "### Critical Thinking Questions"
   ]
  },
  {
   "cell_type": "markdown",
   "metadata": {},
   "source": [
    "7\\. Review the steps taken in Team Programming A-D.  At what point did you start to have a “Walking Skeleton”? What functionality was added first to this initial program?"
   ]
  },
  {
   "cell_type": "markdown",
   "metadata": {},
   "source": [
    "8\\. Describe any differences between the `RBox` OOP implementation of the Simple Gas Diffusion Monte Carlo simulation above and if it had been written as one long function (not as a method in a class). How would the instance variables have been represented?"
   ]
  },
  {
   "cell_type": "markdown",
   "metadata": {},
   "source": [
    "### Planning extensions to RBox  "
   ]
  },
  {
   "cell_type": "markdown",
   "metadata": {},
   "source": [
    "9\\. If we want to plot the \"history\" of the simulation to better understand how it \"evolves\", what data should we use for our x and y axis?"
   ]
  },
  {
   "cell_type": "markdown",
   "metadata": {},
   "source": [
    "10\\. Do you currently have the x-axis data stored as a list in your code? If so, provide the variable name. If not, how would you create that list (pseudocode)?"
   ]
  },
  {
   "cell_type": "markdown",
   "metadata": {},
   "source": [
    "11\\. Do you currently have the y-axis data stored as a list? If so, provide the variable name. If not, how would you create that list (pseudocode)?"
   ]
  },
  {
   "cell_type": "markdown",
   "metadata": {
    "collapsed": true
   },
   "source": [
    "12\\. What should determine the size of the x and y lists? Identify the general relationship. "
   ]
  },
  {
   "cell_type": "markdown",
   "metadata": {},
   "source": [
    "13\\. Consider all lists that must be created to track and plot the history. Should these lists be created in the `run_simulation` method, or could they be created later, when plotting the history of the simulation?"
   ]
  },
  {
   "cell_type": "markdown",
   "metadata": {},
   "source": [
    "### Temporal Analysis Report"
   ]
  },
  {
   "cell_type": "markdown",
   "metadata": {},
   "source": [
    "How much time did it require for your team to complete each Model?"
   ]
  },
  {
   "cell_type": "markdown",
   "metadata": {},
   "source": [
    "Model 1: "
   ]
  },
  {
   "cell_type": "markdown",
   "metadata": {},
   "source": [
    "Team Programming:"
   ]
  },
  {
   "cell_type": "markdown",
   "metadata": {},
   "source": [
    "Model 2:"
   ]
  },
  {
   "cell_type": "markdown",
   "metadata": {},
   "source": [
    "Planning extensions:"
   ]
  }
 ],
 "metadata": {
  "anaconda-cloud": {},
  "kernelspec": {
   "display_name": "Python [default]",
   "language": "python",
   "name": "python3"
  },
  "language_info": {
   "codemirror_mode": {
    "name": "ipython",
    "version": 3
   },
   "file_extension": ".py",
   "mimetype": "text/x-python",
   "name": "python",
   "nbconvert_exporter": "python",
   "pygments_lexer": "ipython3",
   "version": "3.5.2"
  }
 },
 "nbformat": 4,
 "nbformat_minor": 1
}
