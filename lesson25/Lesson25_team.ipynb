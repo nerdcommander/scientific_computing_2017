{
 "cells": [
  {
   "cell_type": "markdown",
   "metadata": {
    "collapsed": true
   },
   "source": [
    "# Unit 3: Simulations"
   ]
  },
  {
   "cell_type": "markdown",
   "metadata": {},
   "source": [
    "## Lesson 25: Free Fall v2"
   ]
  },
  {
   "cell_type": "markdown",
   "metadata": {},
   "source": [
    "## Notebook Authors "
   ]
  },
  {
   "cell_type": "markdown",
   "metadata": {},
   "source": [
    "_(fill in your two names here)_"
   ]
  },
  {
   "cell_type": "markdown",
   "metadata": {},
   "source": [
    "## Team Roles"
   ]
  },
  {
   "cell_type": "markdown",
   "metadata": {},
   "source": [
    "Facilitator: _(fill in name)_  \n",
    "Spokesperson: _(fill in name)_  \n",
    "Process Analyst: _(fill in name)_  \n",
    "Quality Control: _(fill in name)_  \n",
    "\n",
    "If there are only three people in your team, have one person serve as both spokesperson and process analyst for the rest of this activity.<p>\n",
    "At the end of this Lesson, you will be asked to record how long each Model required for your team. The _Facilitator_ should keep track of time for your team."
   ]
  },
  {
   "cell_type": "markdown",
   "metadata": {},
   "source": [
    "## Computational Focus: Calculating and plotting error   \n",
    "\n",
    "When we make models and approximations, we often have either expected outcomes or real data that we want to compare. Sometimes we want to look at several models to see which is the best fit to the properties of the data.  We will practice this using the free fall scenario that we developed in Lesson 23 including our exact solution, Euler's Method approximation, and we will add another approximation to compare and see which better represents reality.\n",
    "\n",
    "***paste and run your working, docstrung, and commented code from Lesson 23 Team below***"
   ]
  },
  {
   "cell_type": "code",
   "execution_count": null,
   "metadata": {
    "collapsed": true
   },
   "outputs": [],
   "source": [
    "## replace with your working, docstrung, and commented Lesson 23 Team code"
   ]
  },
  {
   "cell_type": "markdown",
   "metadata": {},
   "source": [
    "## Analysis 0  \n",
    "Let's run the simulation through a few sets of test values to see what happens.  \n",
    "\n",
    "```python\n",
    "## generic form (with parameter explanations):\n",
    "# y0 is y position at time=0\n",
    "# v0 is velocity at time=0\n",
    "# tmax is maximum time to run simulation\n",
    "# dt is the change in time for one time step\n",
    "FreeFall(y0, v0, tmax, dt)\n",
    "\n",
    "## for example\n",
    "simulation = FreeFall(100,1,30,1)\n",
    "```\n",
    "***test your code*** - run the simulation and plot approximate and exact values to compare - using the following values:  \n",
    "\n",
    "y0|v0|tmax|dt  \n",
    ":---:|:---:|:---:|:---:\n",
    "100|1|30|1\n",
    "100|1|30|0.5\n",
    "100|1|30|0.2\n",
    "100|1|30|0.1\n",
    "1000|1|30|0.1\n",
    "1000|1|30|1"
   ]
  },
  {
   "cell_type": "code",
   "execution_count": 1,
   "metadata": {
    "collapsed": true
   },
   "outputs": [],
   "source": [
    "## simulation runs and plots here"
   ]
  },
  {
   "cell_type": "markdown",
   "metadata": {},
   "source": [
    "1\\. Compare your results with the other people at your table. If you don't have enough people at your table, talk to a neighboring table. Do your `FreeFall` simulations generate the same results? If not, which simulation is correct, and how do you know? "
   ]
  },
  {
   "cell_type": "markdown",
   "metadata": {},
   "source": [
    "2\\. Now examine each team's code. Just this once, you should compare each other's code, line by line if necessary. As you are looking through the code, confirm that no one has any off-by-one errors. For example, the first simulation (30 time units, with a dt of 1) should have 31 positions (starting at a time = 0, and running to a time = 31).   \n",
    "\n",
    "2a. Which program is easier to understand, and why? (It's likely that there are advantages to each of the programs that are listed - if so, explain any features that make the code easier to understand.) "
   ]
  },
  {
   "cell_type": "markdown",
   "metadata": {},
   "source": [
    "2b. List all the instance variables used in your program, and compare them to the list for the other people at your table. Confirm that you are using local variables (those not preceeded by self) where they are appropriate, and not over-using instance variables (those preceeded by self). If you have some instance variables that should have been local variables, make that note here."
   ]
  },
  {
   "cell_type": "markdown",
   "metadata": {},
   "source": [
    "2c. Explain when you should use a local variable (as opposed to an instance variable)."
   ]
  },
  {
   "cell_type": "markdown",
   "metadata": {},
   "source": [
    "3\\. What happens to the numerical (approximate) results using the Euler method, when compared to the analytic (exact) results, as $\\Delta t$ is made smaller?  Explain and justify your answer."
   ]
  },
  {
   "cell_type": "markdown",
   "metadata": {
    "collapsed": true
   },
   "source": []
  },
  {
   "cell_type": "markdown",
   "metadata": {},
   "source": [
    "## Team Programming 1  \n",
    "Make sure that as you work on these programming tasks, you are using your best ***pair programming technique*** (both driver and navigator) and switching drivers frequently.  \n",
    "\n",
    "Your code must have ***docstrings and comments*** for you to receive full credit.\n",
    "\n",
    "***Now, let's go beyond visual analysis and eyeball error rates:***"
   ]
  },
  {
   "cell_type": "markdown",
   "metadata": {},
   "source": [
    "A. write a method called `calculate_error` that:  \n",
    "+ calculates the absolute value of the difference between the exact and approximate methods at _all time points_\n",
    "+ either returns the error values or saves them as instance variables (you will use the error in both B and C below)\n",
    "\n",
    "Calculating the difference is much easier than a loop since both sets of results are arrays."
   ]
  },
  {
   "cell_type": "code",
   "execution_count": null,
   "metadata": {
    "collapsed": true
   },
   "outputs": [],
   "source": []
  },
  {
   "cell_type": "markdown",
   "metadata": {},
   "source": [
    "***Test your `calculate_error` method and briefly discuss the results***"
   ]
  },
  {
   "cell_type": "code",
   "execution_count": null,
   "metadata": {
    "collapsed": true
   },
   "outputs": [],
   "source": []
  },
  {
   "cell_type": "markdown",
   "metadata": {},
   "source": []
  },
  {
   "cell_type": "markdown",
   "metadata": {},
   "source": [
    "B. write a method called `max_error` that:\n",
    "+ prints out the maximum error for the approximate solution (the difference from exact) from the simulation\n",
    "+ also prints the time-step (dt, $\\Delta t$) information for the simulation \n",
    "+ does not return anything\n",
    "\n",
    "Be sure to use the absolute value of the difference to calculate maximum error."
   ]
  },
  {
   "cell_type": "code",
   "execution_count": null,
   "metadata": {
    "collapsed": true
   },
   "outputs": [],
   "source": []
  },
  {
   "cell_type": "markdown",
   "metadata": {},
   "source": [
    "***Test your `max_error` method and briefly discuss the results***"
   ]
  },
  {
   "cell_type": "code",
   "execution_count": null,
   "metadata": {
    "collapsed": true
   },
   "outputs": [],
   "source": []
  },
  {
   "cell_type": "markdown",
   "metadata": {},
   "source": []
  },
  {
   "cell_type": "markdown",
   "metadata": {},
   "source": [
    "C. write a method called `plot_error` that:  \n",
    "+ makes a plot of the error values at each time step\n",
    "    + this method should also \"cut off\" the values after hitting the ground\n",
    "+ labels the plot properly\n",
    "+ does not return anything"
   ]
  },
  {
   "cell_type": "code",
   "execution_count": null,
   "metadata": {
    "collapsed": true
   },
   "outputs": [],
   "source": []
  },
  {
   "cell_type": "markdown",
   "metadata": {},
   "source": [
    "***Test your `plot_error` method and briefly discuss the results***"
   ]
  },
  {
   "cell_type": "code",
   "execution_count": null,
   "metadata": {
    "collapsed": true
   },
   "outputs": [],
   "source": []
  },
  {
   "cell_type": "markdown",
   "metadata": {},
   "source": []
  },
  {
   "cell_type": "markdown",
   "metadata": {},
   "source": [
    "### Analysis 1  \n",
    "\n",
    "***test your code*** - each row of values in the table below, do the following:   \n",
    "+ run the simulation\n",
    "+ graph the simulation itself\n",
    "+ graph the error\n",
    "+ print the maximum error\n",
    "\n",
    "y0|v0|tmax|dt|max error\n",
    ":---:|:---:|:---:|:---:|:---:\n",
    "100|1|30|1|\n",
    "100|1|30|0.5|\n",
    "100|1|30|0.2|\n",
    "100|1|30|0.1|\n",
    "1000|1|30|0.1|\n",
    "1000|1|30|1|\n",
    "10000|1|30|1|\n",
    "\n",
    "***Also***, fill in the table above with column that lists the maximum error for each simulation."
   ]
  },
  {
   "cell_type": "markdown",
   "metadata": {},
   "source": [
    "4\\. Explain the relationship that you see between `y0` and error."
   ]
  },
  {
   "cell_type": "markdown",
   "metadata": {},
   "source": [
    "5\\. Explain the relationship that you see between $\\Delta t$ (`dt`) and error."
   ]
  },
  {
   "cell_type": "markdown",
   "metadata": {},
   "source": [
    "6\\. Discuss your overall conclusions about the behavior of the Euler Method (especially with respect to how its error behaves)."
   ]
  },
  {
   "cell_type": "markdown",
   "metadata": {},
   "source": [
    "## Improved approximation methods"
   ]
  },
  {
   "cell_type": "markdown",
   "metadata": {},
   "source": [
    "### Review of Euler Method\n",
    "As we saw in the previous Free Fall lesson, Euler's method can give us a numerical approximation of a differential equation. The equations that our Euler method Free Fall approximation used are for position:  \n",
    "\n",
    "$$y(t+ \\Delta t) =  y(t) + v(t) \\cdot \\Delta t \\hspace{30mm} (1)$$  \n",
    "\n",
    "&nbsp;&nbsp;&nbsp;&nbsp;&nbsp;&nbsp;&nbsp;&nbsp;&nbsp;&nbsp;&nbsp;&nbsp;&nbsp;&nbsp;&nbsp;&nbsp;&nbsp;&nbsp;&nbsp; and for velocity:  \n",
    "$$v(t+ \\Delta t) = v(t) + g \\cdot \\Delta t \\hspace{35mm} (2)$$  \n",
    "\n",
    "&nbsp;&nbsp;&nbsp;&nbsp;&nbsp;&nbsp;&nbsp;&nbsp;&nbsp;&nbsp;&nbsp;&nbsp;&nbsp;&nbsp;&nbsp;&nbsp;&nbsp;&nbsp;&nbsp; and since $g =  -9.8 \\ m/s^2$:\n",
    "$$v(t+ \\Delta t) = v(t) + -9.8 \\ m/s^2 \\cdot \\Delta t \\hspace{18mm} (3)$$ \n",
    "\n",
    "**Main idea:** use the current position and velocity to predict the next position and velocity.\n",
    "\n",
    "[Euler more info link](http://www.physics.udel.edu/%7Ebnikolic/teaching/phys660/numerical_ode/node1.html)"
   ]
  },
  {
   "cell_type": "markdown",
   "metadata": {},
   "source": [
    "### Euler-Richardson Method\n",
    "The Euler Method can be an OK approximation, but there are limitations. It is especially error prone if the time steps are large, the rate of change is large, and/or there are changes in the sign of the slope.  \n",
    "\n",
    "The Euler-Richardson method calculates the velocity at the middle of the interval, instead of at the beginning or at the end of the interval. This algorithm then uses this $v_{midpoint}$ value for velocity and the regular Euler method to approximate the next values. This method works especially well for forces that depend on velocity.  \n",
    "\n",
    "First, we need to calculate the veloctiy at the midpoint($v_{mid}$):\n",
    "\n",
    "$$v_{mid} = v(t) + \\frac{1}{2} \\cdot a(t) \\cdot \\Delta t$$   \n",
    "\n",
    "where $a(t)$ is the acceleration, and in this case, we're lucky since that is the same value for gravity that we've been using so far - $g =  -9.8 \\ m/s^2$. So we can simplify this equation to:\n",
    "\n",
    "$$v_{mid} = v(t) + \\frac{1}{2} (-9.8 \\ m/s^2) \\cdot \\Delta t \\hspace{24mm} (4)$$\n",
    "\n",
    "Now that we have $v_{mid}$, we will use this equation for the next position:  \n",
    "$$y(t+ \\Delta t) =  y(t) + v_{mid} \\cdot \\Delta t \\hspace{30mm} (5)$$  \n",
    "\n",
    "The equation for the next velocity is:\n",
    "$$v(t+ \\Delta t) = v(t) + a_{mid} \\cdot \\Delta t$$ \n",
    "\n",
    "where $a_{mid}$ is the acceleration at the midpoint, which again is just $g =  -9.8 \\ m/s^2$, so we can simplify this equation to:  \n",
    "$$v(t+ \\Delta t) = v(t) + -9.8 \\ m/s^2 \\cdot \\Delta t  \\hspace{23mm} (6)$$\n",
    "\n",
    "**Main idea:** use the current position and the velocity $\\frac{1}{2}$ way between the current point and the next point to predict the next position and velocity.\n",
    "\n",
    "[Euler-Richardson link](http://www.physics.udel.edu/%7Ebnikolic/teaching/phys660/numerical_ode/node4.html)\n",
    "\n",
    "#### More methods (FYI)   \n",
    "Every method has disadvantages as well as advantages. An alternative method that is a common \"go-to\" numerical approximation method is the _RK4_ method from the family of [Runge–Kutta methods](https://en.wikipedia.org/wiki/Runge%E2%80%93Kutta_methods)."
   ]
  },
  {
   "cell_type": "markdown",
   "metadata": {},
   "source": [
    "## Team Programming 2  \n",
    "Make sure that as you work on these programming tasks, you are using your best ***pair programming technique*** (both driver and navigator) and switching drivers frequently.  \n",
    "\n",
    "Your code must have ***docstrings and comments*** for you to receive full credit.\n",
    "\n",
    "***Now it's time*** to add the more accurate Euler-Richardson method to our `FreeFall` class, and develop some methods to compare approximation methods.\n"
   ]
  },
  {
   "cell_type": "markdown",
   "metadata": {},
   "source": [
    "D. Add a `free_fall_euler_richardson` method to your `FreeFall` class that implements the Euler-Richardson method of approximation for our free fall problem. It should:  \n",
    "+ implement Euler-Richardson using equations 4, 5, and 6 \n",
    "+ use the same parameter values as your Euler's implementation in `free_fall_approx`\n",
    "+ produce results that are plotted by your `plot_results` method on the same axes as your Euler's method \n",
    "\n",
    "Don't forget to modify your `plot_results` method."
   ]
  },
  {
   "cell_type": "code",
   "execution_count": null,
   "metadata": {
    "collapsed": true
   },
   "outputs": [],
   "source": []
  },
  {
   "cell_type": "markdown",
   "metadata": {},
   "source": [
    "***Test your Euler-Richardson method and briefly discuss the results***"
   ]
  },
  {
   "cell_type": "code",
   "execution_count": null,
   "metadata": {
    "collapsed": true
   },
   "outputs": [],
   "source": []
  },
  {
   "cell_type": "markdown",
   "metadata": {},
   "source": []
  },
  {
   "cell_type": "markdown",
   "metadata": {},
   "source": [
    "E. Modify your `calculate_error`, `max_error`, and `plot_error` methods to include your Euler-Richardson results:\n",
    "+ `max_error` should print the maximum error for each method and  the time step info\n",
    "+ `plot_error` should have both sets of errors on the same axes so they can be compared"
   ]
  },
  {
   "cell_type": "code",
   "execution_count": null,
   "metadata": {
    "collapsed": true
   },
   "outputs": [],
   "source": []
  },
  {
   "cell_type": "markdown",
   "metadata": {},
   "source": [
    "***Test your updated `max_error` and `plot_error` methods and briefly discuss the results***"
   ]
  },
  {
   "cell_type": "code",
   "execution_count": null,
   "metadata": {
    "collapsed": true
   },
   "outputs": [],
   "source": []
  },
  {
   "cell_type": "markdown",
   "metadata": {},
   "source": []
  },
  {
   "cell_type": "markdown",
   "metadata": {},
   "source": [
    "F. Clean up your code! This is object oriented code after all, so you should: \n",
    "+ make helper methods for duplicate code\n",
    "+ modify your `__init__` method (constructor) or make a _wrapper_ function to run the simulation, plot results, print and plot the error. \n",
    "+ make sure that every method has a ***correct docstring and is well commented***"
   ]
  },
  {
   "cell_type": "code",
   "execution_count": null,
   "metadata": {
    "collapsed": true
   },
   "outputs": [],
   "source": []
  },
  {
   "cell_type": "markdown",
   "metadata": {},
   "source": [
    "***Test your cleaned up code and briefly discuss the results***"
   ]
  },
  {
   "cell_type": "code",
   "execution_count": null,
   "metadata": {
    "collapsed": true
   },
   "outputs": [],
   "source": []
  },
  {
   "cell_type": "markdown",
   "metadata": {},
   "source": []
  },
  {
   "cell_type": "markdown",
   "metadata": {},
   "source": [
    "## Analysis 2  \n",
    "\n",
    "***test your code*** with each row of values in the table below.  \n",
    "Your code should do the following:   \n",
    "+ run the simulation (both methods)\n",
    "+ graph both results\n",
    "+ graph the errors\n",
    "+ print the maximum errors\n",
    "\n",
    "y0|v0|tmax|dt|Euler max error|E-R max error\n",
    ":---:|:---:|:---:|:---:|:---:|:---:\n",
    "100|1|30|1| |\n",
    "100|1|30|0.5| |\n",
    "100|1|30|0.2| |\n",
    "100|1|30|0.1| |\n",
    "1000|1|30|0.1| |\n",
    "1000|1|30|1| |\n",
    "10000|1|30|1| |\n",
    "\n",
    "***Also***, add two columns to the table above - one column that has the maximum error for Euler's method and a second column that lists the maximum error for the Euler-Richardson method."
   ]
  },
  {
   "cell_type": "code",
   "execution_count": null,
   "metadata": {
    "collapsed": true
   },
   "outputs": [],
   "source": [
    "## simulation runs and plots here"
   ]
  },
  {
   "cell_type": "code",
   "execution_count": null,
   "metadata": {
    "collapsed": true
   },
   "outputs": [],
   "source": []
  },
  {
   "cell_type": "markdown",
   "metadata": {},
   "source": [
    "7\\. Discuss your overall conclusions about the behavior of the Euler-Richardson Method (especially with respect to how its error behaves)."
   ]
  },
  {
   "cell_type": "markdown",
   "metadata": {},
   "source": [
    "8\\. Compare the errors of the two methods. Which is the better approximation of our free fall scenario? Provide ***at least 2 reasons*** for your selection."
   ]
  },
  {
   "cell_type": "markdown",
   "metadata": {},
   "source": [
    "### Temporal Analysis Report"
   ]
  },
  {
   "cell_type": "markdown",
   "metadata": {},
   "source": [
    "How much time did it require for your team to complete each part?"
   ]
  },
  {
   "cell_type": "markdown",
   "metadata": {},
   "source": [
    "Analysis 0: "
   ]
  },
  {
   "cell_type": "markdown",
   "metadata": {},
   "source": [
    "Team Programming 1:"
   ]
  },
  {
   "cell_type": "markdown",
   "metadata": {},
   "source": [
    "Analysis 1:"
   ]
  },
  {
   "cell_type": "markdown",
   "metadata": {},
   "source": [
    "Team Programming 2:"
   ]
  },
  {
   "cell_type": "markdown",
   "metadata": {},
   "source": [
    "Analysis 2:"
   ]
  }
 ],
 "metadata": {
  "anaconda-cloud": {},
  "kernelspec": {
   "display_name": "Python [default]",
   "language": "python",
   "name": "python3"
  },
  "language_info": {
   "codemirror_mode": {
    "name": "ipython",
    "version": 3
   },
   "file_extension": ".py",
   "mimetype": "text/x-python",
   "name": "python",
   "nbconvert_exporter": "python",
   "pygments_lexer": "ipython3",
   "version": "3.5.2"
  }
 },
 "nbformat": 4,
 "nbformat_minor": 1
}
