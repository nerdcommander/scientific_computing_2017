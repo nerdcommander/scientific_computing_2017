{
 "cells": [
  {
   "cell_type": "markdown",
   "metadata": {
    "collapsed": true
   },
   "source": [
    "# Lesson 21 Individual Assignment"
   ]
  },
  {
   "cell_type": "markdown",
   "metadata": {},
   "source": [
    "***Individual*** means that you do it yourself. You won't learn to code if you don't ***struggle for yourself*** and  ***write your own*** code. Remember that while you can discuss the general (algorithmic) way to solve a problem, you should ***not*** even be looking at anyone else's code or showing anyone else your code for an individual assignment.  \n",
    "Review the **Group Work** guidelines on Cavas and/or ask an instructor if you have any questions."
   ]
  },
  {
   "cell_type": "markdown",
   "metadata": {},
   "source": [
    "## Programming Practice"
   ]
  },
  {
   "cell_type": "markdown",
   "metadata": {},
   "source": [
    "Be sure to spell all function names ***correctly*** - misspelled functions will lose points (and often break anyway since no one is sure what to type to call it). If you prefer showing your earlier, scratch work as you figure out what you are doing, please be sure that you make a final, complete, correct last function in its own cell that you then call several times to test. In other words, separate your thought process/working versions from the final one (a comment that tells us which is the final version would be lovely).\n",
    "\n",
    "Every function should have ***a docstring at the start*** that states what it does (see _Lesson3 Team Notebook_ if you need a reminder), and ***several other helpful comments.***   \n",
    "\n",
    "Make sure that you are running ***test cases (plural)*** for everything and commenting on the results in markdown. Your comments should discuss how you know that the test case results are correct."
   ]
  },
  {
   "cell_type": "markdown",
   "metadata": {
    "collapsed": true
   },
   "source": [
    "## Part 1: Plotting History"
   ]
  },
  {
   "cell_type": "markdown",
   "metadata": {},
   "source": [
    "Copy your `RandomBox` class definition from Lesson21 Team below, and quickly double check that it works. (_If_ you didn't finish it in the Team Notebook, finish it here and now.)"
   ]
  },
  {
   "cell_type": "code",
   "execution_count": null,
   "metadata": {
    "collapsed": true
   },
   "outputs": [],
   "source": []
  },
  {
   "cell_type": "code",
   "execution_count": null,
   "metadata": {
    "collapsed": true
   },
   "outputs": [],
   "source": []
  },
  {
   "cell_type": "markdown",
   "metadata": {},
   "source": [
    "A. Modify your `RandomBox` class and methods so that it gives you a line plot of the history of the simulation with a horizontal line at equilibrium. (_you've written or at least planned most of this code in Lessons 20 and 21_). Make a few objects, run them through the simulation and plot the results to make sure it all works."
   ]
  },
  {
   "cell_type": "code",
   "execution_count": null,
   "metadata": {
    "collapsed": true
   },
   "outputs": [],
   "source": []
  },
  {
   "cell_type": "code",
   "execution_count": null,
   "metadata": {
    "collapsed": true
   },
   "outputs": [],
   "source": []
  },
  {
   "cell_type": "markdown",
   "metadata": {},
   "source": [
    "B. In Model3 of Lesson 21 you identified some repeated code in the `run_simulation` method. Create a helper method for the duplicate code, and call the helper method from inside both loops."
   ]
  },
  {
   "cell_type": "code",
   "execution_count": null,
   "metadata": {
    "collapsed": true
   },
   "outputs": [],
   "source": []
  },
  {
   "cell_type": "markdown",
   "metadata": {},
   "source": [
    "Make sure to ***run a few test cases*** to make sure that your code works and makes interpretable plots that make sense."
   ]
  },
  {
   "cell_type": "code",
   "execution_count": null,
   "metadata": {
    "collapsed": true
   },
   "outputs": [],
   "source": []
  },
  {
   "cell_type": "markdown",
   "metadata": {},
   "source": [
    "***Comment on/briefly explain*** your results."
   ]
  },
  {
   "cell_type": "markdown",
   "metadata": {},
   "source": []
  },
  {
   "cell_type": "markdown",
   "metadata": {},
   "source": [
    "## Part 2: Simulation Statistics  "
   ]
  },
  {
   "cell_type": "markdown",
   "metadata": {},
   "source": [
    "C. Next, add the code to keep track of the statistics. Review the equation for the mean square fluctuations in the team notebook and add code to keep track of the running totals. Run your simulation and make sure the totals seem reasonable. You should add in print commands that will be commented out once your code completely works."
   ]
  },
  {
   "cell_type": "code",
   "execution_count": null,
   "metadata": {
    "collapsed": true
   },
   "outputs": [],
   "source": []
  },
  {
   "cell_type": "markdown",
   "metadata": {},
   "source": [
    "D.  Finally, add code to calculate the averages, the mean square fluctuations, and the relative magnitude of the fluctuations. Since this is a lot of code, we’ll put it in another helper method (`calculate_statistics`). The `run_simulation` method should call `calculate_statistics`, passing it all the values that it has tracked during the simulation. The `calculate_statistics` method should have multiple parameters, and it should use those values to calculate the averages, mean square fluctuations, and the relative magnitude of the fluctuations. While debugging, you’ll want to print all these values. After your code is working, your method should continue to print the mean square fluctuations and relative magnitude of the fluctuations."
   ]
  },
  {
   "cell_type": "markdown",
   "metadata": {},
   "source": [
    "**When you're done here, your code should:**  \n",
    "+ print time to equilibrium, mean square fluctuations, and relative magnitude of the fluctuations\n",
    "    + or print a message if equilibrium is not reached\n",
    "+ make a well labeled line plot of the history of the simulation with a horizontal line at the predicted equilibrium\n"
   ]
  },
  {
   "cell_type": "code",
   "execution_count": null,
   "metadata": {
    "collapsed": true
   },
   "outputs": [],
   "source": []
  },
  {
   "cell_type": "markdown",
   "metadata": {},
   "source": [
    "E. Run simulations for the number of particles, $N$, where $N = 16, 64, 100, 400, 800, 3600$ (leave the time constant and make sure it is well past the time it takes to get to equilibrium for the largest $N$). Leave these results in your notebook. How do the results of your simulation (time to equilibrium, mean square fluctuations, and relative magnitude of the fluctuations) depend on the total number of particles, $N$?  "
   ]
  },
  {
   "cell_type": "code",
   "execution_count": null,
   "metadata": {
    "collapsed": true
   },
   "outputs": [],
   "source": []
  },
  {
   "cell_type": "markdown",
   "metadata": {},
   "source": []
  },
  {
   "cell_type": "markdown",
   "metadata": {},
   "source": [
    "F. Run simulations for different times, $t$, where $t = 100, 1000, 2500, 5000, 10000$ (leave the number of particles constant). Leave these results in your notebook. How do the results of your simulation (time to equilibrium, mean square fluctuations, and relative magnitude of the fluctuations) depend on the time, $t$?  "
   ]
  },
  {
   "cell_type": "code",
   "execution_count": null,
   "metadata": {
    "collapsed": true
   },
   "outputs": [],
   "source": []
  },
  {
   "cell_type": "markdown",
   "metadata": {},
   "source": []
  }
 ],
 "metadata": {
  "anaconda-cloud": {},
  "kernelspec": {
   "display_name": "Python [default]",
   "language": "python",
   "name": "python3"
  },
  "language_info": {
   "codemirror_mode": {
    "name": "ipython",
    "version": 3
   },
   "file_extension": ".py",
   "mimetype": "text/x-python",
   "name": "python",
   "nbconvert_exporter": "python",
   "pygments_lexer": "ipython3",
   "version": "3.5.2"
  }
 },
 "nbformat": 4,
 "nbformat_minor": 2
}
