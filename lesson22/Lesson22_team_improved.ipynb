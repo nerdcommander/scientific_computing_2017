{
 "cells": [
  {
   "cell_type": "markdown",
   "metadata": {
    "collapsed": true
   },
   "source": [
    "# Unit 3: Simulations"
   ]
  },
  {
   "cell_type": "markdown",
   "metadata": {},
   "source": [
    "## Lesson 22: Random Walk"
   ]
  },
  {
   "cell_type": "markdown",
   "metadata": {},
   "source": [
    "## Notebook Authors "
   ]
  },
  {
   "cell_type": "markdown",
   "metadata": {},
   "source": [
    "_(fill in your two names here)_"
   ]
  },
  {
   "cell_type": "markdown",
   "metadata": {},
   "source": [
    "## Team Roles"
   ]
  },
  {
   "cell_type": "markdown",
   "metadata": {},
   "source": [
    "Facilitator: _(fill in name)_  \n",
    "Spokesperson: _(fill in name)_  \n",
    "Process Analyst: _(fill in name)_  \n",
    "Quality Control: _(fill in name)_  \n",
    "\n",
    "If there are only three people in your team, have one person serve as both spokesperson and process analyst for the rest of this activity.<p>\n",
    "At the end of this Lesson, you will be asked to record how long each Model required for your team. The _Facilitator_ should keep track of time for your team."
   ]
  },
  {
   "cell_type": "markdown",
   "metadata": {},
   "source": [
    "## Computational Focus: Random Walk  \n",
    "In the simulation of the random motion of many particles in a box, we did not care about their positions – all we needed to know was the number of particles on each side.  Suppose that we want to characterize the motion of a dust particle in the atmosphere or a pollen grain suspended in water.  We know that as a given dust particle collides with molecules in the atmosphere, it changes its direction frequently, and its motion appears to be random. A simple model for the trajectory of a dust particle in the atmosphere is based on the assumption that the particle moves in any direction with equal probability - this is a model is an example of a random walk. \n",
    "\n",
    "Random walk has been used to build models for many scientific applications, including:\n",
    "+ biology: bacterial movement\n",
    "+ chemistry: gas diffusion\n",
    "+ physics, chemistry, and biology: Brownian motion\n",
    "+ physics: polymers\n",
    "+ population genetics: genetic drift\n",
    "+ mathematical ecology: individual animal movements and biodiffusion"
   ]
  },
  {
   "cell_type": "markdown",
   "metadata": {},
   "source": [
    "### Model 1: One Random Walker"
   ]
  },
  {
   "cell_type": "markdown",
   "metadata": {},
   "source": [
    "Consider an idealized/simplified example of a random walker that can move only along a line (in 1 dimension).  Suppose that the walker begins at $x = 0$ and that each step is of equal length.  At each time interval the walker has a probability $p$ of a step to the right and a probability $q = 1− p$ of a step to the left. The direction of each step is independent of the preceding one.  The final position of the walker (or the displacement of the walker from the origin) after $N$ steps is:  \n",
    "$$x_N = \\sum_{i=1}^{N}s_i$$ \n",
    "\n",
    "where $s_i=1$ for a step to the right and $s_i=-1$ for a step to the left.  \n",
    "\n",
    "For example, if $p=0.5$, a step to the right ($s = +1$) will occur $50%$ of the time.  This does not mean, however, that the walker will move to the right every other step - each step is independent, like a coin flip.  Overall, after many trials, we expect a step to the right to happen half the time and a step to the left ($s = -1$) the other half, but there is a finite possibility of moving right five times in a row (think about how you would calculate this probability given $p=0.5$).  \n",
    "\n",
    "In this lesson, we will develop a program to simulate a random walk. The walker will begin at position $0$. We will treat a step to the right as $+1$, and a step to the left as $-1$. "
   ]
  },
  {
   "cell_type": "markdown",
   "metadata": {},
   "source": [
    "### Critical Thinking Questions"
   ]
  },
  {
   "cell_type": "markdown",
   "metadata": {},
   "source": [
    "1\\. If the random walker takes steps of equal probability in random directions (left or right) after $N$ steps where do you predict the random walker will be?  Explain your reasoning."
   ]
  },
  {
   "cell_type": "markdown",
   "metadata": {},
   "source": [
    "2\\. What is the range of possible values for the probability $p$ of a step to the right?"
   ]
  },
  {
   "cell_type": "markdown",
   "metadata": {},
   "source": [
    "3\\. What are the possible positions for a 1D walker after one random step?"
   ]
  },
  {
   "cell_type": "markdown",
   "metadata": {},
   "source": [
    "### Team Programming part 1\n",
    "Make sure that as you work on these programming tasks, you are using your best ***pair programming technique*** (both driver and navigator) and switching drivers frequently.  \n",
    "\n",
    "Your code must have ***docstrings and comments*** for you to receive full credit.\n",
    "\n",
    "We are using an Object Oriented Programming approach for this Lesson."
   ]
  },
  {
   "cell_type": "markdown",
   "metadata": {},
   "source": [
    "A. We will begin with a class that initializes ONE walker. Define a class called `RandomWalk`. The constructor should have one additional parameter besides the self parameter: the probability of a step to the right. (Do not set the parameter to a default value yet.) You will need to keep track of two instance variables: the probability and the position of this walker.  \n",
    "***Make sure to test the constructor***"
   ]
  },
  {
   "cell_type": "code",
   "execution_count": null,
   "metadata": {
    "collapsed": true
   },
   "outputs": [],
   "source": []
  },
  {
   "cell_type": "code",
   "execution_count": null,
   "metadata": {
    "collapsed": true
   },
   "outputs": [],
   "source": [
    "## testing\n"
   ]
  },
  {
   "cell_type": "markdown",
   "metadata": {},
   "source": [
    "B. Next add a `get_position` method that should **return** the position of the walker in relation to the original position.   \n",
    "***Make sure to test `get_position`***"
   ]
  },
  {
   "cell_type": "code",
   "execution_count": null,
   "metadata": {
    "collapsed": true
   },
   "outputs": [],
   "source": []
  },
  {
   "cell_type": "code",
   "execution_count": null,
   "metadata": {
    "collapsed": true
   },
   "outputs": [],
   "source": [
    "## testing\n"
   ]
  },
  {
   "cell_type": "markdown",
   "metadata": {},
   "source": [
    "C. Now add a `run_simulation` method that has the walker take one random step. Modify your `__init__` method so it calls your `run_simulation method`. This method does not need to return anything. \n",
    "***Run your code several times to make sure it works.***"
   ]
  },
  {
   "cell_type": "code",
   "execution_count": null,
   "metadata": {
    "collapsed": true
   },
   "outputs": [],
   "source": []
  },
  {
   "cell_type": "code",
   "execution_count": null,
   "metadata": {
    "collapsed": true
   },
   "outputs": [],
   "source": [
    "## testing\n"
   ]
  },
  {
   "cell_type": "markdown",
   "metadata": {},
   "source": [
    "D. Add a second parameter to the constructor: the total number of steps, $N$.  \n",
    "Also modify your `run_simulation` method so it has the walker take $N$ random steps.  \n",
    "***Run your code several times to make sure it works.***"
   ]
  },
  {
   "cell_type": "code",
   "execution_count": null,
   "metadata": {
    "collapsed": true
   },
   "outputs": [],
   "source": []
  },
  {
   "cell_type": "code",
   "execution_count": null,
   "metadata": {
    "collapsed": true
   },
   "outputs": [],
   "source": [
    "## testing\n"
   ]
  },
  {
   "cell_type": "markdown",
   "metadata": {},
   "source": [
    "E. Next, make probability an optional argument. Modify the constructor so the probability is set to $0.5$ if it is not given. Since all optional parameters must follow required parameters, you will need to reorder your arguments since the total number of steps is a required argument.   \n",
    "***Run your code several times to make sure it works.***"
   ]
  },
  {
   "cell_type": "code",
   "execution_count": null,
   "metadata": {
    "collapsed": true
   },
   "outputs": [],
   "source": []
  },
  {
   "cell_type": "code",
   "execution_count": null,
   "metadata": {
    "collapsed": true
   },
   "outputs": [],
   "source": [
    "## testing\n"
   ]
  },
  {
   "cell_type": "markdown",
   "metadata": {},
   "source": [
    "### Critical Thinking Questions"
   ]
  },
  {
   "cell_type": "markdown",
   "metadata": {},
   "source": [
    "4\\. How does each of the following depend on the total number of steps? Your answers do not need to be an equation, but simply a general observation.  \n",
    "4a. The final position of your walker, after running the simulation once?"
   ]
  },
  {
   "cell_type": "markdown",
   "metadata": {},
   "source": [
    "4b. The range of final possible positions, if the simulation was run multiple times (always starting at 0). "
   ]
  },
  {
   "cell_type": "markdown",
   "metadata": {},
   "source": [
    "5\\. How does each of the following depend on the probability of a step to the right? Your answers do not need to be an equation, but simply a general observation.  \n",
    "5a. The final position of your walker, after running the simulation once?"
   ]
  },
  {
   "cell_type": "markdown",
   "metadata": {},
   "source": [
    "5b. The range of final possible positions, if the simulation was run multiple times (always starting at 0)."
   ]
  },
  {
   "cell_type": "markdown",
   "metadata": {},
   "source": [
    "### Model 2: Adding More Walkers"
   ]
  },
  {
   "cell_type": "markdown",
   "metadata": {},
   "source": [
    "Because of the many random choices of the walker, the final position varies each time the simulation is run. To obtain better statistics and visualization of the random walker, we will modify the `RandomWalk` class so that it simulates a large number of walkers and plots a histogram of the final positions.  To do this, we will need to determine the maximum possible range of the final displacements, i.e., the value of the left-most and right-most possible positions for a single walker based on the simulation parameters. "
   ]
  },
  {
   "cell_type": "markdown",
   "metadata": {},
   "source": [
    "### Critical Thinking Questions"
   ]
  },
  {
   "cell_type": "markdown",
   "metadata": {},
   "source": [
    "6\\. If we are simulating a large number of walkers, will the final position for each walker be the same at the end of the simulation?"
   ]
  },
  {
   "cell_type": "markdown",
   "metadata": {},
   "source": [
    "7\\. If we want to keep track of a large number of walkers, how should the instance variables in the `RandomWalk` class be modified?"
   ]
  },
  {
   "cell_type": "markdown",
   "metadata": {},
   "source": [
    "8\\. What are the maximum values possible for the left-most and right-most possible positions, if:  \n",
    "8a. a walker takes 10 steps?"
   ]
  },
  {
   "cell_type": "markdown",
   "metadata": {},
   "source": [
    "8b. a walker takes N steps?"
   ]
  },
  {
   "cell_type": "markdown",
   "metadata": {},
   "source": [
    "9\\. After running the simulation of a large number of walkers, we would like to view a histogram showing the final positions of all the walkers. Describe the contents of the single list that we would have to send to `pyplot.hist()` and the two lists that must be sent to the `pyplot.bar()` function to create this histogram (_note:_ you won't need to code both)"
   ]
  },
  {
   "cell_type": "markdown",
   "metadata": {},
   "source": [
    "10\\. If we simulate 1000 walkers that each take 3 steps, how long are the above two lists?"
   ]
  },
  {
   "cell_type": "markdown",
   "metadata": {
    "collapsed": true
   },
   "source": [
    "11\\. Examine the instance variables in your `RandomWalk` class.  Which instance variables are no longer necessary? What new instance variables do you need to introduce to the class to eventually create the above histogram? "
   ]
  },
  {
   "cell_type": "markdown",
   "metadata": {},
   "source": [
    "12\\. What methods do you need to modify in your `RandomWalk` class, and what new methods are needed? Keeping the Walking Skeleton process in mind, list the order in which these methods should be modified, written and tested."
   ]
  },
  {
   "cell_type": "markdown",
   "metadata": {},
   "source": [
    "13\\. When you consider the expected output of your program, should the plot depend on the value of N?  Why or why not?  How would you generalize your output such that it is independent of N?"
   ]
  },
  {
   "cell_type": "markdown",
   "metadata": {},
   "source": [
    "### Team Programming part 2  \n",
    "Make sure that as you work on these programming tasks, you are using your best ***pair programming technique*** (both driver and navigator) and switching drivers frequently.  \n",
    "\n",
    "Your code must have ***docstrings and comments*** for you to receive full credit."
   ]
  },
  {
   "cell_type": "markdown",
   "metadata": {},
   "source": [
    "F. Follow the order you created in Question 12 above, modify your `RandomWalk` class so it runs the simulation for multiple walkers and creates a list that can be graphed. You should include a `plot_positions` method that creates a *normalized* histogram of the final position of all your walkers. (do it first with a regular histogram, then figure out how to normalize it (normalized means the heights of all the bars sum to 1) - there are several reasonable ways to accomplish this).\n",
    " \n",
    "***Run your code several times to make sure it works.***"
   ]
  },
  {
   "cell_type": "code",
   "execution_count": null,
   "metadata": {
    "collapsed": true
   },
   "outputs": [],
   "source": []
  },
  {
   "cell_type": "code",
   "execution_count": null,
   "metadata": {
    "collapsed": true
   },
   "outputs": [],
   "source": [
    "## testing"
   ]
  },
  {
   "cell_type": "markdown",
   "metadata": {},
   "source": [
    "G. Modify your final code so that when you make an object, the output to the user is the normalized histogram. Make sure that your graph is well labeled.\n",
    " \n",
    "***Run your code a few times to make sure it works.***"
   ]
  },
  {
   "cell_type": "code",
   "execution_count": null,
   "metadata": {
    "collapsed": true
   },
   "outputs": [],
   "source": []
  },
  {
   "cell_type": "code",
   "execution_count": null,
   "metadata": {
    "collapsed": true
   },
   "outputs": [],
   "source": [
    "## testing"
   ]
  },
  {
   "cell_type": "markdown",
   "metadata": {},
   "source": [
    "H. Modify your constructor so it only accepts valid values for the total number of steps, probability, and number of walkers. This information should also be in your docstring (2 of the values will have arbitrary maximums and that's ok). If arguments are invalid, then your code should print a helpful message.    \n",
    "***Run your code several times to make sure it works.***"
   ]
  },
  {
   "cell_type": "code",
   "execution_count": null,
   "metadata": {
    "collapsed": true
   },
   "outputs": [],
   "source": []
  },
  {
   "cell_type": "code",
   "execution_count": null,
   "metadata": {
    "collapsed": true
   },
   "outputs": [],
   "source": [
    "## testing\n"
   ]
  },
  {
   "cell_type": "markdown",
   "metadata": {},
   "source": [
    "### Analysis Questions"
   ]
  },
  {
   "cell_type": "markdown",
   "metadata": {},
   "source": [
    "14\\. Assume that the particle has an equal probability of going to the right or left with a step length of one.  Run your simulation for different numbers of random walkers but keep the number of steps for each particle the same.   \n",
    "14a. Are some displacements more likely than others? Show some results and describe what you see."
   ]
  },
  {
   "cell_type": "code",
   "execution_count": null,
   "metadata": {
    "collapsed": true
   },
   "outputs": [],
   "source": []
  },
  {
   "cell_type": "markdown",
   "metadata": {},
   "source": []
  },
  {
   "cell_type": "markdown",
   "metadata": {},
   "source": [
    "14b. On average, where does the walker end up after N steps?  Explain your observations and provide more data as necessary. "
   ]
  },
  {
   "cell_type": "markdown",
   "metadata": {},
   "source": [
    "16\\. It can be shown that if you average over sufficient number of walks of $N$ steps, then the average displacement, $\\langle x \\rangle$, can be calculated by:  \n",
    "$$\\langle x \\rangle = (p-q)N$$  \n",
    "How do the results of your previous simulations compare to the analytical result?  Use data, code, and calculations to illustrate and fully explain your results."
   ]
  },
  {
   "cell_type": "markdown",
   "metadata": {},
   "source": [
    "### Temporal Analysis Report"
   ]
  },
  {
   "cell_type": "markdown",
   "metadata": {},
   "source": [
    "How much time did it require for your team to complete each part?"
   ]
  },
  {
   "cell_type": "markdown",
   "metadata": {},
   "source": [
    "Model 1: "
   ]
  },
  {
   "cell_type": "markdown",
   "metadata": {},
   "source": [
    "Team Programming 1:"
   ]
  },
  {
   "cell_type": "markdown",
   "metadata": {},
   "source": [
    "Model 2:"
   ]
  },
  {
   "cell_type": "markdown",
   "metadata": {},
   "source": [
    "Team Programming 2:"
   ]
  },
  {
   "cell_type": "markdown",
   "metadata": {},
   "source": [
    "Analysis Questions:"
   ]
  }
 ],
 "metadata": {
  "anaconda-cloud": {},
  "kernelspec": {
   "display_name": "Python 3",
   "language": "python",
   "name": "python3"
  },
  "language_info": {
   "codemirror_mode": {
    "name": "ipython",
    "version": 3
   },
   "file_extension": ".py",
   "mimetype": "text/x-python",
   "name": "python",
   "nbconvert_exporter": "python",
   "pygments_lexer": "ipython3",
   "version": "3.5.2"
  }
 },
 "nbformat": 4,
 "nbformat_minor": 1
}
