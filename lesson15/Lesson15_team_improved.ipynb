{
 "cells": [
  {
   "cell_type": "markdown",
   "metadata": {},
   "source": [
    "# Unit 2: Programming Design"
   ]
  },
  {
   "cell_type": "markdown",
   "metadata": {},
   "source": [
    "## Lesson 15: Object Oriented Programming"
   ]
  },
  {
   "cell_type": "markdown",
   "metadata": {},
   "source": [
    "## Notebook Authors "
   ]
  },
  {
   "cell_type": "markdown",
   "metadata": {},
   "source": [
    "_(fill in your two names here)_"
   ]
  },
  {
   "cell_type": "markdown",
   "metadata": {},
   "source": [
    "Facilitator: _(fill in name)_  \n",
    "Spokesperson: _(fill in name)_  \n",
    "Process Analyst: _(fill in name)_  \n",
    "Quality Control: _(fill in name)_  \n",
    "\n",
    "If there are only three people in your group, have one person serve as both spokesperson and process analyst for the rest of this activity.  \n",
    "\n",
    "At the end of this Lesson, you will be asked to record how long each Model required for your team. The Facilitator should keep track of time for your team."
   ]
  },
  {
   "cell_type": "markdown",
   "metadata": {},
   "source": [
    "## Computational Focus: Object Oriented Programming\n",
    "\n",
    "As programs get longer, it becomes easier to design, write, test and debug the program if the program is ordered into separate stand-alone parts. Object oriented programming is a programming model that organizes a large program into smaller parts (***classes***) by the objects (e.g., the nouns) involved. \n",
    "\n",
    "For example, if you were simulating a biome, you might separate the program into a predator class, a herbavore class, and a plant class. "
   ]
  },
  {
   "cell_type": "markdown",
   "metadata": {},
   "source": [
    "### Context Question"
   ]
  },
  {
   "cell_type": "markdown",
   "metadata": {},
   "source": [
    "0\\. As a group, choose one scientific application of object oriented programming and identify at least three classes that might be used for that application. "
   ]
  },
  {
   "cell_type": "markdown",
   "metadata": {},
   "source": []
  },
  {
   "cell_type": "markdown",
   "metadata": {},
   "source": [
    "### Model 1: Defining a Class"
   ]
  },
  {
   "cell_type": "markdown",
   "metadata": {},
   "source": [
    "Classes and objects are the two main aspects of object oriented programming. A ***class*** creates a new *type* where ***objects*** are *instances* of the class. Objects can store *data* that belong to the object, which are called ***instance variables***. Objects can also have *functionality* by calling functions that belong to a class, which are called ***methods*** of the class.   \n",
    "\n",
    "***Run the code*** in the cell below to define the `Atom` class:"
   ]
  },
  {
   "cell_type": "code",
   "execution_count": null,
   "metadata": {
    "collapsed": true
   },
   "outputs": [],
   "source": [
    "class Atom:\n",
    "    \"\"\"A simple Atom class\"\"\"\n",
    "    avogadros = 6.02E23  # floating point number representing Avogadro's Number\n",
    "    \n",
    "    def set_atomic_mass(self,grams_per_mole):\n",
    "        self.atomic_mass = grams_per_mole    \n",
    "        \n",
    "    def get_atomic_mass(self):\n",
    "        print(\"the mass is \" + str(self.atomic_mass))\n",
    "        return self.atomic_mass"
   ]
  },
  {
   "cell_type": "markdown",
   "metadata": {},
   "source": [
    "***Type*** each of the following lines of code in separate Jupyter code cells (it won't work correctly if you type them in a single Jupyter cell):\n",
    "\n",
    "```python\n",
    "oxygen = Atom()\n",
    "oxygen.set_atomic_mass(16)\n",
    "print(oxygen.get_atomic_mass())\n",
    "carbon = Atom()\n",
    "carbon.set_atomic_mass(12)\n",
    "print(carbon.get_atomic_mass())\n",
    "print(oxygen.get_atomic_mass())\n",
    "```"
   ]
  },
  {
   "cell_type": "markdown",
   "metadata": {},
   "source": [
    "### Critical Thinking Questions"
   ]
  },
  {
   "cell_type": "markdown",
   "metadata": {},
   "source": [
    "1\\. Examine the code in the class:   \n",
    "1a. What is the name of the *class* defined in Model 1?"
   ]
  },
  {
   "cell_type": "markdown",
   "metadata": {},
   "source": [
    "1b. Identify the names of the two *methods* defined in Model 1."
   ]
  },
  {
   "cell_type": "markdown",
   "metadata": {},
   "source": [
    "1c. Examine the first parameter used for every method in the class. What is the variable name for this first parameter, for all methods in a class?"
   ]
  },
  {
   "cell_type": "markdown",
   "metadata": {},
   "source": [
    "1d. How does the number of parameters in the method definition differ from the number of arguments given when the method is called? "
   ]
  },
  {
   "cell_type": "markdown",
   "metadata": {},
   "source": [
    "2\\. Now examine the code that you typed into separate Jupyter code cells.   \n",
    "2a. How many different objects were created in Model 1? "
   ]
  },
  {
   "cell_type": "markdown",
   "metadata": {},
   "source": [
    "2b. Identify the variable name of each object."
   ]
  },
  {
   "cell_type": "markdown",
   "metadata": {},
   "source": [
    "3\\. Consider the instance variable `self.atomic_mass` created in the method `set_atomic_mass`.  \n",
    "\n",
    "3a. What is the type of this instance variable (boolean, integer, floating point number, string, etc)? Add a comment to the `set_atomic_mass` method definition noting the type as well."
   ]
  },
  {
   "cell_type": "markdown",
   "metadata": {},
   "source": [
    "3b. Identify the value of this variable for each object created in Model 1."
   ]
  },
  {
   "cell_type": "markdown",
   "metadata": {},
   "source": [
    "3c. Explain how you know from Model 1 that the instance variable `self.atomic_mass` has a value that can be used outside the method where it is assigned a value (i.e., it is not a local variable)."
   ]
  },
  {
   "cell_type": "markdown",
   "metadata": {},
   "source": [
    "3d. In order for these two objects to have different values for the same instance variable, what might a possible value of the `self` parameter be, when the `get_atomic_mass method` is called for each case?"
   ]
  },
  {
   "cell_type": "markdown",
   "metadata": {},
   "source": [
    "4a. Write Python code to a new `Atom` object called `hydrogen`. "
   ]
  },
  {
   "cell_type": "code",
   "execution_count": null,
   "metadata": {
    "collapsed": true
   },
   "outputs": [],
   "source": []
  },
  {
   "cell_type": "markdown",
   "metadata": {},
   "source": [
    "4b. Call the `get_atomic_mass` method on `hydrogen`."
   ]
  },
  {
   "cell_type": "code",
   "execution_count": null,
   "metadata": {
    "collapsed": true
   },
   "outputs": [],
   "source": []
  },
  {
   "cell_type": "markdown",
   "metadata": {},
   "source": [
    "4c. Describe the reason for the error you get if you call `get_atomic_mass` without first calling `set_atomic_mass` on the `hydrogen` object."
   ]
  },
  {
   "cell_type": "markdown",
   "metadata": {},
   "source": [
    "### Model 2: Writing Constructors"
   ]
  },
  {
   "cell_type": "markdown",
   "metadata": {},
   "source": [
    "For each class defined, you can provide a ***constructor*** that initializes instance variables of a new object. In Python, the constructor is always called `__init__` (with two underscores before and after init, four underscores total). The constructor is called when you create a new object (e.g., `carbon = Atom()`). "
   ]
  },
  {
   "cell_type": "markdown",
   "metadata": {},
   "source": [
    "Copy the Atom definition into the code cell below. ***Add the following*** constructor to your Atom class. By convention, it should be the FIRST method inside your class (don't forget to indent).  \n",
    "\n",
    "```python\n",
    "    def __init__(self, grams_per_mole):\n",
    "        self.atomic_mass = grams_per_mole\n",
    "```\n",
    "***make sure to run this new version of `Atom`***"
   ]
  },
  {
   "cell_type": "code",
   "execution_count": null,
   "metadata": {
    "collapsed": true
   },
   "outputs": [],
   "source": []
  },
  {
   "cell_type": "markdown",
   "metadata": {},
   "source": [
    "***Type*** each of the following lines of code in separate Jupyter code cells (it won't work correctly if you type them in a single Jupyter cell):\n",
    "\n",
    "```python\n",
    "carbon = Atom(12)\n",
    "print(carbon.get_atomic_mass())\n",
    "print(self.atomic_mass)\n",
    "```"
   ]
  },
  {
   "cell_type": "markdown",
   "metadata": {},
   "source": [
    "It is possible to make a parameter optional by adding a default value for that parameter using an `=` operator, as in:\n",
    "\n",
    "```python\n",
    "def __init__(self, grams_per_mole=12):\n",
    "    self.atomic_mass = grams_per_mole\n",
    "```"
   ]
  },
  {
   "cell_type": "markdown",
   "metadata": {
    "collapsed": true
   },
   "source": [
    "The `Atom` objects can now be created in two ways.   \n",
    "\n",
    "***Type*** each of the following lines of code in separate Jupyter code cells (it won't work correctly if you type them in a single Jupyter cell):\n",
    "```python\n",
    "element = Atom(16)\n",
    "print(element.get_atomic_mass())\n",
    "carbon = Atom()\n",
    "print(carbon.get_atomic_mass())\n",
    "carbon.set_atomic_mass(13)\n",
    "print(carbon.get_atomic_mass())\n",
    "```"
   ]
  },
  {
   "cell_type": "markdown",
   "metadata": {},
   "source": [
    "### Critical Thinking Questions"
   ]
  },
  {
   "cell_type": "markdown",
   "metadata": {
    "collapsed": true
   },
   "source": [
    "5\\. What is (always) the name of the constructor in a class?"
   ]
  },
  {
   "cell_type": "markdown",
   "metadata": {},
   "source": [
    "6\\. Explain how you know from Model 2 that the constructor is called when an object is created."
   ]
  },
  {
   "cell_type": "markdown",
   "metadata": {},
   "source": [
    "7\\. Consider your answer to question 4 from the previous Model. What is one advantage of defining a constructor for a class?"
   ]
  },
  {
   "cell_type": "markdown",
   "metadata": {},
   "source": [
    "8\\. Explain how you know from Model 2 that the instance variable `self.atomic_mass` is not a global variable?"
   ]
  },
  {
   "cell_type": "markdown",
   "metadata": {},
   "source": [
    "9\\. Recall previously that we learned that variables have _local_ scope (variables defined within a function) or _global_ scope (variables created in the non-indented part of a Python script). What would you define as the scope of the variable initialized in the constructor? "
   ]
  },
  {
   "cell_type": "markdown",
   "metadata": {},
   "source": [
    "10\\. Why might you still define a set method (e.g., `set_atomic_mass`) if a constructor method has been defined for the class? "
   ]
  },
  {
   "cell_type": "markdown",
   "metadata": {},
   "source": [
    "### Model 3: Scope"
   ]
  },
  {
   "cell_type": "markdown",
   "metadata": {},
   "source": [
    "Copy the Atom definition in the code cell below. ***Add the following*** three methods to the end of your Atom class:\n",
    "\n",
    "```python\n",
    "    def calculate_mass_from_moles(self, moles):\n",
    "        \"\"\" calculate the number of grams from the number of moles of the element \"\"\"\n",
    "        mass = self.atomic_mass*moles \n",
    "        return mass\n",
    "\n",
    "    def calculate_mass_from_atoms(self, atoms):\n",
    "        \"\"\" calculate the number of grams from the number of atoms of the element \"\"\"\n",
    "        moles = atoms / Atom.avogadros\n",
    "        answer = self.calculate_mass_from_moles(moles)\n",
    "        return answer\n",
    "        \n",
    "    def calculate_atoms_from_mass(self, grams):\n",
    "        \"\"\" calculate the number of atoms from mass in grams \"\"\"\n",
    "        atoms = grams / self.atomic_mass * Atom.avogadros\n",
    "        return atoms\n",
    "\n",
    "```\n",
    "***make sure to run this new version of `Atom`***"
   ]
  },
  {
   "cell_type": "code",
   "execution_count": null,
   "metadata": {
    "collapsed": true
   },
   "outputs": [],
   "source": []
  },
  {
   "cell_type": "markdown",
   "metadata": {},
   "source": [
    "***Type*** each of the following lines of code in separate Jupyter code cells (it won't work correctly if you type them in a single Jupyter cell):\n",
    "```python\n",
    "hydrogen = Atom(1)\n",
    "number = hydrogen.calculate_atoms_from_mass(2)\n",
    "print(number)\n",
    "print(hydrogen.calculate_mass_from_atoms(number)\n",
    "```"
   ]
  },
  {
   "cell_type": "markdown",
   "metadata": {},
   "source": [
    "### Critical Thinking Questions"
   ]
  },
  {
   "cell_type": "markdown",
   "metadata": {},
   "source": [
    "11\\. Examine the `calculate_mass` method.    \n",
    "11a. Identify at least three variables in the `calculate_mass` method."
   ]
  },
  {
   "cell_type": "markdown",
   "metadata": {},
   "source": [
    "11b. For each variable, give the scope (local, class, global) of the variable."
   ]
  },
  {
   "cell_type": "markdown",
   "metadata": {},
   "source": [
    "12\\. What determines whether a variable in a method is defined as an instance variable or simply a local variable?"
   ]
  },
  {
   "cell_type": "markdown",
   "metadata": {},
   "source": [
    "13\\. Examine the `calculate_atoms_from_mass` method.   \n",
    "13a. Identify the variable used in the `calculate_atoms_from_mass` method, that was initialized inside the Atom class but outside the constructor and methods?  "
   ]
  },
  {
   "cell_type": "markdown",
   "metadata": {},
   "source": [
    "13b. Explain the syntax for referring to this ***class variable*** (and how it differs from an instance variable).\n"
   ]
  },
  {
   "cell_type": "markdown",
   "metadata": {},
   "source": [
    "14\\. The `calculate_atoms_from_mass` calculates the number of atoms that are in a specific number of grams of the element.   \n",
    "\n",
    "14a. Give the equation for the inverse calculation (the mass, in grams, of a given number of atoms) by inversing the equation from `calculate_atoms_from_mass`. Your equation should not look like the code in `calculate_mass_from_atoms`. "
   ]
  },
  {
   "cell_type": "markdown",
   "metadata": {},
   "source": [
    "14b. Explain how the `calculate_mass_from_atoms` method differs from your answer (a) to calculate the mass. "
   ]
  },
  {
   "cell_type": "markdown",
   "metadata": {},
   "source": [
    "14c. Take one minute and list any advantages you perceive for writing `calculate_mass_from_atoms` as it was defined in the Model."
   ]
  },
  {
   "cell_type": "markdown",
   "metadata": {},
   "source": [
    "15\\. Would it be possible to write the `calculate_atoms_from_mass` method in the Atom class as a stand alone function?  If so, explain how the function would differ.  "
   ]
  },
  {
   "cell_type": "markdown",
   "metadata": {},
   "source": [
    "16\\. The `string` class is another class you have programmed with this semester.   \n",
    "16a. What is the data in a string object? "
   ]
  },
  {
   "cell_type": "markdown",
   "metadata": {},
   "source": [
    "16b. Give one example of a string method."
   ]
  },
  {
   "cell_type": "markdown",
   "metadata": {},
   "source": [
    "17\\. Take one minute and list any advantages you perceive for writing code as methods in classes in comparison to stand alone functions.   "
   ]
  },
  {
   "cell_type": "markdown",
   "metadata": {},
   "source": [
    "18\\. Add a new instance variable to the existing Atom class' constructor. The instance variable, `atomic_number`, will represent atomic number.  Carbon’s atomic number is 6."
   ]
  },
  {
   "cell_type": "markdown",
   "metadata": {},
   "source": [
    "19\\. Next add a `get_atomic_number` method to the Atom class that returns the atom’s atomic number. Test your method before proceeding to the next step."
   ]
  },
  {
   "cell_type": "markdown",
   "metadata": {},
   "source": [
    "20\\. Add a `set_atomic_number` method that allows the atom’s atomic number to be set to any positive number. Negative and zero numbers should be ignored (have no effect). "
   ]
  },
  {
   "cell_type": "markdown",
   "metadata": {},
   "source": [
    "21\\. Modify the constructor in the Atom class so it also assigns a default value to `atomic_number`. Be sure to run and test this new version of the Atom. You should be able to create a two Atoms (one default, and another new Atom with a different atomic_mass and atomic_number) with this constructor. All the new methods and previous methods should work."
   ]
  },
  {
   "cell_type": "markdown",
   "metadata": {},
   "source": [
    "### More info on Object Oriented Programming"
   ]
  },
  {
   "cell_type": "markdown",
   "metadata": {},
   "source": [
    "Webinar on Object Oriented Programming in Python (requires free academic subscription):\n",
    "+ Overview: https://training.enthought.com/course/OOP_V02/lecture/oop-intro-v02\n",
    "+ Defining a class: https://training.enthought.com/course/OOP_V02/lecture/oop-class-v02\n",
    "+ Constructors: https://training.enthought.com/course/OOP_V02/lecture/oop-constructor-v02"
   ]
  },
  {
   "cell_type": "markdown",
   "metadata": {},
   "source": [
    "### Temporal Analysis Report"
   ]
  },
  {
   "cell_type": "markdown",
   "metadata": {},
   "source": [
    "How much time did it require for your team to complete each Model?"
   ]
  },
  {
   "cell_type": "markdown",
   "metadata": {},
   "source": [
    "Model 1: "
   ]
  },
  {
   "cell_type": "markdown",
   "metadata": {},
   "source": [
    "Model 2:"
   ]
  },
  {
   "cell_type": "markdown",
   "metadata": {},
   "source": [
    "Model 3:"
   ]
  }
 ],
 "metadata": {
  "anaconda-cloud": {},
  "kernelspec": {
   "display_name": "Python 3",
   "language": "python",
   "name": "python3"
  },
  "language_info": {
   "codemirror_mode": {
    "name": "ipython",
    "version": 3
   },
   "file_extension": ".py",
   "mimetype": "text/x-python",
   "name": "python",
   "nbconvert_exporter": "python",
   "pygments_lexer": "ipython3",
   "version": "3.5.2"
  }
 },
 "nbformat": 4,
 "nbformat_minor": 2
}
