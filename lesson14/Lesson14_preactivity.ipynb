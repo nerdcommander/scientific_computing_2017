{
 "cells": [
  {
   "cell_type": "markdown",
   "metadata": {
    "collapsed": true
   },
   "source": [
    "# Unit 2: Programming Design\n",
    "## Lesson 14: Packages and Data Analysis"
   ]
  },
  {
   "cell_type": "markdown",
   "metadata": {},
   "source": [
    "### Scientific Context: Reproducible Research"
   ]
  },
  {
   "cell_type": "markdown",
   "metadata": {},
   "source": [
    "There has been a lot of disussion lately in the scientific community and the [media](https://fivethirtyeight.com/features/science-isnt-broken/) about a \"reproducibility crisis\" in science. Two relatively high profile examples over the years in [medicine](http://journals.plos.org/plosmedicine/article?id=10.1371/journal.pmed.0020124) and [psychology](science.sciencemag.org/content/349/6251/aac4716.full) have really led the way in making the case for **\"Reproducible Research\"** but there is a strong argument for being able to reproduce lots of different kinds of [computational science](https://psychology.stanford.edu/sites/all/files/Science-2011-Peng-1226-7.pdf) (including [computational biology](https://bmcsystbiol.biomedcentral.com/articles/10.1186/s12918-016-0288-x) - this one even talks about Jupyter Notebooks). Hopefully your science professors and mentors have impressed upon you the long tradition of scientific note taking, this idea extends to more complex analysis of complex data.\n",
    "\n",
    "***Required Reading:***  \n",
    "[Ten Simple Rules for Reproducible Computational Research](http://journals.plos.org/ploscompbiol/article?id=10.1371/journal.pcbi.1003285)"
   ]
  },
  {
   "cell_type": "markdown",
   "metadata": {},
   "source": [
    "### Science Fundamentals: (Reproducible) Data Analysis"
   ]
  },
  {
   "cell_type": "markdown",
   "metadata": {},
   "source": [
    "Usually at this point we would have to try to convince you that Jupyter Notebooks and Python are a good tools for doing reproducible computational research, but you're already convinced of that (or stuck with them). So we'll move along to the data. \n",
    "\n",
    "All fields of sceince have some of their data in what we will call a **data frame** but is more commonly known as a table or spreadsheet. Here is an example:\n",
    "\n",
    "```\n",
    "sample      generation   genome_size\n",
    "REL606          0        4.62\n",
    "REL1166A     2000        4.63\n",
    "ZDB409       5000        4.60\n",
    "ZDB429      10000        4.59\n",
    "ZDB446      15000        4.66\n",
    "...\n",
    "```"
   ]
  },
  {
   "cell_type": "markdown",
   "metadata": {},
   "source": [
    "### Pandas\n",
    "The Python package called [pandas](http://pandas.pydata.org/) \"is an open source, BSD-licensed library providing high-performance, easy-to-use data structures and data analysis tools for the Python programming language\" and has become the defacto standard for analyzing data in a DataFrame format using Python (`pandas` reminds me a lot of the `dplyr` package in R).  \n",
    "\n",
    "Our Lesson 14 class activity will be to use the `pandas` library of tools to analyze a DataFrame."
   ]
  },
  {
   "cell_type": "markdown",
   "metadata": {},
   "source": [
    "### Pre-Activity Questions"
   ]
  },
  {
   "cell_type": "markdown",
   "metadata": {},
   "source": [
    "**1\\.** Define \"Reproducible Research\" in your own words. Make sure to cite sources you used to come to this definition."
   ]
  },
  {
   "cell_type": "markdown",
   "metadata": {},
   "source": []
  },
  {
   "cell_type": "markdown",
   "metadata": {},
   "source": [
    "**2\\.** Provide a description/explanation of a field-specific example of both:  \n",
    "**2a.** ***Reproducible Research***, and   \n",
    "**2b.** ***Not Reproducible Research***.   \n",
    "\n",
    "Make sure to cite sources you used to answer this question."
   ]
  },
  {
   "cell_type": "markdown",
   "metadata": {},
   "source": []
  },
  {
   "cell_type": "markdown",
   "metadata": {},
   "source": [
    "**3\\.** Find a _\"data frame\"_ that has data from your field in it that has ***at least*** 3 columns (variables) and 20 rows (observations).  \n",
    "**3a.** Save this file as a `.csv` (comma separated value) file on your computer. (no need to answer here)"
   ]
  },
  {
   "cell_type": "markdown",
   "metadata": {},
   "source": [
    "**3b.** Describe the data, purpose, context, etc of the data. Make sure to cite the sources of information that you use and provide a link to the data itself."
   ]
  },
  {
   "cell_type": "markdown",
   "metadata": {},
   "source": [
    "**3c.** Paste the first few rows below (like the example above):\n",
    "```\n",
    "your data here\n",
    "...\n",
    "```"
   ]
  },
  {
   "cell_type": "markdown",
   "metadata": {},
   "source": []
  }
 ],
 "metadata": {
  "anaconda-cloud": {},
  "kernelspec": {
   "display_name": "Python [default]",
   "language": "python",
   "name": "python3"
  },
  "language_info": {
   "codemirror_mode": {
    "name": "ipython",
    "version": 3
   },
   "file_extension": ".py",
   "mimetype": "text/x-python",
   "name": "python",
   "nbconvert_exporter": "python",
   "pygments_lexer": "ipython3",
   "version": "3.5.2"
  }
 },
 "nbformat": 4,
 "nbformat_minor": 1
}
