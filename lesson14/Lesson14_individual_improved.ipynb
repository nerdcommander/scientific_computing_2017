{
 "cells": [
  {
   "cell_type": "markdown",
   "metadata": {},
   "source": [
    "# Lesson14 Individual Assignment"
   ]
  },
  {
   "cell_type": "markdown",
   "metadata": {},
   "source": [
    "***Individual*** means that you do it yourself. You won't learn to code if you don't ***struggle for yourself*** and  ***write your own*** code. Remember that while you can discuss the general (algorithmic) way to solve a problem, you should ***not*** even be looking at anyone else's code or showing anyone else your code for an individual assignment.  \n",
    "Review the **Group Work** guidelines on Cavas and/or ask an instructor if you have any questions."
   ]
  },
  {
   "cell_type": "markdown",
   "metadata": {},
   "source": [
    "## Programming Practice"
   ]
  },
  {
   "cell_type": "markdown",
   "metadata": {},
   "source": [
    "Be sure to spell all function names ***correctly*** - misspelled functions will lose points (and often break anyway since no one is sure what to type to call it). If you prefer showing your earlier, scratch work as you figure out what you are doing, please be sure that you make a final, complete, correct last function in its own cell that you then call several times to test. In other words, separate your thought process/working versions from the final one (a comment that tells us which is the final version would be lovely).\n",
    "\n",
    "Every function should have ***at least*** a docstring at the start that states what it does (see _Lesson3 Team Notebook_ if you need a reminder). Make other comments as necessary.  \n",
    "\n",
    "Make sure that you are running ***test cases (plural)*** for everything and commenting on the results in markdown. Your comments should discuss how you know that the test case results are correct."
   ]
  },
  {
   "cell_type": "markdown",
   "metadata": {},
   "source": [
    "## part 1:  preparation"
   ]
  },
  {
   "cell_type": "markdown",
   "metadata": {},
   "source": [
    "Don't forget that every new notebook needs to import the packages and libraries that you need (with hte standard nicknames)."
   ]
  },
  {
   "cell_type": "code",
   "execution_count": 6,
   "metadata": {
    "collapsed": false
   },
   "outputs": [],
   "source": [
    "## don't forget to import and nickname\n"
   ]
  },
  {
   "cell_type": "markdown",
   "metadata": {},
   "source": [
    "You should have exported a cleaned and tidied version of the `gapminder` DataFrame called `gapminder_CandT.csv` at the end of the `Team` activity.\n",
    "\n",
    "***write code*** to import it into this notebook assigned to the identifier `gapminder_CandT` (use this name please).  (_hint_ use `pd.read_csv()` method)"
   ]
  },
  {
   "cell_type": "code",
   "execution_count": null,
   "metadata": {
    "collapsed": true
   },
   "outputs": [],
   "source": [
    "## your code to import the local file\n",
    "## do not change the name!\n",
    "\n",
    "\n"
   ]
  },
  {
   "cell_type": "markdown",
   "metadata": {},
   "source": [
    "***write code*** to make sure that it worked"
   ]
  },
  {
   "cell_type": "code",
   "execution_count": null,
   "metadata": {
    "collapsed": true
   },
   "outputs": [],
   "source": [
    "# code to make sure it looks like the example below\n"
   ]
  },
  {
   "cell_type": "markdown",
   "metadata": {},
   "source": [
    "The first 5 rows of your `gapminder_CandT` DataFrame should look like this:  \n",
    "\n",
    "|year|pop|lifeexp|gdppercap|country|continent\n",
    "---|---|---|---|---|---\n",
    "**0**|1952|8425333|28.801|779.445314|afghanistan|asia\n",
    "**1**|1957|9240934|30.332|820.853030|afghanistan|asia\n",
    "**2**|1962|10267083|31.997|853.100710|afghanistan|asia\n",
    "**3**|1967|11537966|34.020|836.197138|afghanistan|asia\n",
    "**4**|1972|13079460|36.088|739.981106|afghanistan|asia"
   ]
  },
  {
   "cell_type": "markdown",
   "metadata": {},
   "source": [
    "**1\\. Comment on the correct code to accomplish this import - what is new? what is not? what is important?**"
   ]
  },
  {
   "cell_type": "markdown",
   "metadata": {},
   "source": []
  },
  {
   "cell_type": "markdown",
   "metadata": {},
   "source": [
    "## part2: merging data\n",
    "\n",
    "Often we have more than one DataFrame that contains parts of our data set and we want to put them together. This is known as merging the data.\n",
    "\n",
    "Now we want to add a data for a new country called The People's Republic of Berkeley to the `gapminder` data set that we have cleaned up. Our goal is to get this new data into the same DataFrame in the same format as the gapminder data and, in this case, we want to concatenate (add) it onto the end of the gapminder data.\n",
    "\n",
    "**Concatentating** is a simple form of merging, there are many useful (and more complicated) ways to merge data.  If you are interested in more information, the [Pandas Documentation](http://pandas.pydata.org/pandas-docs/stable/merging.html) on merging is useful.\n",
    "\n",
    "Download the People's Republic of Berkeley data (`PRB_data.csv`) from Canvas.\n",
    "\n",
    "***write code*** to read in the People's Republic of Berkeley data (`PRB_data.csv`) and assign it to the identifier `PRB`."
   ]
  },
  {
   "cell_type": "code",
   "execution_count": 1,
   "metadata": {
    "collapsed": false
   },
   "outputs": [],
   "source": [
    "## read in PRB data and assign it to PRB\n",
    "\n",
    "## look at the top 5 rows\n"
   ]
  },
  {
   "cell_type": "markdown",
   "metadata": {},
   "source": [
    "**Oh snap!** th `PRB` data is in the original format!   \n",
    "\n",
    "You can't merge the `PRB` and `gapminder_CandT` DataFrames until they have the data you want in the same column structures, same labels, etc.\n",
    "\n",
    "**You have 2 jobs in this section:**  \n",
    "+ make sure there are no duplicates or NAs in the `PRB` data\n",
    "+ Clean and tidy it so that it has the same format as the `gapminder_CandT` data (columns, column names, case of text, etc.)\n",
    "\n",
    "***Note:*** this should take you several steps. Make sure to leave all of the code and results in place for grading (this is also good practice for reproducibility)  \n",
    "\n",
    "***write and run your code below***"
   ]
  },
  {
   "cell_type": "code",
   "execution_count": null,
   "metadata": {
    "collapsed": false,
    "scrolled": true
   },
   "outputs": [],
   "source": [
    "## look for NAs and duplicates\n",
    "## clean the data to look like the current gapminder\n",
    "\n"
   ]
  },
  {
   "cell_type": "markdown",
   "metadata": {
    "collapsed": false
   },
   "source": [
    "### _finally_, combine the data sets"
   ]
  },
  {
   "cell_type": "markdown",
   "metadata": {},
   "source": [
    "Now that the two DataFrames have the same columns and overall formats, you can combine them.  \n",
    "Check out this [link to the docs](http://pandas.pydata.org/pandas-docs/stable/merging.html) for recommendations, there are several ways to do this.  \n",
    "\n",
    "**You have 2 jobs in this section:**  \n",
    "+ merge the 2 DataFrames calling the merged version `gapminder_comb` and confirm it is merged\n",
    "+ make sure the index of `gapminder_comb` is continuous (doesn't start over creating duplicates)\n",
    "\n",
    "***write and run your code below***"
   ]
  },
  {
   "cell_type": "code",
   "execution_count": 3,
   "metadata": {
    "collapsed": false
   },
   "outputs": [],
   "source": [
    "## combine the data sets\n",
    "## fix and verify index is continuous\n",
    "\n"
   ]
  },
  {
   "cell_type": "markdown",
   "metadata": {},
   "source": [
    "**2\\. Comment on your results.**"
   ]
  },
  {
   "cell_type": "markdown",
   "metadata": {},
   "source": []
  },
  {
   "cell_type": "markdown",
   "metadata": {
    "collapsed": true
   },
   "source": [
    "## part3: summarizing data\n",
    "\n",
    "### Exploration is an iterative process\n",
    "\n",
    "So far, we've taken raw data and worked through steps to prepare it for analysis, but we have not yet done any \"data analysis\".  This part of the data workflow can be thought of as \"exploratory data analysis\", or EDA.  Many of the steps we've shown are aimed at uncovering interesting or problematic things in the dataset that are not immediately obvious.  We want to stress that when you're doing EDA, it will not necessarily be a linear workflow.  When you plot or summarize your data, you may uncover new issues: we saw this when we made a mistake fixing the naming conventions for the Democratic Republic of Congo.  You might discover outliers, unusually large values, or points that don't make sense in your plots.  Clearly, the work here isn't done: you'll have to investigate these points, decide how to fix any potential problems, document the reasoning for your actions, and check that your fix actually worked.\n",
    "\n",
    "On the other hand, plots and summaries might reveal interesting observations and prompt questions about your data.  You may return to the cleaning and prepping steps in order to dig deeper into these questions.  You should continuously refine your plots to give the clearest picture of your hypotheses. Remember, **exploration is an iterative process**.\n",
    "\n",
    "Remember that the `info()` method gives a few useful pieces of information, including the shape of the DataFrame, the variable type of each column, and the amount of memory stored. We can see many of our changes (continent and country columns instead of region, higher number of rows, etc.) reflected in the output of the `info()` method.\n",
    "\n",
    "We also saw before that the `describe()` method will take the numeric columns and give a summary of their values. \n",
    "\n",
    "***write and run code*** to get `info()` and `describe()` the `gapminder_comb` data."
   ]
  },
  {
   "cell_type": "code",
   "execution_count": null,
   "metadata": {
    "collapsed": true
   },
   "outputs": [],
   "source": [
    "## info and describe\n",
    "\n"
   ]
  },
  {
   "cell_type": "markdown",
   "metadata": {},
   "source": [
    "The two methods above are very easy to use, but don't give us all of the info that we might want."
   ]
  },
  {
   "cell_type": "markdown",
   "metadata": {},
   "source": [
    "### More summaries\n",
    "\n",
    "Now play around with some of the summary functions that you used before or are on the cheat sheet."
   ]
  },
  {
   "cell_type": "code",
   "execution_count": null,
   "metadata": {
    "collapsed": false
   },
   "outputs": [],
   "source": [
    "## your code and results for summaries\n"
   ]
  },
  {
   "cell_type": "markdown",
   "metadata": {},
   "source": [
    "What if we wanted a new DataFrame that just contained summary info? This could be a table in a report. For example what if we wanted to know the number of countries per continent, the mean and median population for a country on each continent, and the mean and median GDP for a country on each continent? (just the blank skeleton here):\n",
    "\n",
    "|countries|meanpop|medianpop|meangdp|mediangdp\n",
    "---|---|---|---|---|---\n",
    "**continent**|||||\t\t\t\n",
    "**africa**|||||\n",
    "**americas**|||||\n",
    "**asia**|||||\n",
    "**europe**|||||\n",
    "**oceania**|||||\n",
    "\n",
    "write code to reproduce this table (with the numbers filled in)"
   ]
  },
  {
   "cell_type": "code",
   "execution_count": 4,
   "metadata": {
    "collapsed": false,
    "scrolled": true
   },
   "outputs": [],
   "source": [
    "## report table code\n"
   ]
  },
  {
   "cell_type": "markdown",
   "metadata": {},
   "source": [
    "**3\\. Comment on your results.**"
   ]
  },
  {
   "cell_type": "markdown",
   "metadata": {},
   "source": []
  },
  {
   "cell_type": "markdown",
   "metadata": {},
   "source": [
    "## part4: data visualization with `matplotlib`\n",
    "\n",
    "Recall that [matplotlib](http://matplotlib.org) is Python's main visualization library. It provides a range of tools for constructing plots, and numerous high-level plotting libraries are built with `matplotlib` in mind. When we were in the early stages of setting up our analysis, we loaded these libraries like so:"
   ]
  },
  {
   "cell_type": "code",
   "execution_count": 7,
   "metadata": {
    "collapsed": false
   },
   "outputs": [],
   "source": [
    "## don't forget to import and nickname\n",
    "import matplotlib.pyplot as plt"
   ]
  },
  {
   "cell_type": "markdown",
   "metadata": {},
   "source": [
    "Now, let's turn to data visualization. In order to get a feel for the properties\n",
    "of the data set we are working with, data visualization is key. While, we will\n",
    "focus only on the essentials of how to properly construct plots in univariate\n",
    "and bivariate settings here, it's worth noting that matplotlib\n",
    "supports a diversity of plots, check out the gallery for examples: [matplotlib gallery](http://matplotlib.org/gallery.html).\n",
    "---\n",
    "\n",
    "### Single variables\n",
    "\n",
    "**Histograms** - provide a quick way of visualizing the distribution of numerical data, or the frequencies of observations for categorical variables. (***run the code*** in the cell below)..."
   ]
  },
  {
   "cell_type": "code",
   "execution_count": null,
   "metadata": {
    "collapsed": false,
    "scrolled": true
   },
   "outputs": [],
   "source": [
    "## example histogram\n",
    "\n",
    "# import numpy to get random numbers\n",
    "import numpy as np\n",
    "\n",
    "# generate some random numbers from a normal distribution\n",
    "data = 100 + np.random.randn(500)\n",
    "\n",
    "# make a histogram with 20 bins\n",
    "plt.hist(data, 20)\n",
    "plt.xlabel('x axis')\n",
    "plt.ylabel('y axis')\n",
    "plt.show()"
   ]
  },
  {
   "cell_type": "markdown",
   "metadata": {},
   "source": [
    "### Pairs of variables\n",
    "\n",
    "**Scatterplots** - provide visualization of relationships across two variables, for example (***run the code*** in the cell below)..."
   ]
  },
  {
   "cell_type": "code",
   "execution_count": null,
   "metadata": {
    "collapsed": false
   },
   "outputs": [],
   "source": [
    "## example scatterplot\n",
    "\n",
    "# import numpy to get random numbers\n",
    "import numpy as np\n",
    "\n",
    "# generate toy data\n",
    "x = 2 * np.random.randn(55) + 5\n",
    "y = 3 + 0.5 * x + np.random.randn(55)\n",
    "\n",
    "# plot the data\n",
    "plt.plot(x, y, 'bo') # blue dots\n",
    "plt.show()"
   ]
  },
  {
   "cell_type": "markdown",
   "metadata": {},
   "source": [
    "Your job for the plotting portion of this assignment is to:\n",
    "+ make at least 3 plots of the `gapminder_comb` data set\n",
    "+ at least one needs to be a histogram\n",
    "+ at least one needs to be a scatterplot\n",
    "\n",
    "***write and run*** your code below, make sure to leave in the results and comment on each plot."
   ]
  },
  {
   "cell_type": "code",
   "execution_count": null,
   "metadata": {
    "collapsed": true
   },
   "outputs": [],
   "source": []
  }
 ],
 "metadata": {
  "anaconda-cloud": {},
  "kernelspec": {
   "display_name": "Python [default]",
   "language": "python",
   "name": "python3"
  },
  "language_info": {
   "codemirror_mode": {
    "name": "ipython",
    "version": 3
   },
   "file_extension": ".py",
   "mimetype": "text/x-python",
   "name": "python",
   "nbconvert_exporter": "python",
   "pygments_lexer": "ipython3",
   "version": "3.5.2"
  }
 },
 "nbformat": 4,
 "nbformat_minor": 1
}
