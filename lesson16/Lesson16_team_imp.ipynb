{
 "cells": [
  {
   "cell_type": "markdown",
   "metadata": {},
   "source": [
    "# Unit 2: Programming Design"
   ]
  },
  {
   "cell_type": "markdown",
   "metadata": {},
   "source": [
    "## Lesson 16: Recursion"
   ]
  },
  {
   "cell_type": "markdown",
   "metadata": {},
   "source": [
    "## Notebook Authors "
   ]
  },
  {
   "cell_type": "markdown",
   "metadata": {},
   "source": [
    "_(fill in your two names here)_"
   ]
  },
  {
   "cell_type": "markdown",
   "metadata": {},
   "source": [
    "Facilitator: _(fill in name)_  \n",
    "Spokesperson: _(fill in name)_  \n",
    "Process Analyst: _(fill in name)_  \n",
    "Quality Control: _(fill in name)_  \n",
    "\n",
    "If there are only three people in your group, have one person serve as both spokesperson and process analyst for the rest of this activity.  \n",
    "\n",
    "At the end of this Lesson, you will be asked to record how long each Model required for your team. The Facilitator should keep track of time for your team."
   ]
  },
  {
   "cell_type": "markdown",
   "metadata": {},
   "source": [
    "## Computational Focus: Recursion\n",
    "\n",
    "Recursion is an alternative method for writing code that repeats. Any recursive program can be written as a loop, but recursion is especially good when the problem can be solved by considering the solution to a smaller program (similar to the idea of nested Russian Matryoshka dolls that fit inside each other):\n",
    "\n",
    "![alt text](http://people.westminstercollege.edu/faculty/hhu/370/images/L16_matryoshka-dolls.png \"Russian Matryoshka Dolls\")\n",
    "\n",
    "An example of a recursive application would be one where a program tries to find a solution by generating every possible combination (such as trying every number possible on a Sudoku puzzle). "
   ]
  },
  {
   "cell_type": "markdown",
   "metadata": {},
   "source": [
    "### Model 1: Identifying Base Cases"
   ]
  },
  {
   "cell_type": "markdown",
   "metadata": {},
   "source": [
    "When faced with a large problem to solve, we can seek to use a solution to a smaller, simpler problem.  If we repeatedly decompose the original problem into smaller simpler expressions, eventually, we will identify the most simple or basic component that can’t be broken down any further.  This is referred to as the ***base case***.  \n",
    "\n",
    "![alt text](http://people.westminstercollege.edu/faculty/hhu/370/images/L16_basecase_640.jpg \"Base Case\")\n"
   ]
  },
  {
   "cell_type": "markdown",
   "metadata": {},
   "source": [
    "### Critical Thinking Questions"
   ]
  },
  {
   "cell_type": "markdown",
   "metadata": {},
   "source": [
    "1\\. Consider two different ways to show how to calculate $4!$ (the product of the numbers from 1 to 4).  \n",
    "1a. Type out all numbers that explicitly need to be multiplied."
   ]
  },
  {
   "cell_type": "markdown",
   "metadata": {},
   "source": [
    "4! = "
   ]
  },
  {
   "cell_type": "markdown",
   "metadata": {},
   "source": [
    "1b. Now type the expression using $3!$."
   ]
  },
  {
   "cell_type": "markdown",
   "metadata": {},
   "source": [
    "4! = "
   ]
  },
  {
   "cell_type": "markdown",
   "metadata": {},
   "source": [
    "2\\. Write an expression similar to question 1b showing how each factorial can be calculated in terms of a \"simpler\" factorial.     "
   ]
  },
  {
   "cell_type": "markdown",
   "metadata": {},
   "source": [
    "2a. 3! = "
   ]
  },
  {
   "cell_type": "markdown",
   "metadata": {},
   "source": [
    "2b. 2! = "
   ]
  },
  {
   "cell_type": "markdown",
   "metadata": {},
   "source": [
    "2c. 1! = "
   ]
  },
  {
   "cell_type": "markdown",
   "metadata": {},
   "source": [
    "2d. 100! = "
   ]
  },
  {
   "cell_type": "markdown",
   "metadata": {},
   "source": [
    "3\\. Generalize your group’s answer to question 2 in terms of $n$ to create an equation for factorial that would be true for all factorials except the base case."
   ]
  },
  {
   "cell_type": "markdown",
   "metadata": {},
   "source": [
    "n! = "
   ]
  },
  {
   "cell_type": "markdown",
   "metadata": {},
   "source": [
    "4\\. What would your group propose to be the base case of a factorial function?  Also include your group’s justification for this answer."
   ]
  },
  {
   "cell_type": "markdown",
   "metadata": {},
   "source": [
    "5\\. Assume someone else has already written a Python function `factorial(n)` that takes `n` as a parameter and returns n!   \n",
    "5a. Copy and paste your answer to question 2d, which should include how 100! can be calculated using a “simpler” factorial."
   ]
  },
  {
   "cell_type": "markdown",
   "metadata": {
    "collapsed": true
   },
   "source": [
    "5b. Convert your expression in question 5a to _\"Python\"_ code, making the appropriate method call to this hypothetical `factorial()` method and \"hard coding\" numbers as arguments. (_note:_ still put this _\"Python\"_ in a markdown cell since it won't run anyway)"
   ]
  },
  {
   "cell_type": "markdown",
   "metadata": {},
   "source": []
  },
  {
   "cell_type": "markdown",
   "metadata": {},
   "source": [
    "5c. Now convert your answer for question 3 to _\"Python\"_ code that would calculate n! This time, you should not \"hard code\" numbers as arguments."
   ]
  },
  {
   "cell_type": "markdown",
   "metadata": {},
   "source": [
    "6\\. Assume you incorporated your group’s answer to question 5c as part of the function definition for factorial(n).  How would this function call differ from function calls you have used in previous programs/notebooks?"
   ]
  },
  {
   "cell_type": "markdown",
   "metadata": {},
   "source": [
    "7\\. Is a loop necessary to calculate 3! based on your group’s answers above?  Describe/Explain your group’s reasoning."
   ]
  },
  {
   "cell_type": "markdown",
   "metadata": {},
   "source": [
    "8\\. What type of programming structure (sequential, branching or looping) is required to differentiate the successive function calls from the base case?"
   ]
  },
  {
   "cell_type": "markdown",
   "metadata": {},
   "source": [
    "### Model 2: Example Recursive Code"
   ]
  },
  {
   "cell_type": "markdown",
   "metadata": {},
   "source": [
    "When a function makes a call to itself, this is referred to as ***recursion***.  To define a recursive function in Python, you should write an if-statement that checks for the base case. When the operation is not the base case, you include a call to the function you are writing.\n",
    "\n",
    "Here is an example of a recursive function (do NOT copy and run this yet):\n",
    "```python\n",
    "def factorial(n):\n",
    "    \"\"\"calculates n factorial\"\"\"\n",
    "    print('n is ', n)\n",
    "    if n == 0:                                         # base case\n",
    "        return 1\n",
    "    else:                                       \n",
    "        print('need factorial of', n-1)\n",
    "        answer = factorial(n-1)                        # recursive call\n",
    "        print ('factorial of ', n-1, 'was', answer)\n",
    "        return answer * n\n",
    "```"
   ]
  },
  {
   "cell_type": "markdown",
   "metadata": {},
   "source": [
    "### Critical Thinking Questions"
   ]
  },
  {
   "cell_type": "markdown",
   "metadata": {},
   "source": [
    "9\\. Examine ***but do not run*** the code for `factorial()` above.  \n",
    "9a. Predict how many distinct calls will be made to the `factorial` function to calculate the factorial of 3? "
   ]
  },
  {
   "cell_type": "markdown",
   "metadata": {},
   "source": [
    "9b. Identify the value of the parameter n for each of these separate calls."
   ]
  },
  {
   "cell_type": "markdown",
   "metadata": {},
   "source": []
  },
  {
   "cell_type": "markdown",
   "metadata": {},
   "source": [
    "Now ***run the two code cells below***"
   ]
  },
  {
   "cell_type": "code",
   "execution_count": null,
   "metadata": {
    "collapsed": true
   },
   "outputs": [],
   "source": [
    "def factorial(n):\n",
    "    \"\"\"calculates n factorial\"\"\"\n",
    "    print('n is ', n)\n",
    "    if n == 0:\n",
    "        return 1\n",
    "    else:\n",
    "        print('need factorial of', n-1)\n",
    "        answer = factorial(n-1)\n",
    "        print ('factorial of ', n-1, 'was', answer)\n",
    "        return answer * n"
   ]
  },
  {
   "cell_type": "code",
   "execution_count": null,
   "metadata": {
    "collapsed": true
   },
   "outputs": [],
   "source": [
    "factorial(3)"
   ]
  },
  {
   "cell_type": "markdown",
   "metadata": {},
   "source": [
    "10\\. Examine the output from `factorial(3)` above. \n",
    "10a. How many lines were printed when calculating the factorial of 3?"
   ]
  },
  {
   "cell_type": "markdown",
   "metadata": {},
   "source": [
    "10b. For each printed line, identify which distinct factorial function call printed that line. In other words, which lines were printed by `factorial(3)`, which lines were printed by `factorial(2)`, and so on."
   ]
  },
  {
   "cell_type": "markdown",
   "metadata": {
    "collapsed": true
   },
   "source": [
    "11a. What happens if you try to calculate the factorial of a negative number?  "
   ]
  },
  {
   "cell_type": "code",
   "execution_count": null,
   "metadata": {
    "collapsed": true
   },
   "outputs": [],
   "source": [
    "# run factorial with a negative number\n"
   ]
  },
  {
   "cell_type": "markdown",
   "metadata": {},
   "source": []
  },
  {
   "cell_type": "markdown",
   "metadata": {},
   "source": [
    "11b. Fix the bug in the function and test it below."
   ]
  },
  {
   "cell_type": "code",
   "execution_count": null,
   "metadata": {
    "collapsed": true
   },
   "outputs": [],
   "source": [
    "# fixed factorial()\n"
   ]
  },
  {
   "cell_type": "code",
   "execution_count": null,
   "metadata": {
    "collapsed": true
   },
   "outputs": [],
   "source": [
    "# factorial(3) test case\n"
   ]
  },
  {
   "cell_type": "code",
   "execution_count": null,
   "metadata": {
    "collapsed": true
   },
   "outputs": [],
   "source": [
    "# factorial(-1) test case\n"
   ]
  },
  {
   "cell_type": "markdown",
   "metadata": {},
   "source": [
    "### Model 3: Writing Recursive Code"
   ]
  },
  {
   "cell_type": "markdown",
   "metadata": {},
   "source": [
    "Important questions to answer before writing a recursive function:   \n",
    "+ How can you define the problem in terms of a smaller similar problem? In other words, how will having a solution to the smaller problem help you answer the original problem?\n",
    "+ For a **recursive call**, how will you make the problem size smaller?\n",
    "+ What is the **base case**, where you solve an easy problem in one step?\n",
    "+ What will you do for the base case?\n",
    "\n",
    "To avoid an ***infinite loop***, you must be sure that each recursive call brings you closer to the base case!"
   ]
  },
  {
   "cell_type": "markdown",
   "metadata": {},
   "source": [
    "### Critical Thinking Questions"
   ]
  },
  {
   "cell_type": "markdown",
   "metadata": {},
   "source": [
    "12\\. Consider the factorial problem from the first two models.   \n",
    "12a. How was factorial defined in terms of a smaller similar problem? "
   ]
  },
  {
   "cell_type": "markdown",
   "metadata": {},
   "source": [
    "12b. How was the problem size made smaller for a recursive call?"
   ]
  },
  {
   "cell_type": "markdown",
   "metadata": {},
   "source": [
    "12c. What was the base case, and what did you do for the base case?"
   ]
  },
  {
   "cell_type": "markdown",
   "metadata": {},
   "source": [
    "13\\. Now consider two different ways to show how to calculate the following sum:  \n",
    "$$\\sum_{i=1}^{4}i$$  \n",
    "[Look here](http://www.mathsisfun.com/algebra/sigma-notation.html) if you're not familiar with the Sigma notation for summation."
   ]
  },
  {
   "cell_type": "markdown",
   "metadata": {},
   "source": [
    "13a. Type out all numbers that explicitly need to be summed:"
   ]
  },
  {
   "cell_type": "markdown",
   "metadata": {},
   "source": [
    "$\\displaystyle \\sum_{i=1}^{4}i = $"
   ]
  },
  {
   "cell_type": "markdown",
   "metadata": {},
   "source": [
    "13b. Write an expression showing how this sum can be calculated in terms of a “simpler” sum. "
   ]
  },
  {
   "cell_type": "markdown",
   "metadata": {},
   "source": [
    "$\\displaystyle \\sum_{i=1}^{4}i = $"
   ]
  },
  {
   "cell_type": "markdown",
   "metadata": {},
   "source": [
    "14\\. Now answer the same questions for summation:  \n",
    "14a. How could summation be defined in terms of a smaller similar problem?"
   ]
  },
  {
   "cell_type": "markdown",
   "metadata": {},
   "source": [
    "14b. How can the problem size be made smaller for a recursive call?"
   ]
  },
  {
   "cell_type": "markdown",
   "metadata": {},
   "source": [
    "14c. What will be your base case, and what did you do for the base case?"
   ]
  },
  {
   "cell_type": "markdown",
   "metadata": {},
   "source": [
    "14d. How will you make sure each recursive call will bring you closer to the base case?"
   ]
  },
  {
   "cell_type": "markdown",
   "metadata": {},
   "source": [
    "### Model 4: Order of execution"
   ]
  },
  {
   "cell_type": "markdown",
   "metadata": {},
   "source": [
    "Not all recursive functions need to have both an `if` and `else` statement. Sometimes you only need the if-statement, while other times you might need multiple branches (if-elif-else).  \n",
    "\n",
    "For example, ***run the code in the cells below***"
   ]
  },
  {
   "cell_type": "code",
   "execution_count": null,
   "metadata": {
    "collapsed": true
   },
   "outputs": [],
   "source": [
    "def count_down(n):\n",
    "    \"\"\" counts down to 1 \"\"\"\n",
    "    if n >= 1:\n",
    "        print(n)\n",
    "        count_down(n-1)"
   ]
  },
  {
   "cell_type": "code",
   "execution_count": null,
   "metadata": {
    "collapsed": true
   },
   "outputs": [],
   "source": [
    "count_down(10)"
   ]
  },
  {
   "cell_type": "markdown",
   "metadata": {},
   "source": [
    "### Critical Thinking Questions"
   ]
  },
  {
   "cell_type": "markdown",
   "metadata": {},
   "source": [
    "15\\. What is the base case for the count_down function, which did not require an `else` branch? "
   ]
  },
  {
   "cell_type": "markdown",
   "metadata": {},
   "source": [
    "16\\. Modify the `count_down` function so it counts up (i.e., printing 1 to 10) instead of counting down. You should **NOT** modify the boolean expression in the if-statement. Instead, you should move entire lines of code (i.e., cutting-and-pasting); **wholesale** rewriting of lines of code should not be necessary. Ask for help if you cannot figure this out within a few minutes:"
   ]
  },
  {
   "cell_type": "code",
   "execution_count": null,
   "metadata": {
    "collapsed": true
   },
   "outputs": [],
   "source": [
    "# your count_up function\n"
   ]
  },
  {
   "cell_type": "code",
   "execution_count": null,
   "metadata": {
    "collapsed": true
   },
   "outputs": [],
   "source": [
    "# testing count_up\n"
   ]
  },
  {
   "cell_type": "markdown",
   "metadata": {},
   "source": [
    "17\\. Consider the modification changes required if this algorithm was written iteratively (with a loop). Identify and explain one advantage of using a recursive algorithm in contrast to an iterative algorithm.  "
   ]
  },
  {
   "cell_type": "markdown",
   "metadata": {},
   "source": [
    "18\\. Using the four questions about recursion from Model 3 as hints, explain whether each of the following would work for a recursive solution:   \n",
    "18a.  Having two or more base cases:"
   ]
  },
  {
   "cell_type": "markdown",
   "metadata": {},
   "source": [
    "18b.  Having two or more recursive calls:"
   ]
  },
  {
   "cell_type": "markdown",
   "metadata": {},
   "source": [
    "### Temporal Analysis Report"
   ]
  },
  {
   "cell_type": "markdown",
   "metadata": {},
   "source": [
    "How much time did it require for your team to complete each Model?"
   ]
  },
  {
   "cell_type": "markdown",
   "metadata": {},
   "source": [
    "Model 1: "
   ]
  },
  {
   "cell_type": "markdown",
   "metadata": {},
   "source": [
    "Model 2:"
   ]
  },
  {
   "cell_type": "markdown",
   "metadata": {},
   "source": [
    "Model 3:"
   ]
  }
 ],
 "metadata": {
  "anaconda-cloud": {},
  "kernelspec": {
   "display_name": "Python 3",
   "language": "python",
   "name": "python3"
  },
  "language_info": {
   "codemirror_mode": {
    "name": "ipython",
    "version": 3
   },
   "file_extension": ".py",
   "mimetype": "text/x-python",
   "name": "python",
   "nbconvert_exporter": "python",
   "pygments_lexer": "ipython3",
   "version": "3.6.0"
  }
 },
 "nbformat": 4,
 "nbformat_minor": 2
}
