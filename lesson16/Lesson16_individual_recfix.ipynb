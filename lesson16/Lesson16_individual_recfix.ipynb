{
 "cells": [
  {
   "cell_type": "markdown",
   "metadata": {},
   "source": [
    "# Lesson16 Individual Assignment"
   ]
  },
  {
   "cell_type": "markdown",
   "metadata": {},
   "source": [
    "***Individual*** means that you do it yourself. You won't learn to code if you don't ***struggle for yourself*** and  ***write your own*** code. Remember that while you can discuss the general (algorithmic) way to solve a problem, you should ***not*** even be looking at anyone else's code or showing anyone else your code for an individual assignment.  \n",
    "Review the **Group Work** guidelines on Cavas and/or ask an instructor if you have any questions."
   ]
  },
  {
   "cell_type": "markdown",
   "metadata": {},
   "source": [
    "## Programming Practice"
   ]
  },
  {
   "cell_type": "markdown",
   "metadata": {},
   "source": [
    "Be sure to spell all function names ***correctly*** - misspelled functions will lose points (and often break anyway since no one is sure what to type to call it). If you prefer showing your earlier, scratch work as you figure out what you are doing, please be sure that you make a final, complete, correct last function in its own cell that you then call several times to test. In other words, separate your thought process/working versions from the final one (a comment that tells us which is the final version would be lovely).\n",
    "\n",
    "Every function should have ***at least*** a docstring at the start that states what it does (see _Lesson3 Team Notebook_ if you need a reminder). Make other comments as necessary.  \n",
    "\n",
    "Make sure that you are running ***test cases (plural)*** for everything and commenting on the results in markdown. Your comments should discuss how you know that the test case results are correct."
   ]
  },
  {
   "cell_type": "markdown",
   "metadata": {},
   "source": [
    "## part 1:  Recursive summation"
   ]
  },
  {
   "cell_type": "markdown",
   "metadata": {},
   "source": [
    "In **part 1** you will define and test a `recursive_summation` function. We thought about summation in the Team Notebook, review that info if you need to."
   ]
  },
  {
   "cell_type": "markdown",
   "metadata": {},
   "source": [
    "**A. Write test cases for your function** - fill in the table below before you start coding! Fill in the **expected** and **rationale** for all, and more test cases for the extra $n$s below - at least one more should be negative, the rest positive.\n",
    "\n",
    "n|expected sum|rationale\n",
    ":---:|:---:|:---\n",
    "4|10|positive integer, should work, we have already calculated expected\n",
    "0||\n",
    "-1||\n",
    "n||\n",
    "n||\n",
    "n||\n",
    "n||"
   ]
  },
  {
   "cell_type": "markdown",
   "metadata": {},
   "source": [
    "**B. Define and test a `recursive_summation` function that:**\n",
    "+ takes a single parameter n and \n",
    "+ returns the summation $\\displaystyle \\left(\\sum_{i=1}^{n}i\\right)$  using recursion for positive integers\n",
    "+ returns any number you wish for negative numbers, but it should not crash\n",
    "+ your `recursive_summation` function should: \n",
    "    + have an if-else statement\n",
    "    + ***not have any loops***\n",
    "    + ***not print*** anything in its final version, if you use prints to help you debug, you should comment them out once your function works correctly.\n",
    "\n",
    "Make sure to run **all of the test cases above**, leave in the results, and ***comment*** on the results."
   ]
  },
  {
   "cell_type": "code",
   "execution_count": null,
   "metadata": {
    "collapsed": true
   },
   "outputs": [],
   "source": []
  },
  {
   "cell_type": "markdown",
   "metadata": {},
   "source": [
    "## part 2: Recursive power\n",
    "\n",
    "In this part, you will define a recursive `power` function that takes two numbers as parameters, $x$ and $n$ ($x$ can be any integer, but $n$ should be positive), calculates and returns $x^n$. Use the following recursive definitions:  \n",
    "\n",
    "$x^n = (x^{n/2})^2 \\hspace{20mm} \\text{when n is even}$  \n",
    "$x^n = x \\cdot(x^{(n-1)/2})^2 \\hspace{8.5mm} \\text{when n is odd}$  \n",
    "$x^0 = 1 \\hspace{30mm} \\text{when n is 0}$   \n"
   ]
  },
  {
   "cell_type": "markdown",
   "metadata": {},
   "source": [
    "Further considerations:  \n",
    "+ remember, $x$ can be any integer, but $n$ should be positive\n",
    "+ notice that there are multiple cases, so you should use an `if-elif-else` in your recursive function.  \n",
    "+ you should **not** use any loops, nor should you use the \\** operator in this function. \n",
    "+ you also **must** use the above recursive definitions (using another algorithm will not earn you full credit on this function)."
   ]
  },
  {
   "cell_type": "markdown",
   "metadata": {},
   "source": [
    "**C. Write test cases for your function** - fill in the table below before you start coding! Fill in the **expected** and **rationale** for all and more test cases for the extra $x$s and $n$s below.\n",
    "\n",
    "x|n|expected|rationale\n",
    ":---:|:---:|:---:|:---\n",
    "3|0||\n",
    "3|1||\n",
    "3|2||\n",
    "3|3||\n",
    "-3|3||\n",
    "3|-3||\n",
    "x|n||\n",
    "x|n||\n",
    "x|n||\n",
    "x|n||"
   ]
  },
  {
   "cell_type": "markdown",
   "metadata": {
    "collapsed": false,
    "scrolled": true
   },
   "source": [
    "**D. Design a recursive `power` function** using the above equations, by answering the following questions:\n",
    "+ How can you define power in terms of a smaller similar problem? In other words, how will having a solution to the smaller problem help you answer the original problem?\n",
    "+ For each **recursive call**, how will you make the problem size smaller?\n",
    "+ What is the **base case**, where you solve an easy problem in one step?\n",
    "+ What will you do for the base case?"
   ]
  },
  {
   "cell_type": "markdown",
   "metadata": {
    "collapsed": false,
    "scrolled": true
   },
   "source": [
    "**E. Define and test a recursive `power` function** that meets all the criteria above and correctly executes all of the tests. ***Make sure to comment*** on your results."
   ]
  },
  {
   "cell_type": "markdown",
   "metadata": {
    "collapsed": false
   },
   "source": [
    "## part 3: Permutations and combinations"
   ]
  },
  {
   "cell_type": "markdown",
   "metadata": {},
   "source": [
    "Copy and paste your recursive `factorial` function below:"
   ]
  },
  {
   "cell_type": "code",
   "execution_count": null,
   "metadata": {
    "collapsed": true
   },
   "outputs": [],
   "source": []
  },
  {
   "cell_type": "markdown",
   "metadata": {},
   "source": [
    "**F.** Before we use it inside another function, we need to clean it up.   \n",
    "Copy, paste, your recursive `factorial` function again below and edit  so that it: \n",
    "+ it **never** prints\n",
    "+ only returns a value \n",
    "+ returns `None` for negative numbers"
   ]
  },
  {
   "cell_type": "code",
   "execution_count": null,
   "metadata": {
    "collapsed": true
   },
   "outputs": [],
   "source": []
  },
  {
   "cell_type": "markdown",
   "metadata": {},
   "source": [
    "**G. test the new version of `factorial` with:**\n",
    "+ 0\n",
    "+ 1\n",
    "+ 5\n",
    "+ a negative value\n",
    "+ 2 more positive values  \n",
    "\n",
    "***comment on the results.***"
   ]
  },
  {
   "cell_type": "code",
   "execution_count": null,
   "metadata": {
    "collapsed": true
   },
   "outputs": [],
   "source": []
  },
  {
   "cell_type": "markdown",
   "metadata": {},
   "source": []
  },
  {
   "cell_type": "markdown",
   "metadata": {},
   "source": [
    "***Review the information on permutations and combinations from preactivity***"
   ]
  },
  {
   "cell_type": "markdown",
   "metadata": {},
   "source": [
    "**H.** Design and write a new function `gene_permutations` that:\n",
    "+ takes 2 parameters: \n",
    "    + a `total` number of genes in the organism ($n$)\n",
    "    + the number of `genes` that you want to consider ($k$)\n",
    "+ returns the number of ***permutations*** of `genes` from `total`\n",
    "+ uses your `factorial` function  \n"
   ]
  },
  {
   "cell_type": "markdown",
   "metadata": {},
   "source": [
    "***Write, predict the results of, and provide a rationale for at least 3 test cases for the above function before you write the code.*** "
   ]
  },
  {
   "cell_type": "markdown",
   "metadata": {},
   "source": []
  },
  {
   "cell_type": "markdown",
   "metadata": {},
   "source": [
    "Provide your ***pseudocode*** here (this can be short):"
   ]
  },
  {
   "cell_type": "markdown",
   "metadata": {},
   "source": []
  },
  {
   "cell_type": "code",
   "execution_count": 1,
   "metadata": {
    "collapsed": true
   },
   "outputs": [],
   "source": [
    "# Provide your Python code here:"
   ]
  },
  {
   "cell_type": "markdown",
   "metadata": {},
   "source": [
    "**I.** write a new function `gene_combinations` that:\n",
    "+ takes 2 parameters: \n",
    "    + a `total` number of genes in the organism ($n$)\n",
    "    + the number of `genes` that you want to consider ($k$)\n",
    "+ returns the number of ***combinations*** of `genes` from `total`\n",
    "+ uses your `factorial` function"
   ]
  },
  {
   "cell_type": "markdown",
   "metadata": {},
   "source": [
    "***Write, predict the results of, and provide a rationale for at least 3 test cases for the above function before you write the code.*** "
   ]
  },
  {
   "cell_type": "markdown",
   "metadata": {},
   "source": []
  },
  {
   "cell_type": "markdown",
   "metadata": {},
   "source": [
    "Provide your ***pseudocode*** here (this can be short):\n"
   ]
  },
  {
   "cell_type": "code",
   "execution_count": null,
   "metadata": {
    "collapsed": true
   },
   "outputs": [],
   "source": [
    "# Provide your Python code here:"
   ]
  }
 ],
 "metadata": {
  "anaconda-cloud": {},
  "kernelspec": {
   "display_name": "Python [default]",
   "language": "python",
   "name": "python3"
  },
  "language_info": {
   "codemirror_mode": {
    "name": "ipython",
    "version": 3
   },
   "file_extension": ".py",
   "mimetype": "text/x-python",
   "name": "python",
   "nbconvert_exporter": "python",
   "pygments_lexer": "ipython3",
   "version": "3.5.2"
  }
 },
 "nbformat": 4,
 "nbformat_minor": 1
}
