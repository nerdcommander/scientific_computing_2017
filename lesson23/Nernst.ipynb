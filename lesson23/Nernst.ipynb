{
 "cells": [
  {
   "cell_type": "markdown",
   "metadata": {},
   "source": [
    "## Nernst Equation/Equilibrium Potential\n",
    "\n",
    "Ion gradients exist across the membranes of all cells and are important for many cellular processes such as ATP synthesis in metabolism and electrical signals in neurons.\n",
    "\n",
    "The Nernst Equation is used to describe the ***equilibrium potential*** of an ion ($E_{ion}$), which is the voltage at which the net flow of a particular ion would be zero. It depends on several factors and is described below:  \n",
    "$$E_{ion}= - \\frac{RT}{zF}ln\\left (\\frac{[ion]_{in}}{[ion]_{out}} \\right)$$\n",
    "\n",
    "where $z$ is the valence of the ion (including the charge), $ln$ is the natural log (log base $e$), and $[ion]_{in}$ and $[ion]_{out}$ are the concentration of the ion inside and outside of the cell respectively.   \n",
    "$R$ is the gas constant \n",
    "$T$ is the temperature in Kelvin  \n",
    "$F$ is the Faraday constant \n",
    "\n",
    "One convenient thing, is that at $37^oC$ the term $RT/F$ can be calculated and used as a constant: $RT/F= 26.73mV$  \n",
    "so the equation can be simplified to:  \n",
    "$$E_{ion}= - \\frac{26.73mV}{z}ln\\left (\\frac{[ion]_{in}}{[ion]_{out}} \\right)$$\n",
    "\n",
    "Use the simplified version of the equation for $37^o$ above.\n",
    "\n",
    "You will also need ion concentration information for various cell types, below is info for a squid giant axon (a model cell used in cellular neuroscience):  \n",
    "\n",
    "Squid Giant Axon  \n",
    "\n",
    "|ion|valence|[ion]in|[ion]out||(expected value)\n",
    "|:---:|:---:|:---:|:---:||:---:|\n",
    "|Na|+1|50|440||58 mV|\n",
    "|K|+1|400|20||-80 mV|\n",
    "|Cl|-1|40|540||-70 mV|\n",
    "\n"
   ]
  },
  {
   "cell_type": "markdown",
   "metadata": {},
   "source": [
    "### The programming tasks  \n",
    "A. Write a `Neuron` class that:  \n",
    "+ has an `__init__` method that creates neurons and takes a dictionary of ion valences and concentrations as a parameters (hint: the key should be the ion name)\n",
    "+ calculates and returns the equilibrium potential for any ion in the dictionary (your method should take an ion name as a parameter)"
   ]
  },
  {
   "cell_type": "markdown",
   "metadata": {},
   "source": [
    "B. Copy your `Neuron` class below and modify it to have the squid giant axon values in the table above as a default. Test the new version to make sure it gives you the correct values for each $E_{ion}$. Then make a new dictionary according to the table below, make objects with those values, and test your code making sure to leave the results for all $E_{ion}$ values in your notebook.  \n",
    "\n",
    "Mammalian Neuron (notice the inclusion of Ca<sup>+2</sup> which your code should also work for)  \n",
    "\n",
    "|ion|valence|[ion]in|[ion]out\n",
    "|:---:|:---:|:---:|:---:|\n",
    "|Na|+1|10|145|\n",
    "|K|+1|135|4|\n",
    "|Cl|-1|4|110|\n",
    "|Ca|+2|0.05|2|"
   ]
  },
  {
   "cell_type": "code",
   "execution_count": null,
   "metadata": {
    "collapsed": true
   },
   "outputs": [],
   "source": []
  }
 ],
 "metadata": {
  "anaconda-cloud": {},
  "kernelspec": {
   "display_name": "Python [default]",
   "language": "python",
   "name": "python3"
  },
  "language_info": {
   "codemirror_mode": {
    "name": "ipython",
    "version": 3
   },
   "file_extension": ".py",
   "mimetype": "text/x-python",
   "name": "python",
   "nbconvert_exporter": "python",
   "pygments_lexer": "ipython3",
   "version": "3.5.2"
  }
 },
 "nbformat": 4,
 "nbformat_minor": 2
}
