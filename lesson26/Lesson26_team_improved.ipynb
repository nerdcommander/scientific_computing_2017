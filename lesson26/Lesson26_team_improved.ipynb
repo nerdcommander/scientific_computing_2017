{
 "cells": [
  {
   "cell_type": "markdown",
   "metadata": {
    "collapsed": true
   },
   "source": [
    "# Unit 3: Simulations"
   ]
  },
  {
   "cell_type": "markdown",
   "metadata": {},
   "source": [
    "## Lesson 26: 2D random walk"
   ]
  },
  {
   "cell_type": "markdown",
   "metadata": {},
   "source": [
    "## Notebook Authors "
   ]
  },
  {
   "cell_type": "markdown",
   "metadata": {},
   "source": [
    "_(fill in your two names here)_"
   ]
  },
  {
   "cell_type": "markdown",
   "metadata": {},
   "source": [
    "## Team Roles"
   ]
  },
  {
   "cell_type": "markdown",
   "metadata": {},
   "source": [
    "Facilitator: _(fill in name)_  \n",
    "Spokesperson: _(fill in name)_  \n",
    "Process Analyst: _(fill in name)_  \n",
    "Quality Control: _(fill in name)_  \n",
    "\n",
    "If there are only three people in your team, have one person serve as both spokesperson and process analyst for the rest of this activity.<p>\n",
    "At the end of this Lesson, you will be asked to record how long each Model required for your team. The _Facilitator_ should keep track of time for your team."
   ]
  },
  {
   "cell_type": "markdown",
   "metadata": {},
   "source": [
    "## Scientific Application: 2D random walk \n",
    "\n",
    "In this lesson, we will develop a python program to simulate a 2-dimensional random process. The last time we considered a random walk it was in 1 dimension along the number line. Now we will consider 2 dimensions. Later, we will add a velocity component. Our model will end up looking like Brownian motion or diffusion of particles."
   ]
  },
  {
   "cell_type": "markdown",
   "metadata": {},
   "source": [
    "## Computational Focus: Multi-dimensional arrays"
   ]
  },
  {
   "cell_type": "markdown",
   "metadata": {},
   "source": [
    "### Model 1: Creating Multidimensional Arrays"
   ]
  },
  {
   "cell_type": "markdown",
   "metadata": {},
   "source": [
    "A multidimensional array is a sequence of 1D arrays.  It can also be thought of as a grid of rows and columns.  The following is an example of a 4x3 array:  \n",
    "\n",
    "$$\\left[\n",
    "\\begin{array}{ccc}\n",
    "0 & 1 & 2\\\\\n",
    "3 & 4 & 4\\\\\n",
    "6 & 7 & 8\\\\\n",
    "9 & 10 & 11\\\\\n",
    "\\end{array}\n",
    "\\right]$$\n",
    "\n",
    "Arrays are also sometimes referred to as matrices in math classes.\n",
    "\n",
    "***Let's get started!***\n",
    "\n",
    "***Type and run*** the following code:  \n",
    "```python\n",
    "import numpy as np\n",
    "array2D = np.array([[0,1,2],[3,4,5]])\n",
    "print(array2D)\n",
    "```"
   ]
  },
  {
   "cell_type": "code",
   "execution_count": null,
   "metadata": {
    "collapsed": true
   },
   "outputs": [],
   "source": []
  },
  {
   "cell_type": "markdown",
   "metadata": {},
   "source": [
    "***Type and run*** the following code - each line in its own cell: \n",
    "```python\n",
    "print(array2D[0,1])\n",
    "print(array2D[1,1])\n",
    "print(array2D[1,0])\n",
    "print(array2D[0])\n",
    "print(array2D[1])\n",
    "print(array2D[0,2])\n",
    "\n",
    "```"
   ]
  },
  {
   "cell_type": "code",
   "execution_count": null,
   "metadata": {
    "collapsed": true
   },
   "outputs": [],
   "source": []
  },
  {
   "cell_type": "markdown",
   "metadata": {},
   "source": [
    "1\\. How many index numbers are used to represent a single element of a multidimensional array?  "
   ]
  },
  {
   "cell_type": "markdown",
   "metadata": {},
   "source": [
    "2\\. When identifying a single element of a multidimensional array, what does the first index number reference?  What does the second index number reference?"
   ]
  },
  {
   "cell_type": "markdown",
   "metadata": {},
   "source": [
    "3\\.  If only a single index number is identified for a 2D array, what is the corresponding output?"
   ]
  },
  {
   "cell_type": "markdown",
   "metadata": {},
   "source": [
    "***Type and run*** the following code: \n",
    "```python\n",
    "array1 = np.array([6,7])\n",
    "array2 = np.array([8,9])\n",
    "array3 = np.array([0,1])\n",
    "multiarray = np.array([array1,array2,array3])\n",
    "print(multiarray)\n",
    "```"
   ]
  },
  {
   "cell_type": "code",
   "execution_count": null,
   "metadata": {
    "collapsed": true
   },
   "outputs": [],
   "source": []
  },
  {
   "cell_type": "markdown",
   "metadata": {},
   "source": [
    "***Type and run*** the following code - each line in its own cell: \n",
    "```python\n",
    "print(multiarray[1,1])\n",
    "print(multiarray[2,1])\n",
    "print(multiarray[1,0])\n",
    "print(multiarray[0])\n",
    "print(multiarray[1])\n",
    "print(multiarray[0,2])\n",
    "print(len(array2D))\n",
    "print(len(multiarray))\n",
    "```"
   ]
  },
  {
   "cell_type": "code",
   "execution_count": null,
   "metadata": {
    "collapsed": true
   },
   "outputs": [],
   "source": []
  },
  {
   "cell_type": "markdown",
   "metadata": {},
   "source": [
    "4\\. Why did the code  ***```print(multiarray[0,2])```***  produce an error?"
   ]
  },
  {
   "cell_type": "markdown",
   "metadata": {},
   "source": [
    "5\\. Recall the `len` function returns the length of a 1D array, such as `array1`. What happens when you apply the same function to a 2D array?"
   ]
  },
  {
   "cell_type": "markdown",
   "metadata": {},
   "source": [
    "6\\. What is the Python code that would return the other dimension of the array? (_hint:_ Consider your answers to questions 3 & 5)"
   ]
  },
  {
   "cell_type": "markdown",
   "metadata": {},
   "source": [
    "***Type and run*** the following code: \n",
    "```python\n",
    "array0 = np.zeros((2,5))\n",
    "print(array0)\n",
    "```"
   ]
  },
  {
   "cell_type": "code",
   "execution_count": null,
   "metadata": {
    "collapsed": true
   },
   "outputs": [],
   "source": []
  },
  {
   "cell_type": "markdown",
   "metadata": {},
   "source": [
    "7\\. When you use the NumPy `zeros` function, does the first parameter represent the number of rows or columns?"
   ]
  },
  {
   "cell_type": "markdown",
   "metadata": {},
   "source": [
    "8a. What is the default data type of the array created by `zeros`?"
   ]
  },
  {
   "cell_type": "markdown",
   "metadata": {},
   "source": [
    "8b. You can also specify the data type with a 3rd argument like this:  \n",
    "```python\n",
    "array0b = np.zeros((2,5), float)\n",
    "```   \n",
    "try changing the data type to `float` and `int` to see what the default is."
   ]
  },
  {
   "cell_type": "markdown",
   "metadata": {},
   "source": [
    "9a. Write and run Python code to create a 3x2 array filled with 2’s in ***at least two different ways***."
   ]
  },
  {
   "cell_type": "markdown",
   "metadata": {},
   "source": [
    "9b. Write and run Python code to add $\\pi$ to each element in one of the arrays that you created in 9a using array math. "
   ]
  },
  {
   "cell_type": "markdown",
   "metadata": {},
   "source": [
    "10\\. ***Type and run the code below***   \n",
    "```python\n",
    "rand_array=np.random.random((2,3))\n",
    "rand_array\n",
    "```\n",
    "\n",
    "10a. Write and run code that uses a loop to print $\\pi$ times each element in *the first row* of the `rand_array` array that you made. (there are times when you want to loop through an array, but not when you want to do math) \n"
   ]
  },
  {
   "cell_type": "code",
   "execution_count": null,
   "metadata": {
    "collapsed": true
   },
   "outputs": [],
   "source": []
  },
  {
   "cell_type": "markdown",
   "metadata": {
    "collapsed": true
   },
   "source": [
    "10b. Then write and run code that uses a loop to print $\\pi$ times each element of the `rand_array` array (the *entire array*)."
   ]
  },
  {
   "cell_type": "markdown",
   "metadata": {},
   "source": [
    "11\\. ***Type and run*** the following code - each line in its own cell: \n",
    "```python\n",
    "print(multiarray[2,1])\n",
    "print(multiarray[2][1])\n",
    "```"
   ]
  },
  {
   "cell_type": "code",
   "execution_count": null,
   "metadata": {
    "collapsed": true
   },
   "outputs": [],
   "source": []
  },
  {
   "cell_type": "markdown",
   "metadata": {},
   "source": [
    "11a. Compare the results."
   ]
  },
  {
   "cell_type": "code",
   "execution_count": null,
   "metadata": {
    "collapsed": true
   },
   "outputs": [],
   "source": []
  },
  {
   "cell_type": "markdown",
   "metadata": {},
   "source": [
    "12\\. **Type and run** the following code:\n",
    "```\n",
    "print(array2D)\n",
    "new_row = np.array([6,7,8])\n",
    "print(new_row)\n",
    "new_array = np.append(array2D,[new_row],0)\n",
    "print(new_array)\n",
    "newer_array = np.append(array2D,[new_row])\n",
    "print(newer_array)\n",
    "\n",
    "```"
   ]
  },
  {
   "cell_type": "markdown",
   "metadata": {},
   "source": []
  },
  {
   "cell_type": "markdown",
   "metadata": {},
   "source": [
    "12a\\. Give the dimensions of each of the arrays:\n",
    "\n",
    "array | rows | columns\n",
    ":---: | :---: | :---: \n",
    "array2D |  |  \n",
    "new_row |  | \n",
    "new_array |  |  \n",
    "newer_array |  |  "
   ]
  },
  {
   "cell_type": "markdown",
   "metadata": {},
   "source": [
    "12b\\. Examine the three above lines of code (besides the print commands). For each line of code, identify whether the code modify the original array or create a new array?"
   ]
  },
  {
   "cell_type": "markdown",
   "metadata": {},
   "source": [
    "12c\\. Give the pseudocode for appending to a 2D array."
   ]
  },
  {
   "cell_type": "markdown",
   "metadata": {},
   "source": [
    "There are often several ways to accomplish the same thing in Python, in this case, the first notation (`multiarray[2,1]`) is more \"_Pythonic_\" and is what is found in the NumPy documentation (see links below) and the second notation (`multiarray[2][1]`) is what is used by most other programming languages. This is mostly an FYI so that if you see the second one, you know that it will work, and for when you learn your second programming language."
   ]
  },
  {
   "cell_type": "markdown",
   "metadata": {},
   "source": [
    "### More info on arrays  \n",
    "There is a lot you can do with arrays, here are a few useful resources:  \n",
    "+ [NumPy Quickstart Guide](https://docs.scipy.org/doc/numpy-dev/user/quickstart.html)  \n",
    "+ [advanced info on indexing and slicing](https://docs.scipy.org/doc/numpy/reference/arrays.indexing.html)\n",
    "+ [the many ways to make arrays](https://docs.scipy.org/doc/numpy/reference/routines.array-creation.html)\n"
   ]
  },
  {
   "cell_type": "markdown",
   "metadata": {},
   "source": [
    "### Team Programming  \n",
    "In this exercise, we will make a series of random 2D walk, graph the results, and calculate the maximum distance from the origin.   \n",
    "![](https://github.com/nerdcommander/scientific_computing_2017/raw/master/lesson26/2D_rw_ex.png)\n",
    "\n",
    "Again we will use the idea of a \"step\" for the walker, but this time we will incorporate the idea of the walker being able to select a direction for its steps.  \n",
    "\n",
    "#### Algorithm  \n",
    "Use the cartesian X-Y plane with an origin of (0,0) for the start of the walkers. Then we can use a random angle, $\\theta$, between $0$ and $2 \\pi$ radians, to get a new direction and new values for X ($cos\\theta$) and Y ($sin\\theta$) to add to the old coordinates, therby taking a \"step\". \n",
    "![](http://www.oxfordmathcenter.com/images/notes/570-00.png)\n",
    "\n",
    "We will keep track of the X and Y coordinates in an array with 2 columns (and as many rows as steps).\n",
    "\n",
    "For now, the step sizes are all similar, later will add a \"velocity\" component.  \n",
    "\n",
    "***Let's code this thing up!***"
   ]
  },
  {
   "cell_type": "markdown",
   "metadata": {},
   "source": [
    "A.  Define a class that:\n",
    "+ uses a single 2D array to track the (x,y) coordinates of a single random walker\n",
    "    + the walker should start at (0,0)\n",
    "+ takes a single parameter in addition to self that sets the number of steps\n",
    "    + since you know the number of steps, you know the size of the array you need (avoid using `append` since it is very inefficient!)\n",
    "+ randomly selects an angle (`theta`) for the direction of the next step\n",
    "+ moves the walker one step at a time, keeping track of the (x,y) position in the 2D array\n",
    "+ prints the resulting array"
   ]
  },
  {
   "cell_type": "code",
   "execution_count": null,
   "metadata": {
    "collapsed": true
   },
   "outputs": [],
   "source": []
  },
  {
   "cell_type": "markdown",
   "metadata": {},
   "source": [
    "***test your code several ways with different parameter values to demonstrate that it works***"
   ]
  },
  {
   "cell_type": "code",
   "execution_count": null,
   "metadata": {
    "collapsed": true
   },
   "outputs": [],
   "source": []
  },
  {
   "cell_type": "markdown",
   "metadata": {},
   "source": [
    "B. Modify your code to plot the path of the walker and no longer print the array."
   ]
  },
  {
   "cell_type": "code",
   "execution_count": null,
   "metadata": {
    "collapsed": true
   },
   "outputs": [],
   "source": []
  },
  {
   "cell_type": "markdown",
   "metadata": {},
   "source": [
    "***test your code several ways with different parameter values to demonstrate that it works***"
   ]
  },
  {
   "cell_type": "code",
   "execution_count": null,
   "metadata": {
    "collapsed": true
   },
   "outputs": [],
   "source": []
  },
  {
   "cell_type": "markdown",
   "metadata": {},
   "source": [
    "C. Now add a parameter that allows the user to enter a `velocity` that can scale the distance traveled for a single step."
   ]
  },
  {
   "cell_type": "code",
   "execution_count": null,
   "metadata": {
    "collapsed": true
   },
   "outputs": [],
   "source": []
  },
  {
   "cell_type": "markdown",
   "metadata": {},
   "source": [
    "***test your code several ways with different parameter values to demonstrate that it works***"
   ]
  },
  {
   "cell_type": "code",
   "execution_count": null,
   "metadata": {
    "collapsed": true
   },
   "outputs": [],
   "source": []
  },
  {
   "cell_type": "markdown",
   "metadata": {},
   "source": [
    "D. Modify your code to calculate and print the maximum distance that the walker wandered from the origin during the simulation.  (_hints:_ look at the `numpy.max()` method and the `cdist` method from the `scipy.spatial.distance` module)"
   ]
  },
  {
   "cell_type": "code",
   "execution_count": null,
   "metadata": {
    "collapsed": true
   },
   "outputs": [],
   "source": []
  },
  {
   "cell_type": "markdown",
   "metadata": {},
   "source": [
    "***test your code several ways with different parameter values to demonstrate that it works***"
   ]
  },
  {
   "cell_type": "code",
   "execution_count": null,
   "metadata": {
    "collapsed": true
   },
   "outputs": [],
   "source": []
  },
  {
   "cell_type": "markdown",
   "metadata": {},
   "source": [
    "***Analysis Question:*** Describe what happens to the maximum distance as you increase the veloicty."
   ]
  },
  {
   "cell_type": "markdown",
   "metadata": {},
   "source": [
    "E. Modify your code so that your class can plot multiple 2D random walks on the same axes and the maximum distance reported is the maximum distance of all of the walks (make the default number of random walks = 1).   \n",
    "Be careful asking for too many more than 8 simulations since the colors in `matplotlib` repeat and at some point you'll bog down your machine."
   ]
  },
  {
   "cell_type": "code",
   "execution_count": null,
   "metadata": {
    "collapsed": true
   },
   "outputs": [],
   "source": []
  },
  {
   "cell_type": "markdown",
   "metadata": {},
   "source": [
    "***test your code several ways with different parameter values to demonstrate that it works***"
   ]
  },
  {
   "cell_type": "code",
   "execution_count": null,
   "metadata": {
    "collapsed": true
   },
   "outputs": [],
   "source": []
  },
  {
   "cell_type": "markdown",
   "metadata": {},
   "source": [
    "F. Add code to pretty up your plots by adding grey lines once _underneath_ all of the walker plots, and a red dot at the origin _on top_ of everything else. (see the example output in the Team Programming instructions for an example)"
   ]
  },
  {
   "cell_type": "code",
   "execution_count": null,
   "metadata": {
    "collapsed": true
   },
   "outputs": [],
   "source": []
  },
  {
   "cell_type": "markdown",
   "metadata": {},
   "source": [
    "***test your code several ways with different parameter values to demonstrate that it works***"
   ]
  },
  {
   "cell_type": "code",
   "execution_count": null,
   "metadata": {
    "collapsed": true
   },
   "outputs": [],
   "source": []
  },
  {
   "cell_type": "markdown",
   "metadata": {},
   "source": [
    "**pretty cool, right?!?!?!**"
   ]
  },
  {
   "cell_type": "markdown",
   "metadata": {},
   "source": [
    "### Temporal Analysis Report"
   ]
  },
  {
   "cell_type": "markdown",
   "metadata": {},
   "source": [
    "How much time did it require for your team to complete each part?"
   ]
  },
  {
   "cell_type": "markdown",
   "metadata": {},
   "source": [
    "Model 1: "
   ]
  },
  {
   "cell_type": "markdown",
   "metadata": {},
   "source": [
    "Team Programming:"
   ]
  }
 ],
 "metadata": {
  "anaconda-cloud": {},
  "kernelspec": {
   "display_name": "Python [default]",
   "language": "python",
   "name": "python3"
  },
  "language_info": {
   "codemirror_mode": {
    "name": "ipython",
    "version": 3
   },
   "file_extension": ".py",
   "mimetype": "text/x-python",
   "name": "python",
   "nbconvert_exporter": "python",
   "pygments_lexer": "ipython3",
   "version": "3.5.2"
  }
 },
 "nbformat": 4,
 "nbformat_minor": 1
}
