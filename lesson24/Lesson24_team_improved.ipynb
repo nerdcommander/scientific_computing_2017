{
 "cells": [
  {
   "cell_type": "markdown",
   "metadata": {
    "collapsed": true
   },
   "source": [
    "# Unit 3: Simulations"
   ]
  },
  {
   "cell_type": "markdown",
   "metadata": {},
   "source": [
    "## Lesson 24: Advanced Lists"
   ]
  },
  {
   "cell_type": "markdown",
   "metadata": {},
   "source": [
    "## Notebook Authors "
   ]
  },
  {
   "cell_type": "markdown",
   "metadata": {},
   "source": [
    "_(fill in your two names here)_"
   ]
  },
  {
   "cell_type": "markdown",
   "metadata": {},
   "source": [
    "## Team Roles"
   ]
  },
  {
   "cell_type": "markdown",
   "metadata": {},
   "source": [
    "Facilitator: _(fill in name)_  \n",
    "Spokesperson: _(fill in name)_  \n",
    "Process Analyst: _(fill in name)_  \n",
    "Quality Control: _(fill in name)_  \n",
    "\n",
    "If there are only three people in your team, have one person serve as both spokesperson and process analyst for the rest of this activity.<p>\n",
    "At the end of this Lesson, you will be asked to record how long each Model required for your team. The _Facilitator_ should keep track of time for your team."
   ]
  },
  {
   "cell_type": "markdown",
   "metadata": {},
   "source": [
    "## Computational Focus: Programming with Collections of Data   "
   ]
  },
  {
   "cell_type": "markdown",
   "metadata": {},
   "source": [
    "### Model 1: References versus Copies"
   ]
  },
  {
   "cell_type": "markdown",
   "metadata": {},
   "source": [
    "When programming with collections of data (such as lists and arrays), it’s critical to understand when a variable is referring to an item in the original collection and when a variable is referring to copy of the original item:  \n",
    "\n",
    "![](https://raw.githubusercontent.com/nerdcommander/scientific_computing_2017/master/lesson24/collection_copy1.png)"
   ]
  },
  {
   "cell_type": "markdown",
   "metadata": {},
   "source": [
    "### Critical Thinking Questions"
   ]
  },
  {
   "cell_type": "markdown",
   "metadata": {},
   "source": [
    "***1a. Before*** you run the code below, write a prediction of the results in the MD cell below. "
   ]
  },
  {
   "cell_type": "markdown",
   "metadata": {},
   "source": []
  },
  {
   "cell_type": "markdown",
   "metadata": {
    "collapsed": true
   },
   "source": [
    "***Type and run*** the lines of code below in a code cell:  \n",
    "\n",
    "```python\n",
    "list1 = list(range(5))\n",
    "for i in list1:\n",
    "    i = i*2\n",
    "print(list1)\n",
    "```\n",
    "\n",
    "It may also help to view [the visualization of this code running in Python Tutor](https://goo.gl/iwq7Xk)."
   ]
  },
  {
   "cell_type": "code",
   "execution_count": null,
   "metadata": {
    "collapsed": true
   },
   "outputs": [],
   "source": []
  },
  {
   "cell_type": "markdown",
   "metadata": {},
   "source": [
    "1b. Did the collection (`list1`) change?"
   ]
  },
  {
   "cell_type": "markdown",
   "metadata": {},
   "source": [
    "2a. ***Before*** you run the code below, write a prediction of the results in the MD cell below.   "
   ]
  },
  {
   "cell_type": "markdown",
   "metadata": {},
   "source": []
  },
  {
   "cell_type": "markdown",
   "metadata": {},
   "source": [
    "***Type and run*** the lines of code below in a code cell:  \n",
    "\n",
    "```python\n",
    "list2 = list(range(5))\n",
    "for i in range(len(list2)):\n",
    "    list2[i] = list2[i]*2\n",
    "print(list2)\n",
    "```\n",
    "\n",
    "Again, you should view [the visualization of this code running in Python Tutor](https://goo.gl/ZqLpfa)."
   ]
  },
  {
   "cell_type": "code",
   "execution_count": null,
   "metadata": {
    "collapsed": true
   },
   "outputs": [],
   "source": []
  },
  {
   "cell_type": "markdown",
   "metadata": {},
   "source": [
    "2b. Did the collection (`list2`) change?"
   ]
  },
  {
   "cell_type": "markdown",
   "metadata": {},
   "source": [
    "3\\. Describe the difference between the two for-loops you used for a list with respect to:   \n",
    "3a. the difference in syntax."
   ]
  },
  {
   "cell_type": "markdown",
   "metadata": {},
   "source": [
    "3b. the difference in behavior."
   ]
  },
  {
   "cell_type": "markdown",
   "metadata": {},
   "source": [
    "4\\. Using similar code as Questions 1 and 2, answer the same questions for a `NumPy` array. Determine the difference in behavior for a `NumPy` array:   \n",
    "4a. Repeat Question 1a and 1b for a `NumPy` array:"
   ]
  },
  {
   "cell_type": "code",
   "execution_count": null,
   "metadata": {
    "collapsed": true
   },
   "outputs": [],
   "source": [
    "## don't forget to\n",
    "import numpy as np"
   ]
  },
  {
   "cell_type": "code",
   "execution_count": null,
   "metadata": {
    "collapsed": true
   },
   "outputs": [],
   "source": []
  },
  {
   "cell_type": "markdown",
   "metadata": {},
   "source": [
    "4b. Repeat Question 2a and 2b for a `NumPy` array:"
   ]
  },
  {
   "cell_type": "code",
   "execution_count": null,
   "metadata": {
    "collapsed": true
   },
   "outputs": [],
   "source": []
  },
  {
   "cell_type": "markdown",
   "metadata": {},
   "source": [
    "4c. Repeat Question 3b for a `NumPy` array: "
   ]
  },
  {
   "cell_type": "markdown",
   "metadata": {},
   "source": []
  },
  {
   "cell_type": "markdown",
   "metadata": {},
   "source": [
    "5\\. Summarize the similarities and differences between `arrays` and `lists` in this context."
   ]
  },
  {
   "cell_type": "markdown",
   "metadata": {},
   "source": []
  },
  {
   "cell_type": "markdown",
   "metadata": {},
   "source": [
    "6\\. Using similar code as Questions 1 and 2, answer the same questions for a `string`."
   ]
  },
  {
   "cell_type": "code",
   "execution_count": null,
   "metadata": {
    "collapsed": true
   },
   "outputs": [],
   "source": []
  },
  {
   "cell_type": "markdown",
   "metadata": {},
   "source": []
  },
  {
   "cell_type": "markdown",
   "metadata": {},
   "source": [
    "7\\. Using similar code as Questions 1 and 2, answer the same questions for a `tuple`."
   ]
  },
  {
   "cell_type": "code",
   "execution_count": null,
   "metadata": {
    "collapsed": true
   },
   "outputs": [],
   "source": []
  },
  {
   "cell_type": "markdown",
   "metadata": {},
   "source": []
  },
  {
   "cell_type": "markdown",
   "metadata": {},
   "source": [
    "8\\. What are the differences between:\n",
    "\n",
    "8a. the `string` - `tuple` group and the `list` - `array` group? Explain."
   ]
  },
  {
   "cell_type": "markdown",
   "metadata": {},
   "source": [
    "8b. the two for-loop approaches (from Questions 1 and 2)? Explain."
   ]
  },
  {
   "cell_type": "markdown",
   "metadata": {},
   "source": [
    "9\\. Consider the two approaches using for-loops shown in Questions 1 and 2 above.      \n",
    "9a. When would it be better to use the **first** for-loop approach when programming with a collection of data?"
   ]
  },
  {
   "cell_type": "markdown",
   "metadata": {},
   "source": [
    "9b. When would it be better to use the **second** for-loop approach when programming with a collection of data? "
   ]
  },
  {
   "cell_type": "markdown",
   "metadata": {},
   "source": [
    "10a. ***Before*** you run the code in the cell below, predict what you think will print."
   ]
  },
  {
   "cell_type": "markdown",
   "metadata": {},
   "source": []
  },
  {
   "cell_type": "code",
   "execution_count": null,
   "metadata": {
    "collapsed": true
   },
   "outputs": [],
   "source": [
    "## Q10 code\n",
    "def change(item):\n",
    "    item = 100\n",
    "print(\"before\", list1)\n",
    "change(list1[0])\n",
    "print(\"after\", list1)"
   ]
  },
  {
   "cell_type": "markdown",
   "metadata": {},
   "source": [
    "10b. Now run the code, did the contents of `list1` change?"
   ]
  },
  {
   "cell_type": "markdown",
   "metadata": {},
   "source": [
    "10c. If you called the `change` function on `array1`, would the contents of `array1` change?"
   ]
  },
  {
   "cell_type": "markdown",
   "metadata": {},
   "source": [
    "10d. Explain the behavior that you see when you run the `change` function on a list or array."
   ]
  },
  {
   "cell_type": "markdown",
   "metadata": {},
   "source": [
    "11a. ***Before*** you run the code in the cell below, predict what you think will print."
   ]
  },
  {
   "cell_type": "markdown",
   "metadata": {},
   "source": []
  },
  {
   "cell_type": "code",
   "execution_count": null,
   "metadata": {
    "collapsed": true
   },
   "outputs": [],
   "source": [
    "## Q11 code\n",
    "def change_first(collection):\n",
    "    collection[0] = 100\n",
    "print(\"before\", list1)\n",
    "change_first(list1)\n",
    "print(\"after\", list1)"
   ]
  },
  {
   "cell_type": "markdown",
   "metadata": {},
   "source": [
    "11b. Now run the code, Did the contents of `list1` change?"
   ]
  },
  {
   "cell_type": "markdown",
   "metadata": {},
   "source": [
    "11c. If you called the `change_first` function on `array1`, would the contents of `array1` change?"
   ]
  },
  {
   "cell_type": "markdown",
   "metadata": {},
   "source": [
    "11d. Explain the behavior that you see when you run the `change_first` function on a list or array."
   ]
  },
  {
   "cell_type": "markdown",
   "metadata": {},
   "source": [
    "### Model 2: Assignments\n",
    "We also need to be understand when we assign a new variable to an existing collection of data, whether we are referring to the original collection or a copy of the entire collection:  \n",
    "![](https://raw.githubusercontent.com/nerdcommander/scientific_computing_2017/master/lesson24/collection_copy2.png)\n",
    "\n",
    "For each of the code cells below, ***predict the output BEFORE running them*** (\"prediction\"), then run and comment on whether the original variable changed or not (\"analysis\")."
   ]
  },
  {
   "cell_type": "markdown",
   "metadata": {},
   "source": [
    "12a. Prediction: "
   ]
  },
  {
   "cell_type": "code",
   "execution_count": null,
   "metadata": {
    "collapsed": true
   },
   "outputs": [],
   "source": [
    "## Q12 code\n",
    "x = 0\n",
    "y = x\n",
    "y = 50\n",
    "print(x)"
   ]
  },
  {
   "cell_type": "markdown",
   "metadata": {},
   "source": [
    "12b. Analysis:"
   ]
  },
  {
   "cell_type": "markdown",
   "metadata": {},
   "source": [
    "13a. Prediction: "
   ]
  },
  {
   "cell_type": "code",
   "execution_count": null,
   "metadata": {
    "collapsed": true
   },
   "outputs": [],
   "source": [
    "## Q13 code\n",
    "list1 = list(range(5))\n",
    "list2 = list1\n",
    "list2[0] = 50\n",
    "print(list1)"
   ]
  },
  {
   "cell_type": "markdown",
   "metadata": {},
   "source": [
    "13b. Analysis:"
   ]
  },
  {
   "cell_type": "markdown",
   "metadata": {},
   "source": [
    "14a. Prediction: "
   ]
  },
  {
   "cell_type": "code",
   "execution_count": null,
   "metadata": {
    "collapsed": true
   },
   "outputs": [],
   "source": [
    "## Q14 code\n",
    "list3 = list(list1)\n",
    "list3[0] = 100\n",
    "print(list1)"
   ]
  },
  {
   "cell_type": "markdown",
   "metadata": {},
   "source": [
    "14b. Analysis:"
   ]
  },
  {
   "cell_type": "markdown",
   "metadata": {},
   "source": [
    "15a. Prediction: "
   ]
  },
  {
   "cell_type": "code",
   "execution_count": null,
   "metadata": {
    "collapsed": true
   },
   "outputs": [],
   "source": [
    "## Q15 code\n",
    "array1 = np.array(range(5))\n",
    "array2 = array1\n",
    "array2[0] = 50\n",
    "print(array1)"
   ]
  },
  {
   "cell_type": "markdown",
   "metadata": {},
   "source": [
    "15b. Analysis:"
   ]
  },
  {
   "cell_type": "markdown",
   "metadata": {},
   "source": [
    "16a. Prediction: "
   ]
  },
  {
   "cell_type": "code",
   "execution_count": null,
   "metadata": {
    "collapsed": true
   },
   "outputs": [],
   "source": [
    "## Q16 code\n",
    "array3 = np.array(array1)\n",
    "array3[0] = 100\n",
    "print(array1)"
   ]
  },
  {
   "cell_type": "markdown",
   "metadata": {},
   "source": [
    "16b. Analysis:"
   ]
  },
  {
   "cell_type": "markdown",
   "metadata": {},
   "source": [
    "17a. Prediction: "
   ]
  },
  {
   "cell_type": "code",
   "execution_count": null,
   "metadata": {
    "collapsed": true
   },
   "outputs": [],
   "source": [
    "## Q17 code\n",
    "dictionary1 = {\"A\":\"alpha\", \"B\":\"beta\", \"C\":\"gamma\"}\n",
    "dictionary2 = dictionary1\n",
    "dictionary2[\"A\"] = \"first letter\"\n",
    "print(dictionary1)"
   ]
  },
  {
   "cell_type": "markdown",
   "metadata": {},
   "source": [
    "17b. Analysis:"
   ]
  },
  {
   "cell_type": "markdown",
   "metadata": {},
   "source": [
    "18a. Prediction: "
   ]
  },
  {
   "cell_type": "code",
   "execution_count": null,
   "metadata": {
    "collapsed": true
   },
   "outputs": [],
   "source": [
    "## Q18 code\n",
    "dictionary3 = dict(dictionary1)\n",
    "dictionary3[\"A\"] = \"T\"\n",
    "print(dictionary1)"
   ]
  },
  {
   "cell_type": "markdown",
   "metadata": {},
   "source": [
    "18b. Analysis:"
   ]
  },
  {
   "cell_type": "markdown",
   "metadata": {},
   "source": [
    "### Critical Thinking Questions"
   ]
  },
  {
   "cell_type": "markdown",
   "metadata": {
    "collapsed": true
   },
   "source": [
    "19\\. What is the default behavior of an assignment (`=`) in Python? In other words, does it make a second reference to an original collection, or does it make a copy of the entire collection?"
   ]
  },
  {
   "cell_type": "markdown",
   "metadata": {
    "collapsed": true
   },
   "source": [
    "20\\. What syntax is required to produce the opposite behavior (not the default behavior)?"
   ]
  },
  {
   "cell_type": "markdown",
   "metadata": {},
   "source": [
    "21\\. In your own words, explain the main idea from this model."
   ]
  },
  {
   "cell_type": "markdown",
   "metadata": {
    "collapsed": true
   },
   "source": [
    "22\\. Does this main idea apply to strings? "
   ]
  },
  {
   "cell_type": "markdown",
   "metadata": {
    "collapsed": true
   },
   "source": [
    "23\\. Here are two additional ways to make copies of a collection. Test whether they give you a second reference to the original collection or whether they make a copy of the entire collection, and describe your findings (try each method on each indicated data type):  \n",
    "23a. for lists and arrays, test a slice with no values and describe the results (copy or reference?). \n",
    "```\n",
    "list4 = list1[:]\n",
    "```"
   ]
  },
  {
   "cell_type": "code",
   "execution_count": null,
   "metadata": {
    "collapsed": true
   },
   "outputs": [],
   "source": []
  },
  {
   "cell_type": "markdown",
   "metadata": {},
   "source": []
  },
  {
   "cell_type": "markdown",
   "metadata": {},
   "source": [
    "23b. for arrays and dictionaries, test the `copy` method and describe the results (copy or reference?).\n",
    "```\n",
    "array4 = array1.copy()\n",
    "```"
   ]
  },
  {
   "cell_type": "code",
   "execution_count": null,
   "metadata": {
    "collapsed": true
   },
   "outputs": [],
   "source": []
  },
  {
   "cell_type": "markdown",
   "metadata": {},
   "source": []
  },
  {
   "cell_type": "markdown",
   "metadata": {},
   "source": [
    "## Model 3: List Comprehension"
   ]
  },
  {
   "cell_type": "markdown",
   "metadata": {},
   "source": [
    "We first saw list comprehensions very breifly in our first lesson on random numbers.  \n",
    "List comprehensions provide a concise way to create lists. Common applications are to make new lists where each element is the result of some operation(s) applied to each member of another sequence or iterable, or to create a subsequence of those elements that satisfy a certain condition ([reference](https://docs.python.org/3.5/tutorial/datastructures.html#list-comprehensions)).  \n",
    "\n",
    "A well written list comprehension can often take the place of a for loop.\n",
    "\n",
    "***Let's work through some examples.***"
   ]
  },
  {
   "cell_type": "code",
   "execution_count": null,
   "metadata": {
    "collapsed": true
   },
   "outputs": [],
   "source": [
    "## run this code to make a list\n",
    "original = list(range(5))\n",
    "print(original)"
   ]
  },
  {
   "cell_type": "markdown",
   "metadata": {},
   "source": [
    "***Write and run code*** that makes a new list, called `squares` that contains the squares of the values in `original` using a for loop."
   ]
  },
  {
   "cell_type": "code",
   "execution_count": null,
   "metadata": {
    "collapsed": true
   },
   "outputs": [],
   "source": []
  },
  {
   "cell_type": "code",
   "execution_count": null,
   "metadata": {
    "collapsed": false
   },
   "outputs": [],
   "source": [
    "## run this code to make a new list of squares of original\n",
    "## this version uses list comprehension\n",
    "squares_lc = [x**2 for x in original]\n",
    "print(squares_lc)"
   ]
  },
  {
   "cell_type": "markdown",
   "metadata": {},
   "source": [
    "24a. Explain the results of the list comprehension above."
   ]
  },
  {
   "cell_type": "markdown",
   "metadata": {},
   "source": []
  },
  {
   "cell_type": "markdown",
   "metadata": {},
   "source": [
    "24b. **How** does the list comprehension work?"
   ]
  },
  {
   "cell_type": "markdown",
   "metadata": {},
   "source": []
  },
  {
   "cell_type": "markdown",
   "metadata": {},
   "source": [
    "***Write and run code*** that makes a new list, called `evens` that contains the even values from `original` using a for loop."
   ]
  },
  {
   "cell_type": "code",
   "execution_count": null,
   "metadata": {
    "collapsed": true
   },
   "outputs": [],
   "source": []
  },
  {
   "cell_type": "code",
   "execution_count": null,
   "metadata": {
    "collapsed": true
   },
   "outputs": [],
   "source": [
    "## run this code to make a new list of even numbers from original\n",
    "## this version uses list comprehension\n",
    "evens_lc = [x for x in original if x%2==0]\n",
    "print(evens_lc)"
   ]
  },
  {
   "cell_type": "markdown",
   "metadata": {},
   "source": [
    "25a. Explain the results of the list comprehension above."
   ]
  },
  {
   "cell_type": "markdown",
   "metadata": {},
   "source": [
    "25b. **How** does the list comprehension work?"
   ]
  },
  {
   "cell_type": "markdown",
   "metadata": {},
   "source": [
    "***Write and run code*** that uses a loop or loops to make the following list of tuples that contain an integer and its square:  \n",
    " ```[(0, 0), (1, 1), (2, 4), (3, 9), (4, 16), (5, 25)]```"
   ]
  },
  {
   "cell_type": "code",
   "execution_count": null,
   "metadata": {
    "collapsed": true
   },
   "outputs": [],
   "source": []
  },
  {
   "cell_type": "markdown",
   "metadata": {},
   "source": [
    "***Now write and run code*** that makes the same results in a ***single line*** using list comprehension"
   ]
  },
  {
   "cell_type": "code",
   "execution_count": null,
   "metadata": {
    "collapsed": true
   },
   "outputs": [],
   "source": []
  },
  {
   "cell_type": "markdown",
   "metadata": {},
   "source": [
    "**Note:** you can also have multiple loop replacements in sequential order in a list comprehension or nested inside a list comprehension. Check out the examples below from [here](https://docs.python.org/3.5/tutorial/datastructures.html#list-comprehensions) and [here](http://carlgroner.me/Python/2011/11/09/An-Introduction-to-List-Comprehensions-in-Python.html)."
   ]
  },
  {
   "cell_type": "code",
   "execution_count": null,
   "metadata": {
    "collapsed": true
   },
   "outputs": [],
   "source": [
    "## run this code\n",
    "## list comprehension of loops below\n",
    "[(x, y) for x in [1,2,3] for y in [3,1,4] if x != y]"
   ]
  },
  {
   "cell_type": "code",
   "execution_count": null,
   "metadata": {
    "collapsed": true
   },
   "outputs": [],
   "source": [
    "## run this code\n",
    "## loop version of list comprehension above\n",
    "combs = []\n",
    "for x in [1,2,3]:\n",
    "    for y in [3,1,4]:\n",
    "        if x != y:\n",
    "            combs.append((x, y))\n",
    "combs"
   ]
  },
  {
   "cell_type": "code",
   "execution_count": null,
   "metadata": {
    "collapsed": true
   },
   "outputs": [],
   "source": [
    "## run this code\n",
    "## list comprehension of loops below\n",
    "[[x+y for x in ['A', 'B']] for y in ['C', 'D']]"
   ]
  },
  {
   "cell_type": "code",
   "execution_count": null,
   "metadata": {
    "collapsed": true
   },
   "outputs": [],
   "source": [
    "## run this code\n",
    "## loop version of list comprehension above\n",
    "list_a = ['A', 'B']\n",
    "list_b = ['C', 'D']\n",
    "lcombs = []\n",
    "for y in list_b:\n",
    "    for x in list_a:\n",
    "        lcombs.append([x+y])\n",
    "lcombs"
   ]
  },
  {
   "cell_type": "markdown",
   "metadata": {},
   "source": [
    "26\\. Summarize and explain the general pattern/rules of **how** list comprehension works. This [link](https://docs.python.org/3.5/tutorial/datastructures.html#list-comprehensions) will be helpful."
   ]
  },
  {
   "cell_type": "markdown",
   "metadata": {},
   "source": []
  },
  {
   "cell_type": "markdown",
   "metadata": {},
   "source": [
    "### Temporal Analysis Report"
   ]
  },
  {
   "cell_type": "markdown",
   "metadata": {},
   "source": [
    "How much time did it require for your team to complete each part?"
   ]
  },
  {
   "cell_type": "markdown",
   "metadata": {},
   "source": [
    "Model 1: "
   ]
  },
  {
   "cell_type": "markdown",
   "metadata": {},
   "source": [
    "Model 2:"
   ]
  },
  {
   "cell_type": "markdown",
   "metadata": {},
   "source": [
    "Model 3:"
   ]
  }
 ],
 "metadata": {
  "anaconda-cloud": {},
  "kernelspec": {
   "display_name": "Python [default]",
   "language": "python",
   "name": "python3"
  },
  "language_info": {
   "codemirror_mode": {
    "name": "ipython",
    "version": 3
   },
   "file_extension": ".py",
   "mimetype": "text/x-python",
   "name": "python",
   "nbconvert_exporter": "python",
   "pygments_lexer": "ipython3",
   "version": "3.5.2"
  }
 },
 "nbformat": 4,
 "nbformat_minor": 1
}
