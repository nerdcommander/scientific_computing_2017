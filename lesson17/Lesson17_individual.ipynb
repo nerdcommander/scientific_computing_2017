{
 "cells": [
  {
   "cell_type": "markdown",
   "metadata": {},
   "source": [
    "# Lesson17 Individual Assignment"
   ]
  },
  {
   "cell_type": "markdown",
   "metadata": {},
   "source": [
    "***Individual*** means that you do it yourself. You won't learn to code if you don't ***struggle for yourself*** and  ***write your own*** code. Remember that while you can discuss the general (algorithmic) way to solve a problem, you should ***not*** even be looking at anyone else's code or showing anyone else your code for an individual assignment.  \n",
    "Review the **Group Work** guidelines on Cavas and/or ask an instructor if you have any questions."
   ]
  },
  {
   "cell_type": "markdown",
   "metadata": {},
   "source": [
    "## Programming Practice"
   ]
  },
  {
   "cell_type": "markdown",
   "metadata": {},
   "source": [
    "Be sure to spell all function names ***correctly*** - misspelled functions will lose points (and often break anyway since no one is sure what to type to call it). If you prefer showing your earlier, scratch work as you figure out what you are doing, please be sure that you make a final, complete, correct last function in its own cell that you then call several times to test. In other words, separate your thought process/working versions from the final one (a comment that tells us which is the final version would be lovely).\n",
    "\n",
    "Every function should have ***at least*** a docstring at the start that states what it does (see _Lesson3 Team Notebook_ if you need a reminder). Make other comments as necessary.  \n",
    "\n",
    "Make sure that you are running ***test cases (plural)*** for everything and commenting on the results in markdown. Your comments should discuss how you know that the test case results are correct."
   ]
  },
  {
   "cell_type": "markdown",
   "metadata": {},
   "source": [
    "## part 1:  Simulating Dice"
   ]
  },
  {
   "cell_type": "markdown",
   "metadata": {},
   "source": [
    "**A. Before you code**, provide:\n",
    "\n",
    "+ an equation that will take the output from `random.random` and return a *floating-point number* between 1 and 7 (based on your answers to the Lesson 17 pre-activity)\n",
    "+ a way in Python how you can convert a *floating-point number* to an *integer*. Will your method round or truncate the floating-point number?\n",
    "+ an explanation how you would test your dice function to make sure it works correctly"
   ]
  },
  {
   "cell_type": "markdown",
   "metadata": {},
   "source": []
  },
  {
   "cell_type": "markdown",
   "metadata": {},
   "source": [
    "**B. Define a `dice` function that:**\n",
    "+ takes no parameters and \n",
    "+ returns a number between 1 and 6\n",
    "+ your `dice` function should: \n",
    "    + use the python `random.random` function\n",
    "    + start by converting the range from [0, 1) to [1, 7)\n",
    "    + convert the floating-point number between [1, 7) to an integer between 1 and 6\n",
    "    + ***not print*** anything in its final version, if you use prints to help you debug, you should comment them out once your function works correctly.\n",
    "\n",
    "Start by having your `dice` function return a floating-point number between [1, 7) and be sure it works properly before trying to get your code to return an integer. "
   ]
  },
  {
   "cell_type": "markdown",
   "metadata": {},
   "source": [
    "**C. Define a `roll_dice_repeat` function that:**\n",
    "+ takes one parameter `n`, which is the number of random numbers to generate \n",
    "+ returns a list of six values, where each value is the number of times each integer is generated\n",
    "+ your `roll_dice_repeat` function should: \n",
    "    + call your `dice` function repeatedly\n",
    "    + keep track of the number of times each integer (1 through 6) is generated\n",
    "    + The first position in the returned list should represent how many times a 1 is rolled, and the sixth position in the list should represent how many times a 6 is rolled\n",
    "    + ***not print*** anything in its final version, if you use prints to help you debug, you should comment them out once your function works correctly.\n",
    "    \n",
    "After you have this function working, run this function and then comment on the results. How do the results convince you that your `dice` function works?"
   ]
  },
  {
   "cell_type": "markdown",
   "metadata": {},
   "source": [
    "## part 2: Graphing Random Numbers"
   ]
  },
  {
   "cell_type": "markdown",
   "metadata": {},
   "source": [
    "**D. Define a `binning` function that:**\n",
    "+ takes two parameters: \n",
    "    + `n` (the number of random numbers to generate) and \n",
    "    + `m` (the number of intervals to divide the range of floating point numbers)\n",
    "+ returns a list with the number of entries in each interval (or bin).\n",
    "+ your `binning` function should: \n",
    "    + call the Python `random.random` function `n` times\n",
    "    + divide the floating point numbers [0, 1) into a range of `m` intervals\n",
    "    + keep track of the number of random numbers that fall into each range\n",
    "    + ***not print*** anything in its final version, if you use prints to help you debug, you should comment them out once your function works correctly.\n",
    "    \n",
    "*Note:* This new `binning` function should be a more general version of your functions from part 1, so the pseudocode for this `binning` function is almost identical to what you have implemented in part 1 (although in one function instead of two). Whereas the `dice` function always divided the range of floating point numbers [1, 7) into a range of six intervals [1, 6], the `binning` function should call `random.random` `n` times and convert the numbers from a floating-point number between [0, 1) to an integer between [1, m]. \n",
    "\n",
    "After running the `binning` function repeatedly, **describe** the type of the distribution observed for the random numbers generated, i.e., is there a pattern/trend for the number of random values in each interval?\n"
   ]
  },
  {
   "cell_type": "markdown",
   "metadata": {},
   "source": [
    "**E. Write a `graphical_binning` function that:**\n",
    "+ takes two parameters (n and m)\n",
    "+ returns nothing\n",
    "+ your `graphical_binning` function should: \n",
    "    + call the `binning` function\n",
    "    + use Python code to graphically plot your binning results\n",
    "    + ***not print*** anything in its final version, if you use prints to help you debug, you should comment them out once your function works correctly.\n",
    "\n",
    "\n",
    "Refer back to the Lesson 17 team to review how to make graphs/plots."
   ]
  },
  {
   "cell_type": "markdown",
   "metadata": {
    "scrolled": true
   },
   "source": [
    "**F. Modify the `graphical_binning` function.** The `graphical_binning` function from the last step will make it easier to quickly create plots using different input parameters for comparison. However before making any comparisons, you should ***normalize*** the range of output values so that the sum of all intervals is the same regardless of the value of `n`.  \n",
    "\n",
    "The easiest way to do this is to divide the number of elements in each bin by the total number of values generated.  This ensures that the sum of the elements for all bins is 1, and the value for each bin is limited to the range of 0 to 1.  Modify your binning function so that the output list is normalized.\n"
   ]
  },
  {
   "cell_type": "markdown",
   "metadata": {
    "scrolled": true
   },
   "source": [
    "**G. Run and test your `graphical_binning` function** to demonstrate that it meets all of the criteria above. ***Make sure to comment*** on your results."
   ]
  },
  {
   "cell_type": "code",
   "execution_count": null,
   "metadata": {
    "collapsed": true
   },
   "outputs": [],
   "source": []
  }
 ],
 "metadata": {
  "anaconda-cloud": {},
  "kernelspec": {
   "display_name": "Python 3",
   "language": "python",
   "name": "python3"
  },
  "language_info": {
   "codemirror_mode": {
    "name": "ipython",
    "version": 3
   },
   "file_extension": ".py",
   "mimetype": "text/x-python",
   "name": "python",
   "nbconvert_exporter": "python",
   "pygments_lexer": "ipython3",
   "version": "3.6.1"
  }
 },
 "nbformat": 4,
 "nbformat_minor": 1
}
