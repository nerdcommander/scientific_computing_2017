{
 "cells": [
  {
   "cell_type": "markdown",
   "metadata": {
    "collapsed": true
   },
   "source": [
    "# Unit 3: Simulation\n",
    "## Lesson 17: Random Numbers - Pre-activity "
   ]
  },
  {
   "cell_type": "markdown",
   "metadata": {},
   "source": [
    "### Scientific Context: Random processes and modeling"
   ]
  },
  {
   "cell_type": "markdown",
   "metadata": {},
   "source": [
    "A digital computer is a distinctly nonrandom device.  Random numbers, however, are frequently needed to describe, sample, model, and simulate physical systems.  Stochastic (fancy nerd word for random) simulations mimic or replicate the behavior of a system by using random sampling to obtain a statistical representation of all possible outcomes.  \n",
    "\n",
    "A random number generator is a function that returns a different and statistically random number each time it is called.  Two methods can be used to generate random numbers. One measures some physical phenomenon that is expected to be random such as the time between clicks in a Geiger counter near a radioactive sample. The other uses a mathematical relationship that produces a long sequence of apparently random results. Since the latter process is based on deterministic algorithm, the number sequence is more accurately described as pseudorandom since its output is inherently predictable.  \n",
    "\n",
    "There are a number of important and desirable features of a random number generator.  \n",
    "It should be:\n",
    "+ reproducible with a very large period (the number of calls before a particular sequence repeats itself)\n",
    "+ efficient (not take a lot of memory/cpu time),\n",
    "+ machine independent, and\n",
    "+ satisfy a number of known statistical tests for randomness. "
   ]
  },
  {
   "cell_type": "markdown",
   "metadata": {},
   "source": [
    "### a note about mathematical notation"
   ]
  },
  {
   "cell_type": "markdown",
   "metadata": {},
   "source": [
    "An interval inside parentheses, does not contain the endpoints - e.g. (0,1) goes from (but not including) 0 to (and not including 1. (this is called an _open_ interval)   \n",
    "\n",
    "Whereas an interval inside square brackets, inlcudes the endpoints - e.g. [0,1] is from 0 to 1 including 0 and 1 (this is called a _closed_ interval).  \n",
    "\n",
    "Intervals with one bracket and one parenthesis are _half-open_ - e.g. [0,1) includes zero but not 1.  \n",
    "\n",
    "check this link for more info: \n",
    "https://en.wikipedia.org/wiki/Interval_(mathematics)#Terminology"
   ]
  },
  {
   "cell_type": "markdown",
   "metadata": {},
   "source": [
    "### Pre-Activity Questions"
   ]
  },
  {
   "cell_type": "markdown",
   "metadata": {},
   "source": [
    "**1\\.** Assume you are given a random number generator designed to produce a series of floating point numbers in the range [0, 1)...  \n",
    "**1a.** Describe the math necessary to convert the range [0, 1) to [0, 9). Your answer should be given in a markdown cell, not Python code."
   ]
  },
  {
   "cell_type": "markdown",
   "metadata": {},
   "source": [
    "**1b.** Describe the math necessary to convert the range [0, 1) to [10, 19)."
   ]
  },
  {
   "cell_type": "markdown",
   "metadata": {},
   "source": [
    "**1c.** Describe the math necessary to convert the range [0, 1) to [low, high). (general case)"
   ]
  },
  {
   "cell_type": "markdown",
   "metadata": {
    "collapsed": true
   },
   "source": [
    "**2a.** Import the following packages:\n",
    "```python\n",
    "import numpy as np\n",
    "import scipy\n",
    "import matplotlib as mp\n",
    "```"
   ]
  },
  {
   "cell_type": "code",
   "execution_count": null,
   "metadata": {
    "collapsed": true
   },
   "outputs": [],
   "source": []
  },
  {
   "cell_type": "markdown",
   "metadata": {},
   "source": [
    "**2b.** Check the version of each of the packages above, using the following code:\n",
    "```python\n",
    "package_name.__version__ # note the double underscores!\n",
    "```"
   ]
  },
  {
   "cell_type": "code",
   "execution_count": null,
   "metadata": {
    "collapsed": true
   },
   "outputs": [],
   "source": []
  }
 ],
 "metadata": {
  "anaconda-cloud": {},
  "kernelspec": {
   "display_name": "Python [default]",
   "language": "python",
   "name": "python3"
  },
  "language_info": {
   "codemirror_mode": {
    "name": "ipython",
    "version": 3
   },
   "file_extension": ".py",
   "mimetype": "text/x-python",
   "name": "python",
   "nbconvert_exporter": "python",
   "pygments_lexer": "ipython3",
   "version": "3.5.2"
  }
 },
 "nbformat": 4,
 "nbformat_minor": 1
}
