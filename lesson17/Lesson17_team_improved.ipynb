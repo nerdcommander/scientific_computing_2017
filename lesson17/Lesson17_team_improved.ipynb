{
 "cells": [
  {
   "cell_type": "markdown",
   "metadata": {},
   "source": [
    "# Unit 3: Simulation"
   ]
  },
  {
   "cell_type": "markdown",
   "metadata": {},
   "source": [
    "## Lesson 17: Random processes, modeling, and plotting"
   ]
  },
  {
   "cell_type": "markdown",
   "metadata": {},
   "source": [
    "## Notebook Authors "
   ]
  },
  {
   "cell_type": "markdown",
   "metadata": {},
   "source": [
    "_(fill in your two names here)_"
   ]
  },
  {
   "cell_type": "markdown",
   "metadata": {},
   "source": [
    "Facilitator: _(fill in name)_  \n",
    "Spokesperson: _(fill in name)_  \n",
    "Process Analyst: _(fill in name)_  \n",
    "Quality Control: _(fill in name)_  \n",
    "\n",
    "If there are only three people in your group, have one person serve as both spokesperson and process analyst for the rest of this activity.  \n",
    "\n",
    "At the end of this Lesson, you will be asked to record how long each Model required for your team. The Facilitator should keep track of time for your team."
   ]
  },
  {
   "cell_type": "markdown",
   "metadata": {},
   "source": [
    "## Computational Focus: Random Numbers"
   ]
  },
  {
   "cell_type": "markdown",
   "metadata": {},
   "source": [
    "### Model 0: Context"
   ]
  },
  {
   "cell_type": "markdown",
   "metadata": {},
   "source": [
    "0\\. ***Explain*** one application of computer generated random numbers to your field of science."
   ]
  },
  {
   "cell_type": "markdown",
   "metadata": {},
   "source": [
    "### Model 1: Python Random Number Generator\n",
    "\n",
    "***Type the following*** into a Jupyter code cell:\n",
    "```python \n",
    "import random\n",
    "for i in range(10):\n",
    "    print(random.random())\n",
    "```"
   ]
  },
  {
   "cell_type": "markdown",
   "metadata": {},
   "source": [
    "### Critical Thinking Questions"
   ]
  },
  {
   "cell_type": "markdown",
   "metadata": {},
   "source": [
    "1\\. What is the smallest value printed? The largest value printed?"
   ]
  },
  {
   "cell_type": "markdown",
   "metadata": {},
   "source": [
    "2\\. If you run the for-loop a second time, is the same series of numbers generated?  If not, what is the new range (min and max) of values?"
   ]
  },
  {
   "cell_type": "markdown",
   "metadata": {},
   "source": [
    "3\\. After repeating the for-loop a number of times, describe (to the best of your ability) the range of numbers returned by the random function."
   ]
  },
  {
   "cell_type": "markdown",
   "metadata": {},
   "source": [
    "4\\. Based on the output returned by the random function, describe (to the best of your ability) the nature of the distribution of numbers generated. (Do they appear clustered around a particular value, or are they spread out uniformly over the range?)  "
   ]
  },
  {
   "cell_type": "markdown",
   "metadata": {},
   "source": [
    "### Model 2: Plotting"
   ]
  },
  {
   "cell_type": "markdown",
   "metadata": {},
   "source": [
    "In the previous model, we evaluated the output of our function by simply looking at list of numbers.  In order to visually assess important numerical relationships, it is often helpful to create graphical displays of our data.  `matplotlib` is a library for making 2D plots in python.  `matplotlib` is a powerful and flexible object-oriented library, which makes it both useful and complex. To simplify some basic plots, we will make use of the `pyplot` interface that works on top of `matplotlib` and makes it easier to make plots more quickly.    \n",
    "\n",
    "Here are some links to the documentation:\n",
    "+ [matplotlib docs](http://matplotlib.org/)\n",
    "+ [pyplot docs](http://matplotlib.org/api/pyplot_api.html)\n"
   ]
  },
  {
   "cell_type": "code",
   "execution_count": null,
   "metadata": {
    "collapsed": true
   },
   "outputs": [],
   "source": [
    "def rand_mod2():\n",
    "    \"\"\"\n",
    "    produces a histogram of 10 random numbers\n",
    "    \"\"\"\n",
    "    import random\n",
    "    import matplotlib.pyplot as plt \n",
    "    numbers=[]\n",
    "    for i in range(10):\n",
    "        numbers.append(random.random())\n",
    "    plt.hist(numbers,10)\n",
    "    plt.show()"
   ]
  },
  {
   "cell_type": "code",
   "execution_count": null,
   "metadata": {
    "collapsed": true
   },
   "outputs": [],
   "source": [
    "rand_mod2()"
   ]
  },
  {
   "cell_type": "markdown",
   "metadata": {},
   "source": [
    "### Critical Thinking Questions"
   ]
  },
  {
   "cell_type": "markdown",
   "metadata": {},
   "source": [
    "5\\. What would be appropriate labels of the x and y axis for the plot that displays?"
   ]
  },
  {
   "cell_type": "markdown",
   "metadata": {},
   "source": [
    "6a. In the cell below, modify the code in `rand_mod2()`, so that it increases the number of random numbers generated and plotted. Comment all changes and run an example."
   ]
  },
  {
   "cell_type": "code",
   "execution_count": null,
   "metadata": {
    "collapsed": true
   },
   "outputs": [],
   "source": [
    "## new code with comments\n"
   ]
  },
  {
   "cell_type": "code",
   "execution_count": null,
   "metadata": {
    "collapsed": true
   },
   "outputs": [],
   "source": [
    "## example\n"
   ]
  },
  {
   "cell_type": "markdown",
   "metadata": {},
   "source": [
    "6b. Describe how the output plot generated changes when you increase the number of random numbers plotted."
   ]
  },
  {
   "cell_type": "markdown",
   "metadata": {
    "collapsed": true
   },
   "source": [
    "7\\. Describe how the output plot generated changes when you increase the value of the second parameter of the `pyplot` `hist()` method."
   ]
  },
  {
   "cell_type": "code",
   "execution_count": null,
   "metadata": {
    "collapsed": true
   },
   "outputs": [],
   "source": [
    "## code, change second parameter plt.hist()\n"
   ]
  },
  {
   "cell_type": "markdown",
   "metadata": {},
   "source": []
  },
  {
   "cell_type": "markdown",
   "metadata": {},
   "source": [
    "8a. Consider again your answer to question 4 (the last question in the previous model).  Based on the plot of the output returned by the random function, how does visualization of this data impact your original assessment of the nature of the distribution?"
   ]
  },
  {
   "cell_type": "markdown",
   "metadata": {},
   "source": [
    "8b. Use the `rand_mod2()` code to demonstrate."
   ]
  },
  {
   "cell_type": "code",
   "execution_count": null,
   "metadata": {
    "collapsed": true
   },
   "outputs": [],
   "source": []
  },
  {
   "cell_type": "markdown",
   "metadata": {},
   "source": [
    "9\\. In general, describe what the `pyplot.hist()` method does with the series of random numbers to create this type of display."
   ]
  },
  {
   "cell_type": "markdown",
   "metadata": {},
   "source": [
    "### Model 3: Data and graph types"
   ]
  },
  {
   "cell_type": "markdown",
   "metadata": {},
   "source": [
    "Before we get too far in making different types of graphs, we should consider what the correct type of graph might be for the data that we have. Table 1 below is a handy reference for appropriate graph types based on data type. \n",
    "\n",
    "\n",
    "### Table 1\n",
    "![graph recs](https://raw.githubusercontent.com/nerdcommander/scientific_computing_2017/340cdac56821c51db4a21ec0fca927950ac4f1a7/lesson17/graphing_recs.png)"
   ]
  },
  {
   "cell_type": "markdown",
   "metadata": {},
   "source": [
    "### Critical Thinking Questions"
   ]
  },
  {
   "cell_type": "markdown",
   "metadata": {},
   "source": [
    "10\\. Explain why it is appropriate that we used histograms to plot the results of our random number simulations in Model2."
   ]
  },
  {
   "cell_type": "markdown",
   "metadata": {},
   "source": [
    "11\\. Run the code below to bring in the `genotype_height_weight.csv` data set (make sure the data is in the same directory as this notebook, or change the path below):  "
   ]
  },
  {
   "cell_type": "code",
   "execution_count": null,
   "metadata": {
    "collapsed": true
   },
   "outputs": [],
   "source": [
    "import pandas as pd\n",
    "data = pd.read_csv('genotype_height_weight.csv')\n",
    "data.head()"
   ]
  },
  {
   "cell_type": "markdown",
   "metadata": {},
   "source": [
    "12a. What are the variable types in the data set? Justify your answers."
   ]
  },
  {
   "cell_type": "markdown",
   "metadata": {},
   "source": [
    "12b. What are the python data types of the variables in the data set? Use code to justify your answer."
   ]
  },
  {
   "cell_type": "markdown",
   "metadata": {},
   "source": [
    "13\\. If you wanted to see how many of each genotype there are, what type of graph would you make? Justify your answer."
   ]
  },
  {
   "cell_type": "markdown",
   "metadata": {},
   "source": [
    "14\\. If you wanted to see what the distribution of both height and weight, what type of graph would you make? Justify your answer."
   ]
  },
  {
   "cell_type": "markdown",
   "metadata": {},
   "source": [
    "### Model 4: More plotting"
   ]
  },
  {
   "cell_type": "markdown",
   "metadata": {},
   "source": [
    "We will use various methods of the matplotlib library to visualize data in a variety of different ways.  First we will consider the correct chart/graph types for different kinds of data. Then we will work through a few more examples of useful plots that can be created using `matplotlib`, `pyplot`, and if you have a DataFrame, `pandas`. \n",
    "\n",
    "Plotting in Python can get pretty complicated since the object oriented `matplotlib` is the basis for most plots, and most of the tools that we use (e.g. `pyplot` and `pandas`) actually sit on top of `matplotlib` and make your life easier (mostly). The advantages of this, are that there are lots of ways to customize plots and simple ones are pretty easy to make, but it can get complicated fast.\n",
    "\n",
    "For example, ***run the code in the cells below***"
   ]
  },
  {
   "cell_type": "code",
   "execution_count": null,
   "metadata": {
    "collapsed": true
   },
   "outputs": [],
   "source": [
    "## displays a simple bar graph\n",
    "import matplotlib.pyplot as plt\n",
    "mylista = [1,2,3,4,5]\n",
    "mylistb = [6,2,3,4,5]\n",
    "plt.bar(mylista, mylistb)\n",
    "plt.show()"
   ]
  },
  {
   "cell_type": "markdown",
   "metadata": {},
   "source": [
    "### Critical Thinking Questions"
   ]
  },
  {
   "cell_type": "markdown",
   "metadata": {},
   "source": [
    "15\\. What does each list in the code above do?   "
   ]
  },
  {
   "cell_type": "markdown",
   "metadata": {},
   "source": [
    "16\\. What happens when you switch the position of the lists in the `plt.bar` call?   "
   ]
  },
  {
   "cell_type": "code",
   "execution_count": null,
   "metadata": {
    "collapsed": true
   },
   "outputs": [],
   "source": []
  },
  {
   "cell_type": "markdown",
   "metadata": {},
   "source": [
    "17\\. Explain what each argument inside plt.bar() does. "
   ]
  },
  {
   "cell_type": "markdown",
   "metadata": {},
   "source": [
    "18a. Experiment making bar charts with the lists below. "
   ]
  },
  {
   "cell_type": "code",
   "execution_count": null,
   "metadata": {
    "collapsed": true
   },
   "outputs": [],
   "source": [
    "## put lists in memory\n",
    "mylistc = [1,2,3,4,5]\n",
    "mylistd = [6,2,3,4,5]"
   ]
  },
  {
   "cell_type": "code",
   "execution_count": null,
   "metadata": {
    "collapsed": true
   },
   "outputs": [],
   "source": [
    "## first, just make a simple bar graph\n"
   ]
  },
  {
   "cell_type": "code",
   "execution_count": null,
   "metadata": {
    "collapsed": true
   },
   "outputs": [],
   "source": [
    "## expt 1\n"
   ]
  },
  {
   "cell_type": "code",
   "execution_count": null,
   "metadata": {
    "collapsed": true
   },
   "outputs": [],
   "source": [
    "## expt 2\n"
   ]
  },
  {
   "cell_type": "markdown",
   "metadata": {},
   "source": [
    "18b. what happens when the lists are different lengths? (run code, leave results, write interpretation) "
   ]
  },
  {
   "cell_type": "markdown",
   "metadata": {},
   "source": [
    "18c. what happens when items in a list repeats? (you need to consider/test/interpret 2 different scenarios - 1. when the list that is the first parameter repeats, 2. when the list that is the second parameter repeats - but in both cases the lists need to be the same length)"
   ]
  },
  {
   "cell_type": "markdown",
   "metadata": {},
   "source": [
    "### shaping up our plots\n",
    "below is a more realistic and sensibly labled bar chart:"
   ]
  },
  {
   "cell_type": "code",
   "execution_count": null,
   "metadata": {
    "collapsed": true
   },
   "outputs": [],
   "source": [
    "## displays a slightly more complex\n",
    "## and better labeled bar graph\n",
    "cat = ['A', 'B', 'C', 'D', 'E'] # data categories\n",
    "xcat = range(5) # x-axis \"markers\" - category order\n",
    "count = [6,2,3,4,5] # heights of bars in order\n",
    "plt.bar(xcat,count, align='center') # make plot with x-axis, markers centered\n",
    "plt.xticks(xcat, cat) # relabel with real categories\n",
    "plt.title('title')\n",
    "plt.xlabel('x axis')\n",
    "plt.ylabel('y axis')\n",
    "plt.show() # draw the plot"
   ]
  },
  {
   "cell_type": "markdown",
   "metadata": {},
   "source": [
    "19\\. What is the difference between `cat` and `xcat`? Why do we need both?"
   ]
  },
  {
   "cell_type": "markdown",
   "metadata": {},
   "source": [
    "20\\. Explain what happens if you change the order of the values in `cat`?  "
   ]
  },
  {
   "cell_type": "markdown",
   "metadata": {},
   "source": [
    "21\\. Copy, paste, and modify the code above to plot a barchart of the count of the three different genotypes in the `genotype_height_weight.csv` dataset (remember we brought it into memory above as the `data` DataFrame. (hint: if you remember back to the `pandas` lesson, `df.col_name.value_counts()` will count the values in a column (it returns a Series))"
   ]
  },
  {
   "cell_type": "code",
   "execution_count": null,
   "metadata": {
    "collapsed": true
   },
   "outputs": [],
   "source": []
  },
  {
   "cell_type": "markdown",
   "metadata": {},
   "source": [
    "22\\. Explain why a bar chart is an acceptable type of graph for this data visualization."
   ]
  },
  {
   "cell_type": "markdown",
   "metadata": {
    "collapsed": true
   },
   "source": [
    "### plotting with `pandas`  \n",
    "The `pandas` library has some great, quick plotting tools for `Series` and `DataFrames`. These functions sit on top of `matplotlib` and just ease the use of DataFrames and columns from DataFrames as input for some useful chart types. The nice thing about this is that `panda'` feeds the data to `matplotlib` in a way that it can use it, and we can still use the formatting syntax that we've learned for `matplotlib` to make labels and titles (rather than having to learn a whole new, `pandas` specific one.  \n",
    "\n",
    "This part of the `pandas` docs has a lot of good info on making graphs:  \n",
    "http://pandas.pydata.org/pandas-docs/stable/visualization.html  \n",
    "\n",
    "***run*** the code below:"
   ]
  },
  {
   "cell_type": "code",
   "execution_count": null,
   "metadata": {
    "collapsed": true
   },
   "outputs": [],
   "source": [
    "## makes the genotype bar chart\n",
    "%matplotlib inline\n",
    "data.genotype.value_counts().plot.bar()\n",
    "plt.title('genotype count')\n",
    "plt.xlabel('genotype')\n",
    "plt.ylabel('count')\n",
    "plt.xticks(rotation='horizontal')"
   ]
  },
  {
   "cell_type": "markdown",
   "metadata": {},
   "source": [
    "22\\. Does this graph match the one you made above? Look carefully... Explain differences and/or why we would ask this question (what is the advantage of the `pandas` version of this plot)"
   ]
  },
  {
   "cell_type": "markdown",
   "metadata": {},
   "source": [
    "23a. `pandas` tries to only use the appropriate data types for the plot type that you pick. In the example below, we pass the entire DataFrame to the `plot.box()`, which variable does it leave out and why?."
   ]
  },
  {
   "cell_type": "code",
   "execution_count": null,
   "metadata": {
    "collapsed": true
   },
   "outputs": [],
   "source": [
    "## run this code\n",
    "data.plot.box()"
   ]
  },
  {
   "cell_type": "markdown",
   "metadata": {},
   "source": [
    "23b. This plot still looks like crap. Explain why this is **not** an appropriate graph?"
   ]
  },
  {
   "cell_type": "markdown",
   "metadata": {},
   "source": [
    "23c. Make and explain a much more appropriate graph to visualize the distribution of these 2 columns."
   ]
  },
  {
   "cell_type": "markdown",
   "metadata": {},
   "source": [
    "24a. What type of graph would show the possible relationship of weight and height?"
   ]
  },
  {
   "cell_type": "markdown",
   "metadata": {},
   "source": [
    "24b. Make a graph that uses the `data` DataFrame to visualize the potential relationship of weight to height (height is the explanatory variable and weight is the response variable in this case and the response variable is on the y-axis by convention). Hint:\n",
    "```python\n",
    "df.plot.scatter(x='x_col', y='y_col')\n",
    "```"
   ]
  },
  {
   "cell_type": "markdown",
   "metadata": {},
   "source": [
    "24c. Label the scatter plot with better labels on both axes and a title."
   ]
  },
  {
   "cell_type": "markdown",
   "metadata": {},
   "source": [
    "### Temporal Analysis Report"
   ]
  },
  {
   "cell_type": "markdown",
   "metadata": {},
   "source": [
    "How much time did it require for your team to complete each Model?"
   ]
  },
  {
   "cell_type": "markdown",
   "metadata": {},
   "source": [
    "Model 1: "
   ]
  },
  {
   "cell_type": "markdown",
   "metadata": {},
   "source": [
    "Model 2:"
   ]
  },
  {
   "cell_type": "markdown",
   "metadata": {},
   "source": [
    "Model 3:"
   ]
  },
  {
   "cell_type": "markdown",
   "metadata": {},
   "source": [
    "Model 4:"
   ]
  }
 ],
 "metadata": {
  "anaconda-cloud": {},
  "kernelspec": {
   "display_name": "Python 3",
   "language": "python",
   "name": "python3"
  },
  "language_info": {
   "codemirror_mode": {
    "name": "ipython",
    "version": 3
   },
   "file_extension": ".py",
   "mimetype": "text/x-python",
   "name": "python",
   "nbconvert_exporter": "python",
   "pygments_lexer": "ipython3",
   "version": "3.6.1"
  }
 },
 "nbformat": 4,
 "nbformat_minor": 2
}
